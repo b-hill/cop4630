{
  "nbformat": 4,
  "nbformat_minor": 0,
  "metadata": {
    "colab": {
      "name": "hw4_p1.ipynb",
      "provenance": [],
      "collapsed_sections": [],
      "authorship_tag": "ABX9TyPXIP8u0vsK4kuYwH+xT/jU",
      "include_colab_link": true
    },
    "kernelspec": {
      "name": "python3",
      "display_name": "Python 3"
    }
  },
  "cells": [
    {
      "cell_type": "markdown",
      "metadata": {
        "id": "view-in-github",
        "colab_type": "text"
      },
      "source": [
        "<a href=\"https://colab.research.google.com/github/b-hill/cop4630/blob/master/hw4_p1.ipynb\" target=\"_parent\"><img src=\"https://colab.research.google.com/assets/colab-badge.svg\" alt=\"Open In Colab\"/></a>"
      ]
    },
    {
      "cell_type": "markdown",
      "metadata": {
        "id": "RMysEQ5VU-kV",
        "colab_type": "text"
      },
      "source": [
        "### Imports + Seed"
      ]
    },
    {
      "cell_type": "code",
      "metadata": {
        "id": "zThsRerUyiVs",
        "colab_type": "code",
        "colab": {}
      },
      "source": [
        "import numpy as np\n",
        "np.random.seed(0)"
      ],
      "execution_count": 0,
      "outputs": []
    },
    {
      "cell_type": "markdown",
      "metadata": {
        "id": "T7TR5BfbC4uZ",
        "colab_type": "text"
      },
      "source": [
        "### Exceptions "
      ]
    },
    {
      "cell_type": "code",
      "metadata": {
        "id": "71s49xlVC8WS",
        "colab_type": "code",
        "colab": {}
      },
      "source": [
        "class MatrixTypeError(Exception):\n",
        "  def __init__(self, error):\n",
        "    self.error = error\n",
        "\n",
        "class ShapeError(Exception):\n",
        "  def __init__(self, error):\n",
        "    self.error = error\n",
        "\n",
        "class SizeError(Exception):\n",
        "  def __init__(self, error):\n",
        "    self.error = error"
      ],
      "execution_count": 0,
      "outputs": []
    },
    {
      "cell_type": "markdown",
      "metadata": {
        "id": "AH2w2X5KVJoZ",
        "colab_type": "text"
      },
      "source": [
        "### 2D Convolution "
      ]
    },
    {
      "cell_type": "code",
      "metadata": {
        "id": "cYdBGnu5yo9v",
        "colab_type": "code",
        "colab": {}
      },
      "source": [
        "# perform 2d convolution, all matrices are square with even or odd size\n",
        "# does NOT pad edges of input with zeros so output is usually smaller than input\n",
        "def conv2d(input_mat, kernal_mat):\n",
        "\n",
        "  # check arg types\n",
        "  if type(input_mat) is not np.ndarray:\n",
        "    raise MatrixTypeError ('arg input_mat is not an ndarray')\n",
        "  if type(kernal_mat) is not np.ndarray:\n",
        "    raise MatrixTypeError ('arg kernal_mat is not an ndarray')\n",
        "\n",
        "  # get arg shapes\n",
        "  s_k = kernal_mat.shape[0]\n",
        "  s_i = input_mat.shape[0]\n",
        "\n",
        "  # check dim\n",
        "  if len(input_mat.shape) != 2:\n",
        "    raise ShapeError ('arg input_mat is not 2D')\n",
        "  if len(kernal_mat.shape) != 2:\n",
        "    raise ShapeError ('arg kernal_mat is not 2D')\n",
        "\n",
        "  # check if square\n",
        "  if input_mat.shape[0] != input_mat.shape[1]:\n",
        "    raise ShapeError ('arg input_mat is not square')\n",
        "  if kernal_mat.shape[0] != kernal_mat.shape[1]:\n",
        "    raise ShapeError ('arg kernal_mat is not square')\n",
        "\n",
        "  # check if sizes are compatible \n",
        "  if s_k > s_i:\n",
        "    raise SizeError('arg kernal_mat is of greater size than arg input_mat')\n",
        "\n",
        "  # calc out shape\n",
        "  s_o = s_i - s_k + 1\n",
        "\n",
        "  # init out matrix\n",
        "  output_mat = np.zeros((s_o, s_o))\n",
        "\n",
        "  # flip\n",
        "  # without this operation its just a correaltion, not a convolution\n",
        "  kernal_mat = np.flip(kernal_mat)\n",
        "\n",
        "  # convolve \n",
        "  for i in range(s_o):\n",
        "    for j in range(s_o):\n",
        "      output_mat[i][j] = np.sum(input_mat[i:i+s_k, j:j+s_k] * kernal_mat)\n",
        "\n",
        "  return output_mat"
      ],
      "execution_count": 0,
      "outputs": []
    },
    {
      "cell_type": "markdown",
      "metadata": {
        "id": "1xldIaR0Vhvs",
        "colab_type": "text"
      },
      "source": [
        "## Implementation"
      ]
    },
    {
      "cell_type": "markdown",
      "metadata": {
        "id": "JVeMKgFsVk9L",
        "colab_type": "text"
      },
      "source": [
        "### Arg generation"
      ]
    },
    {
      "cell_type": "code",
      "metadata": {
        "id": "fcoLFdet2mtG",
        "colab_type": "code",
        "colab": {}
      },
      "source": [
        "input_mat = np.random.randint(-3, 3, size=(7,7))\n",
        "kernal_mat = np.random.randint(-3, 3, size=(3,3))"
      ],
      "execution_count": 0,
      "outputs": []
    },
    {
      "cell_type": "markdown",
      "metadata": {
        "id": "zi_hqlWqVp-I",
        "colab_type": "text"
      },
      "source": [
        "### Testing"
      ]
    },
    {
      "cell_type": "code",
      "metadata": {
        "id": "kpGM9X6k3Lit",
        "colab_type": "code",
        "outputId": "652f8de7-0a0e-41f6-db31-aaf6ebdbb259",
        "colab": {
          "base_uri": "https://localhost:8080/",
          "height": 102
        }
      },
      "source": [
        "conv = conv2d(input_mat, kernal_mat)\n",
        "print(conv)"
      ],
      "execution_count": 32,
      "outputs": [
        {
          "output_type": "stream",
          "text": [
            "[[-15. -23. -16.  -8.  -9.]\n",
            " [-11. -17.  -3.   7.   6.]\n",
            " [-12. -15.   1.   9.   6.]\n",
            " [-15. -23. -11.   6.   3.]\n",
            " [ -9. -17. -12.   1.  -2.]]\n"
          ],
          "name": "stdout"
        }
      ]
    }
  ]
}
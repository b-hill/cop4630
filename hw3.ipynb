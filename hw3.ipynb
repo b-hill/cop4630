{
  "nbformat": 4,
  "nbformat_minor": 0,
  "metadata": {
    "colab": {
      "name": "hw3.ipynb",
      "provenance": [],
      "collapsed_sections": [],
      "include_colab_link": true
    },
    "kernelspec": {
      "name": "python3",
      "display_name": "Python 3"
    }
  },
  "cells": [
    {
      "cell_type": "markdown",
      "metadata": {
        "id": "view-in-github",
        "colab_type": "text"
      },
      "source": [
        "<a href=\"https://colab.research.google.com/github/b-hill/cop4630/blob/master/hw3.ipynb\" target=\"_parent\"><img src=\"https://colab.research.google.com/assets/colab-badge.svg\" alt=\"Open In Colab\"/></a>"
      ]
    },
    {
      "cell_type": "markdown",
      "metadata": {
        "id": "gEcMBWN5X4oc",
        "colab_type": "text"
      },
      "source": [
        "# HW 3"
      ]
    },
    {
      "cell_type": "markdown",
      "metadata": {
        "id": "iATp3SAmZh94",
        "colab_type": "text"
      },
      "source": [
        "References: [This notebook](https://github.com/Benlau93/Machine-Learning-by-Andrew-Ng-in-Python/blob/master/LogisticRegression/ML_LogisticRegression.ipynb) greatly helped understand how to build logistic regression from scratch. Its modified a bit to be easier to understand and leasves out some parameters we dont need. "
      ]
    },
    {
      "cell_type": "markdown",
      "metadata": {
        "id": "eTw_DcxBX-jT",
        "colab_type": "text"
      },
      "source": [
        "### Imports"
      ]
    },
    {
      "cell_type": "code",
      "metadata": {
        "id": "HLapu0K6lT9B",
        "colab_type": "code",
        "colab": {
          "base_uri": "https://localhost:8080/",
          "height": 71
        },
        "outputId": "90e1998a-d26f-4744-f651-193303f8a636"
      },
      "source": [
        "import pandas as pd\n",
        "import random\n",
        "import numpy as np\n",
        "import matplotlib.pyplot as plt\n",
        "import seaborn as sns\n",
        "import tensorflow as tf\n",
        "from sklearn.model_selection import train_test_split\n",
        "from tensorflow.python.keras.models import Sequential\n",
        "from tensorflow.python.keras.layers import Dense"
      ],
      "execution_count": 1,
      "outputs": [
        {
          "output_type": "stream",
          "text": [
            "/usr/local/lib/python3.6/dist-packages/statsmodels/tools/_testing.py:19: FutureWarning: pandas.util.testing is deprecated. Use the functions in the public API at pandas.testing instead.\n",
            "  import pandas.util.testing as tm\n"
          ],
          "name": "stderr"
        }
      ]
    },
    {
      "cell_type": "markdown",
      "metadata": {
        "id": "tQiafnQcXUZF",
        "colab_type": "text"
      },
      "source": [
        "## Problem 1: Generating the data"
      ]
    },
    {
      "cell_type": "markdown",
      "metadata": {
        "id": "o8wU0ZqDeHTG",
        "colab_type": "text"
      },
      "source": [
        "### Function: get_random_data"
      ]
    },
    {
      "cell_type": "markdown",
      "metadata": {
        "id": "4OxCjt-2YKfp",
        "colab_type": "text"
      },
      "source": [
        "This function generates random data. \n",
        "\n",
        "Config: \n",
        "*   2 features -> shape `(m,2)`\n",
        "*   Binary classification -> shape `(m,1)`\n",
        "*   Populates around a line `w * x + b`\n",
        "*   Direction (up or down) from line determined by class label `c`. \n",
        "*   Distance from line determined by `n` which is number generated from normal distribution defined by `sigma` and `mu`. \n",
        "*   Classes: `c` <- 50/50 boolean\n",
        "*   Feat. 1: `x_1` <- random uniform float [0,1)\n",
        "*   Feat. 2: `x_2` <- `w * x_1 + b + (-1)**c * n`\n",
        "\n",
        "Parameters:\n",
        "*   User entered:\n",
        "  *   `w`: Central line slope\n",
        "  *   `b`: Central line intercept\n",
        "  *   `mu`: Mean of normal distribution\n",
        "  *   `sigma`: Standard deviation of normal distribution\n",
        "  *   `m`: Number of data instances to generate\n",
        "\n",
        "*   Generated: \n",
        "  *   `c`:  Class label, 50/50 boolean\n",
        "  *   `n`:  `np.random.normal(mu, sigma, 1)`\n",
        "\n",
        "\n",
        "\n",
        "\n",
        "\n"
      ]
    },
    {
      "cell_type": "code",
      "metadata": {
        "id": "oN2j_Tl0Vk3F",
        "colab_type": "code",
        "colab": {}
      },
      "source": [
        "def get_random_data(w, b, mu, sigma, m): \n",
        "  \n",
        "  # init dfs\n",
        "  labels = pd.DataFrame()\n",
        "  data = pd.DataFrame()\n",
        "\n",
        "  # fill dfs\n",
        "  for i in range(0, m):\n",
        "\n",
        "    # labels\n",
        "    c = random.choice([0, 1])\n",
        "    row = pd.Series([c], index=['c'])\n",
        "    row_labels = pd.DataFrame([row])\n",
        "    labels = pd.concat([row_labels, labels], ignore_index=True)\n",
        "\n",
        "    # data\n",
        "    x_1 = random.uniform(0,1)\n",
        "    n = np.random.normal(mu, sigma, 1)\n",
        "    x_2 = w * x_1 + b + (-1)**c * n\n",
        "    row = pd.Series([x_1, x_2], index=['x_1', 'x_2'])\n",
        "    row_data = pd.DataFrame([row])\n",
        "    data = pd.concat([row_data, data], ignore_index=True)\n",
        "\n",
        "  return [labels, data]"
      ],
      "execution_count": 0,
      "outputs": []
    },
    {
      "cell_type": "markdown",
      "metadata": {
        "id": "naVQ4o7QeEBs",
        "colab_type": "text"
      },
      "source": [
        "### Manipulate data generation"
      ]
    },
    {
      "cell_type": "code",
      "metadata": {
        "id": "uaD71AFWZnk_",
        "colab_type": "code",
        "colab": {}
      },
      "source": [
        "w = .6\n",
        "b = .8\n",
        "mu = .5\n",
        "sigma = .2\n",
        "m = 1000"
      ],
      "execution_count": 0,
      "outputs": []
    },
    {
      "cell_type": "markdown",
      "metadata": {
        "id": "utuoq1fEe_Sd",
        "colab_type": "text"
      },
      "source": [
        "`labels` contains the features for each row, `x_1` and `x_2`\n",
        "\n",
        "`data` contains the class label for each row, `c`"
      ]
    },
    {
      "cell_type": "code",
      "metadata": {
        "id": "TQ0HY2y9e9k0",
        "colab_type": "code",
        "colab": {}
      },
      "source": [
        "labels, data = get_random_data(w, b, mu, sigma, m)"
      ],
      "execution_count": 0,
      "outputs": []
    },
    {
      "cell_type": "markdown",
      "metadata": {
        "id": "7StyH6T7f7jM",
        "colab_type": "text"
      },
      "source": [
        "Sample of combined data"
      ]
    },
    {
      "cell_type": "code",
      "metadata": {
        "id": "dUEMUoetfeR0",
        "colab_type": "code",
        "outputId": "d275746e-bd41-4176-ecae-00d34fc883f9",
        "colab": {
          "base_uri": "https://localhost:8080/",
          "height": 204
        }
      },
      "source": [
        "main = pd.concat([data, labels], axis=1, ignore_index=True).head()\n",
        "main.columns = ['x_1', 'x_2', 'c']\n",
        "main"
      ],
      "execution_count": 5,
      "outputs": [
        {
          "output_type": "execute_result",
          "data": {
            "text/html": [
              "<div>\n",
              "<style scoped>\n",
              "    .dataframe tbody tr th:only-of-type {\n",
              "        vertical-align: middle;\n",
              "    }\n",
              "\n",
              "    .dataframe tbody tr th {\n",
              "        vertical-align: top;\n",
              "    }\n",
              "\n",
              "    .dataframe thead th {\n",
              "        text-align: right;\n",
              "    }\n",
              "</style>\n",
              "<table border=\"1\" class=\"dataframe\">\n",
              "  <thead>\n",
              "    <tr style=\"text-align: right;\">\n",
              "      <th></th>\n",
              "      <th>x_1</th>\n",
              "      <th>x_2</th>\n",
              "      <th>c</th>\n",
              "    </tr>\n",
              "  </thead>\n",
              "  <tbody>\n",
              "    <tr>\n",
              "      <th>0</th>\n",
              "      <td>0.296192</td>\n",
              "      <td>[0.6477496100078496]</td>\n",
              "      <td>1</td>\n",
              "    </tr>\n",
              "    <tr>\n",
              "      <th>1</th>\n",
              "      <td>0.135574</td>\n",
              "      <td>[0.45418446201880786]</td>\n",
              "      <td>1</td>\n",
              "    </tr>\n",
              "    <tr>\n",
              "      <th>2</th>\n",
              "      <td>0.529237</td>\n",
              "      <td>[1.3764679765686436]</td>\n",
              "      <td>0</td>\n",
              "    </tr>\n",
              "    <tr>\n",
              "      <th>3</th>\n",
              "      <td>0.177661</td>\n",
              "      <td>[0.33989360930502677]</td>\n",
              "      <td>1</td>\n",
              "    </tr>\n",
              "    <tr>\n",
              "      <th>4</th>\n",
              "      <td>0.810931</td>\n",
              "      <td>[0.5952448764143812]</td>\n",
              "      <td>1</td>\n",
              "    </tr>\n",
              "  </tbody>\n",
              "</table>\n",
              "</div>"
            ],
            "text/plain": [
              "        x_1                    x_2  c\n",
              "0  0.296192   [0.6477496100078496]  1\n",
              "1  0.135574  [0.45418446201880786]  1\n",
              "2  0.529237   [1.3764679765686436]  0\n",
              "3  0.177661  [0.33989360930502677]  1\n",
              "4  0.810931   [0.5952448764143812]  1"
            ]
          },
          "metadata": {
            "tags": []
          },
          "execution_count": 5
        }
      ]
    },
    {
      "cell_type": "markdown",
      "metadata": {
        "id": "1NCUpzkGevSe",
        "colab_type": "text"
      },
      "source": [
        "### Function: display_random_data"
      ]
    },
    {
      "cell_type": "markdown",
      "metadata": {
        "id": "iPk7bfF3gLBm",
        "colab_type": "text"
      },
      "source": [
        "2D scatter plot of generated data. \n",
        "\n",
        "*   Blue dots correspond to `c=0`\n",
        "*   Red dots correspond to `c=1`"
      ]
    },
    {
      "cell_type": "code",
      "metadata": {
        "id": "3oMbcmkfgzXa",
        "colab_type": "code",
        "colab": {}
      },
      "source": [
        "def display_random_data(labels, data):\n",
        "  main = pd.concat([data, labels], axis=1, ignore_index=True)\n",
        "  main.columns = ['x_1', 'x_2', 'c']\n",
        "  ax = sns.scatterplot(x=\"x_1\", y=\"x_2\", data=main, hue=\"c\", palette=[\"Blue\", \"Red\"])\n",
        "  ax.plot()"
      ],
      "execution_count": 0,
      "outputs": []
    },
    {
      "cell_type": "code",
      "metadata": {
        "id": "ESOBlrG4gzjm",
        "colab_type": "code",
        "outputId": "3a172b3f-5dbd-4b1a-e3a2-bb7fd0aa8cff",
        "colab": {
          "base_uri": "https://localhost:8080/",
          "height": 280
        }
      },
      "source": [
        "display_random_data(labels, data)"
      ],
      "execution_count": 7,
      "outputs": [
        {
          "output_type": "display_data",
          "data": {
            "image/png": "[encoded data removed]",
            "text/plain": [
              "<Figure size 432x288 with 1 Axes>"
            ]
          },
          "metadata": {
            "tags": []
          }
        }
      ]
    },
    {
      "cell_type": "markdown",
      "metadata": {
        "id": "tVUNCtwohC9A",
        "colab_type": "text"
      },
      "source": [
        "### Split data"
      ]
    },
    {
      "cell_type": "markdown",
      "metadata": {
        "id": "LaaK6EWVhTIv",
        "colab_type": "text"
      },
      "source": [
        "80% of the data is sent to the train set which is used to fit the model. \n",
        "\n",
        "The other 20% of the data is sent ot the test set which is used to judge the accuracy of the model after training. "
      ]
    },
    {
      "cell_type": "code",
      "metadata": {
        "id": "kB3K4OI_8b5o",
        "colab_type": "code",
        "colab": {}
      },
      "source": [
        "x_train, x_test, y_train, y_test = train_test_split(data, labels, test_size=0.2)"
      ],
      "execution_count": 0,
      "outputs": []
    },
    {
      "cell_type": "markdown",
      "metadata": {
        "id": "IfIx-RJshn4W",
        "colab_type": "text"
      },
      "source": [
        "Due to server side change where the default TF version has been updated by google, these changes are needed to prevent type error bugs."
      ]
    },
    {
      "cell_type": "code",
      "metadata": {
        "id": "FQWUPBdK5hDD",
        "colab_type": "code",
        "colab": {}
      },
      "source": [
        "# side affect of tf update from 1.4 to 2.2\n",
        "x_train = np.asarray(x_train).astype(np.float32)\n",
        "x_test = np.asarray(x_test).astype(np.float32)\n",
        "y_train = np.asarray(y_train).astype(np.float32)\n",
        "y_test = np.asarray(y_test).astype(np.float32)"
      ],
      "execution_count": 0,
      "outputs": []
    },
    {
      "cell_type": "markdown",
      "metadata": {
        "id": "iFmeS2uCXfPT",
        "colab_type": "text"
      },
      "source": [
        "## Problem 2: Logistic Regression using Keras"
      ]
    },
    {
      "cell_type": "markdown",
      "metadata": {
        "id": "Fa2xy6bziD_N",
        "colab_type": "text"
      },
      "source": [
        "### Model construction "
      ]
    },
    {
      "cell_type": "markdown",
      "metadata": {
        "id": "npWyLMKNiHsh",
        "colab_type": "text"
      },
      "source": [
        "This model is very simple and consits of just 1 dense layer. \n",
        "*   The `Sequential` model is a linear stack of layers.\n",
        "*   The `Dense` layer has a single dimension output and takes in the 2 features of each instance.\n",
        "*   The `sgd` optimizer stands for stochastic gradient descent. \n",
        "*   The `binary_crossentropy` loss function is used for classification between 2 classes, hence binary. \n",
        "*   The `accuracy` metric returns a percentage of correct predictions. "
      ]
    },
    {
      "cell_type": "code",
      "metadata": {
        "id": "jMr58QtIwjcP",
        "colab_type": "code",
        "colab": {}
      },
      "source": [
        "model = Sequential()\n",
        "model.add(Dense(1, input_shape=(2,)))\n",
        "model.compile(optimizer='sgd',\n",
        "              loss='binary_crossentropy',\n",
        "              metrics=['accuracy'])"
      ],
      "execution_count": 0,
      "outputs": []
    },
    {
      "cell_type": "markdown",
      "metadata": {
        "id": "5omkWqfMiOkP",
        "colab_type": "text"
      },
      "source": [
        "### Model training"
      ]
    },
    {
      "cell_type": "markdown",
      "metadata": {
        "id": "uWBMtnCEiSi9",
        "colab_type": "text"
      },
      "source": [
        "*   `epochs` determines how many iterations to train the model\n",
        "*   `batch_size` determines the number of samples per gradient update. "
      ]
    },
    {
      "cell_type": "code",
      "metadata": {
        "id": "10cz_KZk-vqn",
        "colab_type": "code",
        "outputId": "92f323e1-53ca-4b45-8b72-d5c1f247478f",
        "colab": {
          "base_uri": "https://localhost:8080/",
          "height": 1000
        }
      },
      "source": [
        "model.fit(x_train, y_train, epochs=500, batch_size=8, verbose=1)"
      ],
      "execution_count": 11,
      "outputs": [
        {
          "output_type": "stream",
          "text": [
            "Epoch 1/500\n",
            "100/100 [==============================] - 0s 964us/step - loss: 0.6899 - accuracy: 0.5537\n",
            "Epoch 2/500\n",
            "100/100 [==============================] - 0s 924us/step - loss: 0.3322 - accuracy: 0.9062\n",
            "Epoch 3/500\n",
            "100/100 [==============================] - 0s 1ms/step - loss: 0.1851 - accuracy: 0.9837\n",
            "Epoch 4/500\n",
            "100/100 [==============================] - 0s 916us/step - loss: 0.1215 - accuracy: 0.9900\n",
            "Epoch 5/500\n",
            "100/100 [==============================] - 0s 893us/step - loss: 0.0928 - accuracy: 0.9925\n",
            "Epoch 6/500\n",
            "100/100 [==============================] - 0s 934us/step - loss: 0.0772 - accuracy: 0.9925\n",
            "Epoch 7/500\n",
            "100/100 [==============================] - 0s 929us/step - loss: 0.0681 - accuracy: 0.9925\n",
            "Epoch 8/500\n",
            "100/100 [==============================] - 0s 951us/step - loss: 0.0615 - accuracy: 0.9925\n",
            "Epoch 9/500\n",
            "100/100 [==============================] - 0s 1ms/step - loss: 0.0569 - accuracy: 0.9925\n",
            "Epoch 10/500\n",
            "100/100 [==============================] - 0s 899us/step - loss: 0.0529 - accuracy: 0.9925\n",
            "Epoch 11/500\n",
            "100/100 [==============================] - 0s 953us/step - loss: 0.0498 - accuracy: 0.9925\n",
            "Epoch 12/500\n",
            "100/100 [==============================] - 0s 927us/step - loss: 0.0472 - accuracy: 0.9925\n",
            "Epoch 13/500\n",
            "100/100 [==============================] - 0s 907us/step - loss: 0.0450 - accuracy: 0.9925\n",
            "Epoch 14/500\n",
            "100/100 [==============================] - 0s 1ms/step - loss: 0.0429 - accuracy: 0.9925\n",
            "Epoch 15/500\n",
            "100/100 [==============================] - 0s 989us/step - loss: 0.0412 - accuracy: 0.9925\n",
            "Epoch 16/500\n",
            "100/100 [==============================] - 0s 960us/step - loss: 0.0394 - accuracy: 0.9937\n",
            "Epoch 17/500\n",
            "100/100 [==============================] - 0s 928us/step - loss: 0.0384 - accuracy: 0.9925\n",
            "Epoch 18/500\n",
            "100/100 [==============================] - 0s 1ms/step - loss: 0.0370 - accuracy: 0.9925\n",
            "Epoch 19/500\n",
            "100/100 [==============================] - 0s 922us/step - loss: 0.0361 - accuracy: 0.9937\n",
            "Epoch 20/500\n",
            "100/100 [==============================] - 0s 932us/step - loss: 0.0354 - accuracy: 0.9925\n",
            "Epoch 21/500\n",
            "100/100 [==============================] - 0s 914us/step - loss: 0.0345 - accuracy: 0.9925\n",
            "Epoch 22/500\n",
            "100/100 [==============================] - 0s 944us/step - loss: 0.0336 - accuracy: 0.9950\n",
            "Epoch 23/500\n",
            "100/100 [==============================] - 0s 917us/step - loss: 0.0331 - accuracy: 0.9925\n",
            "Epoch 24/500\n",
            "100/100 [==============================] - 0s 997us/step - loss: 0.0325 - accuracy: 0.9950\n",
            "Epoch 25/500\n",
            "100/100 [==============================] - 0s 850us/step - loss: 0.0319 - accuracy: 0.9925\n",
            "Epoch 26/500\n",
            "100/100 [==============================] - 0s 940us/step - loss: 0.0315 - accuracy: 0.9925\n",
            "Epoch 27/500\n",
            "100/100 [==============================] - 0s 978us/step - loss: 0.0310 - accuracy: 0.9937\n",
            "Epoch 28/500\n",
            "100/100 [==============================] - 0s 883us/step - loss: 0.0305 - accuracy: 0.9925\n",
            "Epoch 29/500\n",
            "100/100 [==============================] - 0s 899us/step - loss: 0.0299 - accuracy: 0.9950\n",
            "Epoch 30/500\n",
            "100/100 [==============================] - 0s 950us/step - loss: 0.0296 - accuracy: 0.9950\n",
            "Epoch 31/500\n",
            "100/100 [==============================] - 0s 906us/step - loss: 0.0294 - accuracy: 0.9925\n",
            "Epoch 32/500\n",
            "100/100 [==============================] - 0s 830us/step - loss: 0.0289 - accuracy: 0.9925\n",
            "Epoch 33/500\n",
            "100/100 [==============================] - 0s 926us/step - loss: 0.0287 - accuracy: 0.9937\n",
            "Epoch 34/500\n",
            "100/100 [==============================] - 0s 911us/step - loss: 0.0283 - accuracy: 0.9937\n",
            "Epoch 35/500\n",
            "100/100 [==============================] - 0s 932us/step - loss: 0.0281 - accuracy: 0.9950\n",
            "Epoch 36/500\n",
            "100/100 [==============================] - 0s 1ms/step - loss: 0.0278 - accuracy: 0.9937\n",
            "Epoch 37/500\n",
            "100/100 [==============================] - 0s 866us/step - loss: 0.0275 - accuracy: 0.9937\n",
            "Epoch 38/500\n",
            "100/100 [==============================] - 0s 888us/step - loss: 0.0271 - accuracy: 0.9962\n",
            "Epoch 39/500\n",
            "100/100 [==============================] - 0s 1ms/step - loss: 0.0269 - accuracy: 0.9937\n",
            "Epoch 40/500\n",
            "100/100 [==============================] - 0s 934us/step - loss: 0.0266 - accuracy: 0.9937\n",
            "Epoch 41/500\n",
            "100/100 [==============================] - 0s 914us/step - loss: 0.0264 - accuracy: 0.9950\n",
            "Epoch 42/500\n",
            "100/100 [==============================] - 0s 925us/step - loss: 0.0262 - accuracy: 0.9950\n",
            "Epoch 43/500\n",
            "100/100 [==============================] - 0s 953us/step - loss: 0.0259 - accuracy: 0.9950\n",
            "Epoch 44/500\n",
            "100/100 [==============================] - 0s 966us/step - loss: 0.0257 - accuracy: 0.9950\n",
            "Epoch 45/500\n",
            "100/100 [==============================] - 0s 1ms/step - loss: 0.0256 - accuracy: 0.9937\n",
            "Epoch 46/500\n",
            "100/100 [==============================] - 0s 948us/step - loss: 0.0254 - accuracy: 0.9937\n",
            "Epoch 47/500\n",
            "100/100 [==============================] - 0s 949us/step - loss: 0.0252 - accuracy: 0.9925\n",
            "Epoch 48/500\n",
            "100/100 [==============================] - 0s 952us/step - loss: 0.0250 - accuracy: 0.9962\n",
            "Epoch 49/500\n",
            "100/100 [==============================] - 0s 1ms/step - loss: 0.0247 - accuracy: 0.9962\n",
            "Epoch 50/500\n",
            "100/100 [==============================] - 0s 909us/step - loss: 0.0246 - accuracy: 0.9937\n",
            "Epoch 51/500\n",
            "100/100 [==============================] - 0s 919us/step - loss: 0.0244 - accuracy: 0.9962\n",
            "Epoch 52/500\n",
            "100/100 [==============================] - 0s 954us/step - loss: 0.0244 - accuracy: 0.9937\n",
            "Epoch 53/500\n",
            "100/100 [==============================] - 0s 936us/step - loss: 0.0241 - accuracy: 0.9937\n",
            "Epoch 54/500\n",
            "100/100 [==============================] - 0s 975us/step - loss: 0.0240 - accuracy: 0.9950\n",
            "Epoch 55/500\n",
            "100/100 [==============================] - 0s 924us/step - loss: 0.0238 - accuracy: 0.9950\n",
            "Epoch 56/500\n",
            "100/100 [==============================] - 0s 927us/step - loss: 0.0236 - accuracy: 0.9962\n",
            "Epoch 57/500\n",
            "100/100 [==============================] - 0s 1ms/step - loss: 0.0235 - accuracy: 0.9937\n",
            "Epoch 58/500\n",
            "100/100 [==============================] - 0s 928us/step - loss: 0.0235 - accuracy: 0.9975\n",
            "Epoch 59/500\n",
            "100/100 [==============================] - 0s 1ms/step - loss: 0.0233 - accuracy: 0.9962\n",
            "Epoch 60/500\n",
            "100/100 [==============================] - 0s 1ms/step - loss: 0.0232 - accuracy: 0.9950\n",
            "Epoch 61/500\n",
            "100/100 [==============================] - 0s 944us/step - loss: 0.0229 - accuracy: 0.9950\n",
            "Epoch 62/500\n",
            "100/100 [==============================] - 0s 919us/step - loss: 0.0228 - accuracy: 0.9950\n",
            "Epoch 63/500\n",
            "100/100 [==============================] - 0s 873us/step - loss: 0.0227 - accuracy: 0.9975\n",
            "Epoch 64/500\n",
            "100/100 [==============================] - 0s 916us/step - loss: 0.0227 - accuracy: 0.9975\n",
            "Epoch 65/500\n",
            "100/100 [==============================] - 0s 1ms/step - loss: 0.0224 - accuracy: 0.9962\n",
            "Epoch 66/500\n",
            "100/100 [==============================] - 0s 893us/step - loss: 0.0223 - accuracy: 0.9975\n",
            "Epoch 67/500\n",
            "100/100 [==============================] - 0s 975us/step - loss: 0.0222 - accuracy: 0.9962\n",
            "Epoch 68/500\n",
            "100/100 [==============================] - 0s 887us/step - loss: 0.0221 - accuracy: 0.9975\n",
            "Epoch 69/500\n",
            "100/100 [==============================] - 0s 1ms/step - loss: 0.0219 - accuracy: 0.9950\n",
            "Epoch 70/500\n",
            "100/100 [==============================] - 0s 882us/step - loss: 0.0219 - accuracy: 0.9975\n",
            "Epoch 71/500\n",
            "100/100 [==============================] - 0s 895us/step - loss: 0.0218 - accuracy: 0.9975\n",
            "Epoch 72/500\n",
            "100/100 [==============================] - 0s 988us/step - loss: 0.0216 - accuracy: 0.9975\n",
            "Epoch 73/500\n",
            "100/100 [==============================] - 0s 941us/step - loss: 0.0215 - accuracy: 0.9975\n",
            "Epoch 74/500\n",
            "100/100 [==============================] - 0s 883us/step - loss: 0.0213 - accuracy: 0.9962\n",
            "Epoch 75/500\n",
            "100/100 [==============================] - 0s 838us/step - loss: 0.0214 - accuracy: 0.9962\n",
            "Epoch 76/500\n",
            "100/100 [==============================] - 0s 930us/step - loss: 0.0212 - accuracy: 0.9975\n",
            "Epoch 77/500\n",
            "100/100 [==============================] - 0s 960us/step - loss: 0.0211 - accuracy: 0.9975\n",
            "Epoch 78/500\n",
            "100/100 [==============================] - 0s 977us/step - loss: 0.0209 - accuracy: 0.9962\n",
            "Epoch 79/500\n",
            "100/100 [==============================] - 0s 996us/step - loss: 0.0209 - accuracy: 0.9962\n",
            "Epoch 80/500\n",
            "100/100 [==============================] - 0s 924us/step - loss: 0.0208 - accuracy: 0.9975\n",
            "Epoch 81/500\n",
            "100/100 [==============================] - 0s 925us/step - loss: 0.0208 - accuracy: 0.9975\n",
            "Epoch 82/500\n",
            "100/100 [==============================] - 0s 918us/step - loss: 0.0206 - accuracy: 0.9975\n",
            "Epoch 83/500\n",
            "100/100 [==============================] - 0s 935us/step - loss: 0.0205 - accuracy: 0.9975\n",
            "Epoch 84/500\n",
            "100/100 [==============================] - 0s 964us/step - loss: 0.0205 - accuracy: 0.9975\n",
            "Epoch 85/500\n",
            "100/100 [==============================] - 0s 904us/step - loss: 0.0204 - accuracy: 0.9975\n",
            "Epoch 86/500\n",
            "100/100 [==============================] - 0s 935us/step - loss: 0.0203 - accuracy: 0.9975\n",
            "Epoch 87/500\n",
            "100/100 [==============================] - 0s 922us/step - loss: 0.0203 - accuracy: 0.9975\n",
            "Epoch 88/500\n",
            "100/100 [==============================] - 0s 954us/step - loss: 0.0201 - accuracy: 0.9975\n",
            "Epoch 89/500\n",
            "100/100 [==============================] - 0s 1ms/step - loss: 0.0201 - accuracy: 0.9975\n",
            "Epoch 90/500\n",
            "100/100 [==============================] - 0s 930us/step - loss: 0.0200 - accuracy: 0.9975\n",
            "Epoch 91/500\n",
            "100/100 [==============================] - 0s 949us/step - loss: 0.0200 - accuracy: 0.9975\n",
            "Epoch 92/500\n",
            "100/100 [==============================] - 0s 965us/step - loss: 0.0199 - accuracy: 0.9975\n",
            "Epoch 93/500\n",
            "100/100 [==============================] - 0s 923us/step - loss: 0.0198 - accuracy: 0.9975\n",
            "Epoch 94/500\n",
            "100/100 [==============================] - 0s 876us/step - loss: 0.0198 - accuracy: 0.9975\n",
            "Epoch 95/500\n",
            "100/100 [==============================] - 0s 909us/step - loss: 0.0197 - accuracy: 0.9975\n",
            "Epoch 96/500\n",
            "100/100 [==============================] - 0s 917us/step - loss: 0.0196 - accuracy: 0.9975\n",
            "Epoch 97/500\n",
            "100/100 [==============================] - 0s 908us/step - loss: 0.0196 - accuracy: 0.9975\n",
            "Epoch 98/500\n",
            "100/100 [==============================] - 0s 937us/step - loss: 0.0194 - accuracy: 0.9975\n",
            "Epoch 99/500\n",
            "100/100 [==============================] - 0s 967us/step - loss: 0.0194 - accuracy: 0.9975\n",
            "Epoch 100/500\n",
            "100/100 [==============================] - 0s 995us/step - loss: 0.0194 - accuracy: 0.9975\n",
            "Epoch 101/500\n",
            "100/100 [==============================] - 0s 934us/step - loss: 0.0193 - accuracy: 0.9962\n",
            "Epoch 102/500\n",
            "100/100 [==============================] - 0s 908us/step - loss: 0.0193 - accuracy: 0.9975\n",
            "Epoch 103/500\n",
            "100/100 [==============================] - 0s 934us/step - loss: 0.0191 - accuracy: 0.9975\n",
            "Epoch 104/500\n",
            "100/100 [==============================] - 0s 881us/step - loss: 0.0191 - accuracy: 0.9975\n",
            "Epoch 105/500\n",
            "100/100 [==============================] - 0s 879us/step - loss: 0.0191 - accuracy: 0.9975\n",
            "Epoch 106/500\n",
            "100/100 [==============================] - 0s 942us/step - loss: 0.0191 - accuracy: 0.9975\n",
            "Epoch 107/500\n",
            "100/100 [==============================] - 0s 883us/step - loss: 0.0190 - accuracy: 0.9975\n",
            "Epoch 108/500\n",
            "100/100 [==============================] - 0s 931us/step - loss: 0.0187 - accuracy: 0.9962\n",
            "Epoch 109/500\n",
            "100/100 [==============================] - 0s 945us/step - loss: 0.0189 - accuracy: 0.9975\n",
            "Epoch 110/500\n",
            "100/100 [==============================] - 0s 909us/step - loss: 0.0188 - accuracy: 0.9975\n",
            "Epoch 111/500\n",
            "100/100 [==============================] - 0s 1ms/step - loss: 0.0186 - accuracy: 0.9975\n",
            "Epoch 112/500\n",
            "100/100 [==============================] - 0s 907us/step - loss: 0.0188 - accuracy: 0.9975\n",
            "Epoch 113/500\n",
            "100/100 [==============================] - 0s 908us/step - loss: 0.0187 - accuracy: 0.9975\n",
            "Epoch 114/500\n",
            "100/100 [==============================] - 0s 945us/step - loss: 0.0187 - accuracy: 0.9975\n",
            "Epoch 115/500\n",
            "100/100 [==============================] - 0s 941us/step - loss: 0.0186 - accuracy: 0.9975\n",
            "Epoch 116/500\n",
            "100/100 [==============================] - 0s 966us/step - loss: 0.0186 - accuracy: 0.9975\n",
            "Epoch 117/500\n",
            "100/100 [==============================] - 0s 925us/step - loss: 0.0186 - accuracy: 0.9975\n",
            "Epoch 118/500\n",
            "100/100 [==============================] - 0s 969us/step - loss: 0.0185 - accuracy: 0.9975\n",
            "Epoch 119/500\n",
            "100/100 [==============================] - 0s 936us/step - loss: 0.0184 - accuracy: 0.9975\n",
            "Epoch 120/500\n",
            "100/100 [==============================] - 0s 880us/step - loss: 0.0184 - accuracy: 0.9975\n",
            "Epoch 121/500\n",
            "100/100 [==============================] - 0s 1ms/step - loss: 0.0184 - accuracy: 0.9975\n",
            "Epoch 122/500\n",
            "100/100 [==============================] - 0s 898us/step - loss: 0.0183 - accuracy: 0.9975\n",
            "Epoch 123/500\n",
            "100/100 [==============================] - 0s 908us/step - loss: 0.0183 - accuracy: 0.9975\n",
            "Epoch 124/500\n",
            "100/100 [==============================] - 0s 985us/step - loss: 0.0183 - accuracy: 0.9975\n",
            "Epoch 125/500\n",
            "100/100 [==============================] - 0s 856us/step - loss: 0.0181 - accuracy: 0.9975\n",
            "Epoch 126/500\n",
            "100/100 [==============================] - 0s 919us/step - loss: 0.0181 - accuracy: 0.9975\n",
            "Epoch 127/500\n",
            "100/100 [==============================] - 0s 922us/step - loss: 0.0181 - accuracy: 0.9975\n",
            "Epoch 128/500\n",
            "100/100 [==============================] - 0s 949us/step - loss: 0.0181 - accuracy: 0.9975\n",
            "Epoch 129/500\n",
            "100/100 [==============================] - 0s 897us/step - loss: 0.0180 - accuracy: 0.9975\n",
            "Epoch 130/500\n",
            "100/100 [==============================] - 0s 945us/step - loss: 0.0180 - accuracy: 0.9975\n",
            "Epoch 131/500\n",
            "100/100 [==============================] - 0s 981us/step - loss: 0.0180 - accuracy: 0.9975\n",
            "Epoch 132/500\n",
            "100/100 [==============================] - 0s 1ms/step - loss: 0.0180 - accuracy: 0.9962\n",
            "Epoch 133/500\n",
            "100/100 [==============================] - 0s 923us/step - loss: 0.0179 - accuracy: 0.9975\n",
            "Epoch 134/500\n",
            "100/100 [==============================] - 0s 943us/step - loss: 0.0178 - accuracy: 0.9975\n",
            "Epoch 135/500\n",
            "100/100 [==============================] - 0s 995us/step - loss: 0.0178 - accuracy: 0.9975\n",
            "Epoch 136/500\n",
            "100/100 [==============================] - 0s 916us/step - loss: 0.0178 - accuracy: 0.9975\n",
            "Epoch 137/500\n",
            "100/100 [==============================] - 0s 915us/step - loss: 0.0178 - accuracy: 0.9975\n",
            "Epoch 138/500\n",
            "100/100 [==============================] - 0s 996us/step - loss: 0.0177 - accuracy: 0.9975\n",
            "Epoch 139/500\n",
            "100/100 [==============================] - 0s 909us/step - loss: 0.0177 - accuracy: 0.9975\n",
            "Epoch 140/500\n",
            "100/100 [==============================] - 0s 962us/step - loss: 0.0176 - accuracy: 0.9950\n",
            "Epoch 141/500\n",
            "100/100 [==============================] - 0s 943us/step - loss: 0.0176 - accuracy: 0.9975\n",
            "Epoch 142/500\n",
            "100/100 [==============================] - 0s 967us/step - loss: 0.0176 - accuracy: 0.9975\n",
            "Epoch 143/500\n",
            "100/100 [==============================] - 0s 937us/step - loss: 0.0175 - accuracy: 0.9975\n",
            "Epoch 144/500\n",
            "100/100 [==============================] - 0s 930us/step - loss: 0.0175 - accuracy: 0.9975\n",
            "Epoch 145/500\n",
            "100/100 [==============================] - 0s 883us/step - loss: 0.0175 - accuracy: 0.9975\n",
            "Epoch 146/500\n",
            "100/100 [==============================] - 0s 939us/step - loss: 0.0174 - accuracy: 0.9975\n",
            "Epoch 147/500\n",
            "100/100 [==============================] - 0s 912us/step - loss: 0.0174 - accuracy: 0.9975\n",
            "Epoch 148/500\n",
            "100/100 [==============================] - 0s 873us/step - loss: 0.0174 - accuracy: 0.9975\n",
            "Epoch 149/500\n",
            "100/100 [==============================] - 0s 977us/step - loss: 0.0174 - accuracy: 0.9975\n",
            "Epoch 150/500\n",
            "100/100 [==============================] - 0s 932us/step - loss: 0.0173 - accuracy: 0.9975\n",
            "Epoch 151/500\n",
            "100/100 [==============================] - 0s 946us/step - loss: 0.0174 - accuracy: 0.9962\n",
            "Epoch 152/500\n",
            "100/100 [==============================] - 0s 955us/step - loss: 0.0173 - accuracy: 0.9975\n",
            "Epoch 153/500\n",
            "100/100 [==============================] - 0s 909us/step - loss: 0.0173 - accuracy: 0.9962\n",
            "Epoch 154/500\n",
            "100/100 [==============================] - 0s 1ms/step - loss: 0.0172 - accuracy: 0.9975\n",
            "Epoch 155/500\n",
            "100/100 [==============================] - 0s 918us/step - loss: 0.0172 - accuracy: 0.9975\n",
            "Epoch 156/500\n",
            "100/100 [==============================] - 0s 881us/step - loss: 0.0172 - accuracy: 0.9975\n",
            "Epoch 157/500\n",
            "100/100 [==============================] - 0s 965us/step - loss: 0.0172 - accuracy: 0.9975\n",
            "Epoch 158/500\n",
            "100/100 [==============================] - 0s 934us/step - loss: 0.0171 - accuracy: 0.9975\n",
            "Epoch 159/500\n",
            "100/100 [==============================] - 0s 885us/step - loss: 0.0172 - accuracy: 0.9975\n",
            "Epoch 160/500\n",
            "100/100 [==============================] - 0s 1ms/step - loss: 0.0171 - accuracy: 0.9975\n",
            "Epoch 161/500\n",
            "100/100 [==============================] - 0s 1ms/step - loss: 0.0170 - accuracy: 0.9975\n",
            "Epoch 162/500\n",
            "100/100 [==============================] - 0s 971us/step - loss: 0.0170 - accuracy: 0.9975\n",
            "Epoch 163/500\n",
            "100/100 [==============================] - 0s 924us/step - loss: 0.0169 - accuracy: 0.9975\n",
            "Epoch 164/500\n",
            "100/100 [==============================] - 0s 902us/step - loss: 0.0170 - accuracy: 0.9975\n",
            "Epoch 165/500\n",
            "100/100 [==============================] - 0s 977us/step - loss: 0.0169 - accuracy: 0.9975\n",
            "Epoch 166/500\n",
            "100/100 [==============================] - 0s 947us/step - loss: 0.0169 - accuracy: 0.9975\n",
            "Epoch 167/500\n",
            "100/100 [==============================] - 0s 888us/step - loss: 0.0169 - accuracy: 0.9975\n",
            "Epoch 168/500\n",
            "100/100 [==============================] - 0s 954us/step - loss: 0.0168 - accuracy: 0.9975\n",
            "Epoch 169/500\n",
            "100/100 [==============================] - 0s 924us/step - loss: 0.0168 - accuracy: 0.9975\n",
            "Epoch 170/500\n",
            "100/100 [==============================] - 0s 1ms/step - loss: 0.0168 - accuracy: 0.9975\n",
            "Epoch 171/500\n",
            "100/100 [==============================] - 0s 957us/step - loss: 0.0168 - accuracy: 0.9975\n",
            "Epoch 172/500\n",
            "100/100 [==============================] - 0s 895us/step - loss: 0.0167 - accuracy: 0.9975\n",
            "Epoch 173/500\n",
            "100/100 [==============================] - 0s 949us/step - loss: 0.0166 - accuracy: 0.9975\n",
            "Epoch 174/500\n",
            "100/100 [==============================] - 0s 942us/step - loss: 0.0167 - accuracy: 0.9975\n",
            "Epoch 175/500\n",
            "100/100 [==============================] - 0s 972us/step - loss: 0.0166 - accuracy: 0.9975\n",
            "Epoch 176/500\n",
            "100/100 [==============================] - 0s 973us/step - loss: 0.0166 - accuracy: 0.9975\n",
            "Epoch 177/500\n",
            "100/100 [==============================] - 0s 997us/step - loss: 0.0166 - accuracy: 0.9975\n",
            "Epoch 178/500\n",
            "100/100 [==============================] - 0s 945us/step - loss: 0.0165 - accuracy: 0.9975\n",
            "Epoch 179/500\n",
            "100/100 [==============================] - 0s 909us/step - loss: 0.0165 - accuracy: 0.9975\n",
            "Epoch 180/500\n",
            "100/100 [==============================] - 0s 1ms/step - loss: 0.0165 - accuracy: 0.9975\n",
            "Epoch 181/500\n",
            "100/100 [==============================] - 0s 907us/step - loss: 0.0164 - accuracy: 0.9975\n",
            "Epoch 182/500\n",
            "100/100 [==============================] - 0s 928us/step - loss: 0.0164 - accuracy: 0.9975\n",
            "Epoch 183/500\n",
            "100/100 [==============================] - 0s 917us/step - loss: 0.0164 - accuracy: 0.9975\n",
            "Epoch 184/500\n",
            "100/100 [==============================] - 0s 928us/step - loss: 0.0164 - accuracy: 0.9975\n",
            "Epoch 185/500\n",
            "100/100 [==============================] - 0s 915us/step - loss: 0.0163 - accuracy: 0.9975\n",
            "Epoch 186/500\n",
            "100/100 [==============================] - 0s 954us/step - loss: 0.0163 - accuracy: 0.9975\n",
            "Epoch 187/500\n",
            "100/100 [==============================] - 0s 882us/step - loss: 0.0163 - accuracy: 0.9975\n",
            "Epoch 188/500\n",
            "100/100 [==============================] - 0s 942us/step - loss: 0.0162 - accuracy: 0.9975\n",
            "Epoch 189/500\n",
            "100/100 [==============================] - 0s 880us/step - loss: 0.0162 - accuracy: 0.9975\n",
            "Epoch 190/500\n",
            "100/100 [==============================] - 0s 997us/step - loss: 0.0162 - accuracy: 0.9975\n",
            "Epoch 191/500\n",
            "100/100 [==============================] - 0s 967us/step - loss: 0.0162 - accuracy: 0.9975\n",
            "Epoch 192/500\n",
            "100/100 [==============================] - 0s 907us/step - loss: 0.0162 - accuracy: 0.9975\n",
            "Epoch 193/500\n",
            "100/100 [==============================] - 0s 892us/step - loss: 0.0161 - accuracy: 0.9975\n",
            "Epoch 194/500\n",
            "100/100 [==============================] - 0s 874us/step - loss: 0.0161 - accuracy: 0.9975\n",
            "Epoch 195/500\n",
            "100/100 [==============================] - 0s 884us/step - loss: 0.0161 - accuracy: 0.9975\n",
            "Epoch 196/500\n",
            "100/100 [==============================] - 0s 905us/step - loss: 0.0160 - accuracy: 0.9975\n",
            "Epoch 197/500\n",
            "100/100 [==============================] - 0s 897us/step - loss: 0.0160 - accuracy: 0.9975\n",
            "Epoch 198/500\n",
            "100/100 [==============================] - 0s 889us/step - loss: 0.0160 - accuracy: 0.9975\n",
            "Epoch 199/500\n",
            "100/100 [==============================] - 0s 974us/step - loss: 0.0160 - accuracy: 0.9975\n",
            "Epoch 200/500\n",
            "100/100 [==============================] - 0s 971us/step - loss: 0.0160 - accuracy: 0.9975\n",
            "Epoch 201/500\n",
            "100/100 [==============================] - 0s 973us/step - loss: 0.0159 - accuracy: 0.9975\n",
            "Epoch 202/500\n",
            "100/100 [==============================] - 0s 952us/step - loss: 0.0160 - accuracy: 0.9975\n",
            "Epoch 203/500\n",
            "100/100 [==============================] - 0s 862us/step - loss: 0.0158 - accuracy: 0.9975\n",
            "Epoch 204/500\n",
            "100/100 [==============================] - 0s 931us/step - loss: 0.0159 - accuracy: 0.9975\n",
            "Epoch 205/500\n",
            "100/100 [==============================] - 0s 899us/step - loss: 0.0158 - accuracy: 0.9975\n",
            "Epoch 206/500\n",
            "100/100 [==============================] - 0s 915us/step - loss: 0.0158 - accuracy: 0.9975\n",
            "Epoch 207/500\n",
            "100/100 [==============================] - 0s 932us/step - loss: 0.0158 - accuracy: 0.9975\n",
            "Epoch 208/500\n",
            "100/100 [==============================] - 0s 940us/step - loss: 0.0158 - accuracy: 0.9975\n",
            "Epoch 209/500\n",
            "100/100 [==============================] - 0s 954us/step - loss: 0.0157 - accuracy: 0.9975\n",
            "Epoch 210/500\n",
            "100/100 [==============================] - 0s 874us/step - loss: 0.0157 - accuracy: 0.9975\n",
            "Epoch 211/500\n",
            "100/100 [==============================] - 0s 1ms/step - loss: 0.0157 - accuracy: 0.9975\n",
            "Epoch 212/500\n",
            "100/100 [==============================] - 0s 1ms/step - loss: 0.0156 - accuracy: 0.9975\n",
            "Epoch 213/500\n",
            "100/100 [==============================] - 0s 905us/step - loss: 0.0157 - accuracy: 0.9975\n",
            "Epoch 214/500\n",
            "100/100 [==============================] - 0s 921us/step - loss: 0.0156 - accuracy: 0.9975\n",
            "Epoch 215/500\n",
            "100/100 [==============================] - 0s 985us/step - loss: 0.0157 - accuracy: 0.9975\n",
            "Epoch 216/500\n",
            "100/100 [==============================] - 0s 967us/step - loss: 0.0156 - accuracy: 0.9975\n",
            "Epoch 217/500\n",
            "100/100 [==============================] - 0s 920us/step - loss: 0.0156 - accuracy: 0.9975\n",
            "Epoch 218/500\n",
            "100/100 [==============================] - 0s 960us/step - loss: 0.0155 - accuracy: 0.9975\n",
            "Epoch 219/500\n",
            "100/100 [==============================] - 0s 1ms/step - loss: 0.0155 - accuracy: 0.9975\n",
            "Epoch 220/500\n",
            "100/100 [==============================] - 0s 890us/step - loss: 0.0155 - accuracy: 0.9975\n",
            "Epoch 221/500\n",
            "100/100 [==============================] - 0s 945us/step - loss: 0.0155 - accuracy: 0.9975\n",
            "Epoch 222/500\n",
            "100/100 [==============================] - 0s 957us/step - loss: 0.0155 - accuracy: 0.9975\n",
            "Epoch 223/500\n",
            "100/100 [==============================] - 0s 894us/step - loss: 0.0154 - accuracy: 0.9975\n",
            "Epoch 224/500\n",
            "100/100 [==============================] - 0s 896us/step - loss: 0.0154 - accuracy: 0.9975\n",
            "Epoch 225/500\n",
            "100/100 [==============================] - 0s 912us/step - loss: 0.0154 - accuracy: 0.9975\n",
            "Epoch 226/500\n",
            "100/100 [==============================] - 0s 852us/step - loss: 0.0154 - accuracy: 0.9975\n",
            "Epoch 227/500\n",
            "100/100 [==============================] - 0s 903us/step - loss: 0.0154 - accuracy: 0.9975\n",
            "Epoch 228/500\n",
            "100/100 [==============================] - 0s 895us/step - loss: 0.0153 - accuracy: 0.9975\n",
            "Epoch 229/500\n",
            "100/100 [==============================] - 0s 952us/step - loss: 0.0154 - accuracy: 0.9975\n",
            "Epoch 230/500\n",
            "100/100 [==============================] - 0s 935us/step - loss: 0.0153 - accuracy: 0.9975\n",
            "Epoch 231/500\n",
            "100/100 [==============================] - 0s 947us/step - loss: 0.0153 - accuracy: 0.9975\n",
            "Epoch 232/500\n",
            "100/100 [==============================] - 0s 900us/step - loss: 0.0153 - accuracy: 0.9975\n",
            "Epoch 233/500\n",
            "100/100 [==============================] - 0s 914us/step - loss: 0.0152 - accuracy: 0.9975\n",
            "Epoch 234/500\n",
            "100/100 [==============================] - 0s 889us/step - loss: 0.0152 - accuracy: 0.9975\n",
            "Epoch 235/500\n",
            "100/100 [==============================] - 0s 868us/step - loss: 0.0152 - accuracy: 0.9975\n",
            "Epoch 236/500\n",
            "100/100 [==============================] - 0s 915us/step - loss: 0.0152 - accuracy: 0.9975\n",
            "Epoch 237/500\n",
            "100/100 [==============================] - 0s 924us/step - loss: 0.0152 - accuracy: 0.9975\n",
            "Epoch 238/500\n",
            "100/100 [==============================] - 0s 1ms/step - loss: 0.0152 - accuracy: 0.9975\n",
            "Epoch 239/500\n",
            "100/100 [==============================] - 0s 1ms/step - loss: 0.0152 - accuracy: 0.9975\n",
            "Epoch 240/500\n",
            "100/100 [==============================] - 0s 945us/step - loss: 0.0151 - accuracy: 0.9975\n",
            "Epoch 241/500\n",
            "100/100 [==============================] - 0s 951us/step - loss: 0.0151 - accuracy: 0.9975\n",
            "Epoch 242/500\n",
            "100/100 [==============================] - 0s 945us/step - loss: 0.0151 - accuracy: 0.9975\n",
            "Epoch 243/500\n",
            "100/100 [==============================] - 0s 927us/step - loss: 0.0151 - accuracy: 0.9975\n",
            "Epoch 244/500\n",
            "100/100 [==============================] - 0s 911us/step - loss: 0.0150 - accuracy: 0.9975\n",
            "Epoch 245/500\n",
            "100/100 [==============================] - 0s 879us/step - loss: 0.0150 - accuracy: 0.9975\n",
            "Epoch 246/500\n",
            "100/100 [==============================] - 0s 921us/step - loss: 0.0150 - accuracy: 0.9975\n",
            "Epoch 247/500\n",
            "100/100 [==============================] - 0s 914us/step - loss: 0.0150 - accuracy: 0.9975\n",
            "Epoch 248/500\n",
            "100/100 [==============================] - 0s 925us/step - loss: 0.0150 - accuracy: 0.9975\n",
            "Epoch 249/500\n",
            "100/100 [==============================] - 0s 925us/step - loss: 0.0150 - accuracy: 0.9975\n",
            "Epoch 250/500\n",
            "100/100 [==============================] - 0s 1ms/step - loss: 0.0149 - accuracy: 0.9975\n",
            "Epoch 251/500\n",
            "100/100 [==============================] - 0s 963us/step - loss: 0.0150 - accuracy: 0.9975\n",
            "Epoch 252/500\n",
            "100/100 [==============================] - 0s 883us/step - loss: 0.0150 - accuracy: 0.9975\n",
            "Epoch 253/500\n",
            "100/100 [==============================] - 0s 965us/step - loss: 0.0149 - accuracy: 0.9975\n",
            "Epoch 254/500\n",
            "100/100 [==============================] - 0s 924us/step - loss: 0.0149 - accuracy: 0.9975\n",
            "Epoch 255/500\n",
            "100/100 [==============================] - 0s 958us/step - loss: 0.0149 - accuracy: 0.9975\n",
            "Epoch 256/500\n",
            "100/100 [==============================] - 0s 849us/step - loss: 0.0149 - accuracy: 0.9975\n",
            "Epoch 257/500\n",
            "100/100 [==============================] - 0s 951us/step - loss: 0.0149 - accuracy: 0.9975\n",
            "Epoch 258/500\n",
            "100/100 [==============================] - 0s 905us/step - loss: 0.0148 - accuracy: 0.9975\n",
            "Epoch 259/500\n",
            "100/100 [==============================] - 0s 922us/step - loss: 0.0148 - accuracy: 0.9975\n",
            "Epoch 260/500\n",
            "100/100 [==============================] - 0s 963us/step - loss: 0.0148 - accuracy: 0.9975\n",
            "Epoch 261/500\n",
            "100/100 [==============================] - 0s 938us/step - loss: 0.0148 - accuracy: 0.9975\n",
            "Epoch 262/500\n",
            "100/100 [==============================] - 0s 995us/step - loss: 0.0148 - accuracy: 0.9975\n",
            "Epoch 263/500\n",
            "100/100 [==============================] - 0s 976us/step - loss: 0.0148 - accuracy: 0.9975\n",
            "Epoch 264/500\n",
            "100/100 [==============================] - 0s 1ms/step - loss: 0.0148 - accuracy: 0.9975\n",
            "Epoch 265/500\n",
            "100/100 [==============================] - 0s 905us/step - loss: 0.0147 - accuracy: 0.9962\n",
            "Epoch 266/500\n",
            "100/100 [==============================] - 0s 897us/step - loss: 0.0147 - accuracy: 0.9975\n",
            "Epoch 267/500\n",
            "100/100 [==============================] - 0s 890us/step - loss: 0.0148 - accuracy: 0.9975\n",
            "Epoch 268/500\n",
            "100/100 [==============================] - 0s 1ms/step - loss: 0.0147 - accuracy: 0.9975\n",
            "Epoch 269/500\n",
            "100/100 [==============================] - 0s 899us/step - loss: 0.0146 - accuracy: 0.9975\n",
            "Epoch 270/500\n",
            "100/100 [==============================] - 0s 879us/step - loss: 0.0146 - accuracy: 0.9975\n",
            "Epoch 271/500\n",
            "100/100 [==============================] - 0s 971us/step - loss: 0.0146 - accuracy: 0.9975\n",
            "Epoch 272/500\n",
            "100/100 [==============================] - 0s 900us/step - loss: 0.0146 - accuracy: 0.9975\n",
            "Epoch 273/500\n",
            "100/100 [==============================] - 0s 946us/step - loss: 0.0146 - accuracy: 0.9975\n",
            "Epoch 274/500\n",
            "100/100 [==============================] - 0s 912us/step - loss: 0.0146 - accuracy: 0.9975\n",
            "Epoch 275/500\n",
            "100/100 [==============================] - 0s 973us/step - loss: 0.0146 - accuracy: 0.9975\n",
            "Epoch 276/500\n",
            "100/100 [==============================] - 0s 933us/step - loss: 0.0145 - accuracy: 0.9975\n",
            "Epoch 277/500\n",
            "100/100 [==============================] - 0s 916us/step - loss: 0.0145 - accuracy: 0.9975\n",
            "Epoch 278/500\n",
            "100/100 [==============================] - 0s 985us/step - loss: 0.0145 - accuracy: 0.9975\n",
            "Epoch 279/500\n",
            "100/100 [==============================] - 0s 857us/step - loss: 0.0145 - accuracy: 0.9975\n",
            "Epoch 280/500\n",
            "100/100 [==============================] - 0s 871us/step - loss: 0.0145 - accuracy: 0.9975\n",
            "Epoch 281/500\n",
            "100/100 [==============================] - 0s 957us/step - loss: 0.0145 - accuracy: 0.9975\n",
            "Epoch 282/500\n",
            "100/100 [==============================] - 0s 980us/step - loss: 0.0145 - accuracy: 0.9962\n",
            "Epoch 283/500\n",
            "100/100 [==============================] - 0s 889us/step - loss: 0.0145 - accuracy: 0.9975\n",
            "Epoch 284/500\n",
            "100/100 [==============================] - 0s 893us/step - loss: 0.0145 - accuracy: 0.9975\n",
            "Epoch 285/500\n",
            "100/100 [==============================] - 0s 926us/step - loss: 0.0145 - accuracy: 0.9975\n",
            "Epoch 286/500\n",
            "100/100 [==============================] - 0s 869us/step - loss: 0.0144 - accuracy: 0.9975\n",
            "Epoch 287/500\n",
            "100/100 [==============================] - 0s 925us/step - loss: 0.0144 - accuracy: 0.9975\n",
            "Epoch 288/500\n",
            "100/100 [==============================] - 0s 945us/step - loss: 0.0144 - accuracy: 0.9975\n",
            "Epoch 289/500\n",
            "100/100 [==============================] - 0s 934us/step - loss: 0.0144 - accuracy: 0.9975\n",
            "Epoch 290/500\n",
            "100/100 [==============================] - 0s 830us/step - loss: 0.0143 - accuracy: 0.9975\n",
            "Epoch 291/500\n",
            "100/100 [==============================] - 0s 1ms/step - loss: 0.0143 - accuracy: 0.9975\n",
            "Epoch 292/500\n",
            "100/100 [==============================] - 0s 937us/step - loss: 0.0143 - accuracy: 0.9975\n",
            "Epoch 293/500\n",
            "100/100 [==============================] - 0s 925us/step - loss: 0.0143 - accuracy: 0.9975\n",
            "Epoch 294/500\n",
            "100/100 [==============================] - 0s 894us/step - loss: 0.0143 - accuracy: 0.9975\n",
            "Epoch 295/500\n",
            "100/100 [==============================] - 0s 944us/step - loss: 0.0143 - accuracy: 0.9975\n",
            "Epoch 296/500\n",
            "100/100 [==============================] - 0s 933us/step - loss: 0.0143 - accuracy: 0.9975\n",
            "Epoch 297/500\n",
            "100/100 [==============================] - 0s 935us/step - loss: 0.0142 - accuracy: 0.9975\n",
            "Epoch 298/500\n",
            "100/100 [==============================] - 0s 945us/step - loss: 0.0142 - accuracy: 0.9975\n",
            "Epoch 299/500\n",
            "100/100 [==============================] - 0s 878us/step - loss: 0.0142 - accuracy: 0.9975\n",
            "Epoch 300/500\n",
            "100/100 [==============================] - 0s 945us/step - loss: 0.0142 - accuracy: 0.9975\n",
            "Epoch 301/500\n",
            "100/100 [==============================] - 0s 909us/step - loss: 0.0142 - accuracy: 0.9975\n",
            "Epoch 302/500\n",
            "100/100 [==============================] - 0s 864us/step - loss: 0.0142 - accuracy: 0.9975\n",
            "Epoch 303/500\n",
            "100/100 [==============================] - 0s 1ms/step - loss: 0.0142 - accuracy: 0.9975\n",
            "Epoch 304/500\n",
            "100/100 [==============================] - 0s 956us/step - loss: 0.0141 - accuracy: 0.9975\n",
            "Epoch 305/500\n",
            "100/100 [==============================] - 0s 908us/step - loss: 0.0142 - accuracy: 0.9975\n",
            "Epoch 306/500\n",
            "100/100 [==============================] - 0s 923us/step - loss: 0.0142 - accuracy: 0.9975\n",
            "Epoch 307/500\n",
            "100/100 [==============================] - 0s 900us/step - loss: 0.0141 - accuracy: 0.9975\n",
            "Epoch 308/500\n",
            "100/100 [==============================] - 0s 893us/step - loss: 0.0141 - accuracy: 0.9975\n",
            "Epoch 309/500\n",
            "100/100 [==============================] - 0s 897us/step - loss: 0.0141 - accuracy: 0.9975\n",
            "Epoch 310/500\n",
            "100/100 [==============================] - 0s 896us/step - loss: 0.0141 - accuracy: 0.9975\n",
            "Epoch 311/500\n",
            "100/100 [==============================] - 0s 850us/step - loss: 0.0140 - accuracy: 0.9975\n",
            "Epoch 312/500\n",
            "100/100 [==============================] - 0s 859us/step - loss: 0.0141 - accuracy: 0.9975\n",
            "Epoch 313/500\n",
            "100/100 [==============================] - 0s 1ms/step - loss: 0.0140 - accuracy: 0.9975\n",
            "Epoch 314/500\n",
            "100/100 [==============================] - 0s 905us/step - loss: 0.0140 - accuracy: 0.9975\n",
            "Epoch 315/500\n",
            "100/100 [==============================] - 0s 896us/step - loss: 0.0140 - accuracy: 0.9975\n",
            "Epoch 316/500\n",
            "100/100 [==============================] - 0s 962us/step - loss: 0.0140 - accuracy: 0.9975\n",
            "Epoch 317/500\n",
            "100/100 [==============================] - 0s 918us/step - loss: 0.0140 - accuracy: 0.9975\n",
            "Epoch 318/500\n",
            "100/100 [==============================] - 0s 954us/step - loss: 0.0140 - accuracy: 0.9975\n",
            "Epoch 319/500\n",
            "100/100 [==============================] - 0s 973us/step - loss: 0.0140 - accuracy: 0.9975\n",
            "Epoch 320/500\n",
            "100/100 [==============================] - 0s 918us/step - loss: 0.0139 - accuracy: 0.9975\n",
            "Epoch 321/500\n",
            "100/100 [==============================] - 0s 898us/step - loss: 0.0140 - accuracy: 0.9975\n",
            "Epoch 322/500\n",
            "100/100 [==============================] - 0s 884us/step - loss: 0.0139 - accuracy: 0.9975\n",
            "Epoch 323/500\n",
            "100/100 [==============================] - 0s 1ms/step - loss: 0.0139 - accuracy: 0.9975\n",
            "Epoch 324/500\n",
            "100/100 [==============================] - 0s 941us/step - loss: 0.0139 - accuracy: 0.9975\n",
            "Epoch 325/500\n",
            "100/100 [==============================] - 0s 935us/step - loss: 0.0139 - accuracy: 0.9975\n",
            "Epoch 326/500\n",
            "100/100 [==============================] - 0s 882us/step - loss: 0.0139 - accuracy: 0.9975\n",
            "Epoch 327/500\n",
            "100/100 [==============================] - 0s 944us/step - loss: 0.0138 - accuracy: 0.9975\n",
            "Epoch 328/500\n",
            "100/100 [==============================] - 0s 944us/step - loss: 0.0139 - accuracy: 0.9975\n",
            "Epoch 329/500\n",
            "100/100 [==============================] - 0s 866us/step - loss: 0.0139 - accuracy: 0.9975\n",
            "Epoch 330/500\n",
            "100/100 [==============================] - 0s 986us/step - loss: 0.0138 - accuracy: 0.9975\n",
            "Epoch 331/500\n",
            "100/100 [==============================] - 0s 918us/step - loss: 0.0138 - accuracy: 0.9975\n",
            "Epoch 332/500\n",
            "100/100 [==============================] - 0s 961us/step - loss: 0.0138 - accuracy: 0.9975\n",
            "Epoch 333/500\n",
            "100/100 [==============================] - 0s 959us/step - loss: 0.0138 - accuracy: 0.9975\n",
            "Epoch 334/500\n",
            "100/100 [==============================] - 0s 960us/step - loss: 0.0138 - accuracy: 0.9975\n",
            "Epoch 335/500\n",
            "100/100 [==============================] - 0s 954us/step - loss: 0.0138 - accuracy: 0.9975\n",
            "Epoch 336/500\n",
            "100/100 [==============================] - 0s 891us/step - loss: 0.0138 - accuracy: 0.9975\n",
            "Epoch 337/500\n",
            "100/100 [==============================] - 0s 873us/step - loss: 0.0138 - accuracy: 0.9975\n",
            "Epoch 338/500\n",
            "100/100 [==============================] - 0s 914us/step - loss: 0.0137 - accuracy: 0.9975\n",
            "Epoch 339/500\n",
            "100/100 [==============================] - 0s 932us/step - loss: 0.0137 - accuracy: 0.9975\n",
            "Epoch 340/500\n",
            "100/100 [==============================] - 0s 898us/step - loss: 0.0137 - accuracy: 0.9975\n",
            "Epoch 341/500\n",
            "100/100 [==============================] - 0s 922us/step - loss: 0.0137 - accuracy: 0.9975\n",
            "Epoch 342/500\n",
            "100/100 [==============================] - 0s 859us/step - loss: 0.0137 - accuracy: 0.9975\n",
            "Epoch 343/500\n",
            "100/100 [==============================] - 0s 882us/step - loss: 0.0136 - accuracy: 0.9975\n",
            "Epoch 344/500\n",
            "100/100 [==============================] - 0s 953us/step - loss: 0.0137 - accuracy: 0.9975\n",
            "Epoch 345/500\n",
            "100/100 [==============================] - 0s 897us/step - loss: 0.0136 - accuracy: 0.9975\n",
            "Epoch 346/500\n",
            "100/100 [==============================] - 0s 871us/step - loss: 0.0136 - accuracy: 0.9975\n",
            "Epoch 347/500\n",
            "100/100 [==============================] - 0s 975us/step - loss: 0.0137 - accuracy: 0.9975\n",
            "Epoch 348/500\n",
            "100/100 [==============================] - 0s 964us/step - loss: 0.0136 - accuracy: 0.9975\n",
            "Epoch 349/500\n",
            "100/100 [==============================] - 0s 866us/step - loss: 0.0136 - accuracy: 0.9975\n",
            "Epoch 350/500\n",
            "100/100 [==============================] - 0s 918us/step - loss: 0.0136 - accuracy: 0.9975\n",
            "Epoch 351/500\n",
            "100/100 [==============================] - 0s 956us/step - loss: 0.0136 - accuracy: 0.9975\n",
            "Epoch 352/500\n",
            "100/100 [==============================] - 0s 951us/step - loss: 0.0135 - accuracy: 0.9975\n",
            "Epoch 353/500\n",
            "100/100 [==============================] - 0s 936us/step - loss: 0.0136 - accuracy: 0.9975\n",
            "Epoch 354/500\n",
            "100/100 [==============================] - 0s 1ms/step - loss: 0.0135 - accuracy: 0.9975\n",
            "Epoch 355/500\n",
            "100/100 [==============================] - 0s 905us/step - loss: 0.0135 - accuracy: 0.9975\n",
            "Epoch 356/500\n",
            "100/100 [==============================] - 0s 945us/step - loss: 0.0135 - accuracy: 0.9975\n",
            "Epoch 357/500\n",
            "100/100 [==============================] - 0s 920us/step - loss: 0.0135 - accuracy: 0.9975\n",
            "Epoch 358/500\n",
            "100/100 [==============================] - 0s 870us/step - loss: 0.0135 - accuracy: 0.9975\n",
            "Epoch 359/500\n",
            "100/100 [==============================] - 0s 906us/step - loss: 0.0134 - accuracy: 0.9975\n",
            "Epoch 360/500\n",
            "100/100 [==============================] - 0s 956us/step - loss: 0.0135 - accuracy: 0.9975\n",
            "Epoch 361/500\n",
            "100/100 [==============================] - 0s 986us/step - loss: 0.0134 - accuracy: 0.9975\n",
            "Epoch 362/500\n",
            "100/100 [==============================] - 0s 948us/step - loss: 0.0134 - accuracy: 0.9975\n",
            "Epoch 363/500\n",
            "100/100 [==============================] - 0s 957us/step - loss: 0.0134 - accuracy: 0.9975\n",
            "Epoch 364/500\n",
            "100/100 [==============================] - 0s 974us/step - loss: 0.0134 - accuracy: 0.9975\n",
            "Epoch 365/500\n",
            "100/100 [==============================] - 0s 854us/step - loss: 0.0134 - accuracy: 0.9975\n",
            "Epoch 366/500\n",
            "100/100 [==============================] - 0s 920us/step - loss: 0.0134 - accuracy: 0.9975\n",
            "Epoch 367/500\n",
            "100/100 [==============================] - 0s 908us/step - loss: 0.0134 - accuracy: 0.9975\n",
            "Epoch 368/500\n",
            "100/100 [==============================] - 0s 1ms/step - loss: 0.0133 - accuracy: 0.9975\n",
            "Epoch 369/500\n",
            "100/100 [==============================] - 0s 1ms/step - loss: 0.0134 - accuracy: 0.9975\n",
            "Epoch 370/500\n",
            "100/100 [==============================] - 0s 918us/step - loss: 0.0133 - accuracy: 0.9962\n",
            "Epoch 371/500\n",
            "100/100 [==============================] - 0s 925us/step - loss: 0.0133 - accuracy: 0.9975\n",
            "Epoch 372/500\n",
            "100/100 [==============================] - 0s 946us/step - loss: 0.0133 - accuracy: 0.9975\n",
            "Epoch 373/500\n",
            "100/100 [==============================] - 0s 940us/step - loss: 0.0133 - accuracy: 0.9975\n",
            "Epoch 374/500\n",
            "100/100 [==============================] - 0s 978us/step - loss: 0.0133 - accuracy: 0.9975\n",
            "Epoch 375/500\n",
            "100/100 [==============================] - 0s 900us/step - loss: 0.0133 - accuracy: 0.9975\n",
            "Epoch 376/500\n",
            "100/100 [==============================] - 0s 1ms/step - loss: 0.0133 - accuracy: 0.9975\n",
            "Epoch 377/500\n",
            "100/100 [==============================] - 0s 922us/step - loss: 0.0133 - accuracy: 0.9975\n",
            "Epoch 378/500\n",
            "100/100 [==============================] - 0s 928us/step - loss: 0.0133 - accuracy: 0.9975\n",
            "Epoch 379/500\n",
            "100/100 [==============================] - 0s 966us/step - loss: 0.0133 - accuracy: 0.9975\n",
            "Epoch 380/500\n",
            "100/100 [==============================] - 0s 875us/step - loss: 0.0132 - accuracy: 0.9975\n",
            "Epoch 381/500\n",
            "100/100 [==============================] - 0s 912us/step - loss: 0.0132 - accuracy: 0.9975\n",
            "Epoch 382/500\n",
            "100/100 [==============================] - 0s 906us/step - loss: 0.0132 - accuracy: 0.9975\n",
            "Epoch 383/500\n",
            "100/100 [==============================] - 0s 964us/step - loss: 0.0132 - accuracy: 0.9975\n",
            "Epoch 384/500\n",
            "100/100 [==============================] - 0s 912us/step - loss: 0.0132 - accuracy: 0.9975\n",
            "Epoch 385/500\n",
            "100/100 [==============================] - 0s 960us/step - loss: 0.0132 - accuracy: 0.9975\n",
            "Epoch 386/500\n",
            "100/100 [==============================] - 0s 1ms/step - loss: 0.0131 - accuracy: 0.9975\n",
            "Epoch 387/500\n",
            "100/100 [==============================] - 0s 912us/step - loss: 0.0132 - accuracy: 0.9975\n",
            "Epoch 388/500\n",
            "100/100 [==============================] - 0s 898us/step - loss: 0.0131 - accuracy: 0.9975\n",
            "Epoch 389/500\n",
            "100/100 [==============================] - 0s 909us/step - loss: 0.0131 - accuracy: 0.9975\n",
            "Epoch 390/500\n",
            "100/100 [==============================] - 0s 914us/step - loss: 0.0131 - accuracy: 0.9975\n",
            "Epoch 391/500\n",
            "100/100 [==============================] - 0s 898us/step - loss: 0.0131 - accuracy: 0.9975\n",
            "Epoch 392/500\n",
            "100/100 [==============================] - 0s 962us/step - loss: 0.0131 - accuracy: 0.9975\n",
            "Epoch 393/500\n",
            "100/100 [==============================] - 0s 928us/step - loss: 0.0131 - accuracy: 0.9975\n",
            "Epoch 394/500\n",
            "100/100 [==============================] - 0s 969us/step - loss: 0.0131 - accuracy: 0.9975\n",
            "Epoch 395/500\n",
            "100/100 [==============================] - 0s 1ms/step - loss: 0.0131 - accuracy: 0.9975\n",
            "Epoch 396/500\n",
            "100/100 [==============================] - 0s 1ms/step - loss: 0.0131 - accuracy: 0.9975\n",
            "Epoch 397/500\n",
            "100/100 [==============================] - 0s 906us/step - loss: 0.0130 - accuracy: 0.9975\n",
            "Epoch 398/500\n",
            "100/100 [==============================] - 0s 931us/step - loss: 0.0131 - accuracy: 0.9975\n",
            "Epoch 399/500\n",
            "100/100 [==============================] - 0s 894us/step - loss: 0.0130 - accuracy: 0.9975\n",
            "Epoch 400/500\n",
            "100/100 [==============================] - 0s 913us/step - loss: 0.0130 - accuracy: 0.9975\n",
            "Epoch 401/500\n",
            "100/100 [==============================] - 0s 863us/step - loss: 0.0130 - accuracy: 0.9975\n",
            "Epoch 402/500\n",
            "100/100 [==============================] - 0s 887us/step - loss: 0.0130 - accuracy: 0.9975\n",
            "Epoch 403/500\n",
            "100/100 [==============================] - 0s 922us/step - loss: 0.0130 - accuracy: 0.9975\n",
            "Epoch 404/500\n",
            "100/100 [==============================] - 0s 957us/step - loss: 0.0130 - accuracy: 0.9975\n",
            "Epoch 405/500\n",
            "100/100 [==============================] - 0s 962us/step - loss: 0.0130 - accuracy: 0.9975\n",
            "Epoch 406/500\n",
            "100/100 [==============================] - 0s 961us/step - loss: 0.0130 - accuracy: 0.9975\n",
            "Epoch 407/500\n",
            "100/100 [==============================] - 0s 980us/step - loss: 0.0130 - accuracy: 0.9975\n",
            "Epoch 408/500\n",
            "100/100 [==============================] - 0s 911us/step - loss: 0.0129 - accuracy: 0.9975\n",
            "Epoch 409/500\n",
            "100/100 [==============================] - 0s 928us/step - loss: 0.0129 - accuracy: 0.9975\n",
            "Epoch 410/500\n",
            "100/100 [==============================] - 0s 882us/step - loss: 0.0129 - accuracy: 0.9975\n",
            "Epoch 411/500\n",
            "100/100 [==============================] - 0s 912us/step - loss: 0.0129 - accuracy: 0.9975\n",
            "Epoch 412/500\n",
            "100/100 [==============================] - 0s 923us/step - loss: 0.0129 - accuracy: 0.9975\n",
            "Epoch 413/500\n",
            "100/100 [==============================] - 0s 902us/step - loss: 0.0129 - accuracy: 0.9975\n",
            "Epoch 414/500\n",
            "100/100 [==============================] - 0s 886us/step - loss: 0.0129 - accuracy: 0.9975\n",
            "Epoch 415/500\n",
            "100/100 [==============================] - 0s 952us/step - loss: 0.0129 - accuracy: 0.9975\n",
            "Epoch 416/500\n",
            "100/100 [==============================] - 0s 940us/step - loss: 0.0129 - accuracy: 0.9975\n",
            "Epoch 417/500\n",
            "100/100 [==============================] - 0s 947us/step - loss: 0.0129 - accuracy: 0.9975\n",
            "Epoch 418/500\n",
            "100/100 [==============================] - 0s 914us/step - loss: 0.0129 - accuracy: 0.9975\n",
            "Epoch 419/500\n",
            "100/100 [==============================] - 0s 875us/step - loss: 0.0129 - accuracy: 0.9975\n",
            "Epoch 420/500\n",
            "100/100 [==============================] - 0s 920us/step - loss: 0.0129 - accuracy: 0.9975\n",
            "Epoch 421/500\n",
            "100/100 [==============================] - 0s 882us/step - loss: 0.0128 - accuracy: 0.9975\n",
            "Epoch 422/500\n",
            "100/100 [==============================] - 0s 955us/step - loss: 0.0128 - accuracy: 0.9975\n",
            "Epoch 423/500\n",
            "100/100 [==============================] - 0s 898us/step - loss: 0.0128 - accuracy: 0.9975\n",
            "Epoch 424/500\n",
            "100/100 [==============================] - 0s 854us/step - loss: 0.0128 - accuracy: 0.9975\n",
            "Epoch 425/500\n",
            "100/100 [==============================] - 0s 944us/step - loss: 0.0128 - accuracy: 0.9975\n",
            "Epoch 426/500\n",
            "100/100 [==============================] - 0s 1ms/step - loss: 0.0128 - accuracy: 0.9975\n",
            "Epoch 427/500\n",
            "100/100 [==============================] - 0s 947us/step - loss: 0.0128 - accuracy: 0.9975\n",
            "Epoch 428/500\n",
            "100/100 [==============================] - 0s 976us/step - loss: 0.0128 - accuracy: 0.9975\n",
            "Epoch 429/500\n",
            "100/100 [==============================] - 0s 919us/step - loss: 0.0127 - accuracy: 0.9975\n",
            "Epoch 430/500\n",
            "100/100 [==============================] - 0s 870us/step - loss: 0.0128 - accuracy: 0.9975\n",
            "Epoch 431/500\n",
            "100/100 [==============================] - 0s 968us/step - loss: 0.0127 - accuracy: 0.9975\n",
            "Epoch 432/500\n",
            "100/100 [==============================] - 0s 928us/step - loss: 0.0127 - accuracy: 0.9975\n",
            "Epoch 433/500\n",
            "100/100 [==============================] - 0s 949us/step - loss: 0.0127 - accuracy: 0.9975\n",
            "Epoch 434/500\n",
            "100/100 [==============================] - 0s 973us/step - loss: 0.0127 - accuracy: 0.9975\n",
            "Epoch 435/500\n",
            "100/100 [==============================] - 0s 914us/step - loss: 0.0127 - accuracy: 0.9975\n",
            "Epoch 436/500\n",
            "100/100 [==============================] - 0s 1ms/step - loss: 0.0127 - accuracy: 0.9975\n",
            "Epoch 437/500\n",
            "100/100 [==============================] - 0s 919us/step - loss: 0.0127 - accuracy: 0.9975\n",
            "Epoch 438/500\n",
            "100/100 [==============================] - 0s 857us/step - loss: 0.0126 - accuracy: 0.9975\n",
            "Epoch 439/500\n",
            "100/100 [==============================] - 0s 885us/step - loss: 0.0127 - accuracy: 0.9975\n",
            "Epoch 440/500\n",
            "100/100 [==============================] - 0s 872us/step - loss: 0.0127 - accuracy: 0.9975\n",
            "Epoch 441/500\n",
            "100/100 [==============================] - 0s 930us/step - loss: 0.0127 - accuracy: 0.9975\n",
            "Epoch 442/500\n",
            "100/100 [==============================] - 0s 924us/step - loss: 0.0126 - accuracy: 0.9975\n",
            "Epoch 443/500\n",
            "100/100 [==============================] - 0s 923us/step - loss: 0.0127 - accuracy: 0.9975\n",
            "Epoch 444/500\n",
            "100/100 [==============================] - 0s 953us/step - loss: 0.0127 - accuracy: 0.9975\n",
            "Epoch 445/500\n",
            "100/100 [==============================] - 0s 901us/step - loss: 0.0126 - accuracy: 0.9975\n",
            "Epoch 446/500\n",
            "100/100 [==============================] - 0s 1ms/step - loss: 0.0126 - accuracy: 0.9975\n",
            "Epoch 447/500\n",
            "100/100 [==============================] - 0s 999us/step - loss: 0.0126 - accuracy: 0.9975\n",
            "Epoch 448/500\n",
            "100/100 [==============================] - 0s 903us/step - loss: 0.0126 - accuracy: 0.9975\n",
            "Epoch 449/500\n",
            "100/100 [==============================] - 0s 936us/step - loss: 0.0125 - accuracy: 0.9975\n",
            "Epoch 450/500\n",
            "100/100 [==============================] - 0s 907us/step - loss: 0.0126 - accuracy: 0.9975\n",
            "Epoch 451/500\n",
            "100/100 [==============================] - 0s 939us/step - loss: 0.0125 - accuracy: 0.9975\n",
            "Epoch 452/500\n",
            "100/100 [==============================] - 0s 911us/step - loss: 0.0126 - accuracy: 0.9975\n",
            "Epoch 453/500\n",
            "100/100 [==============================] - 0s 894us/step - loss: 0.0126 - accuracy: 0.9975\n",
            "Epoch 454/500\n",
            "100/100 [==============================] - 0s 910us/step - loss: 0.0126 - accuracy: 0.9975\n",
            "Epoch 455/500\n",
            "100/100 [==============================] - 0s 898us/step - loss: 0.0126 - accuracy: 0.9975\n",
            "Epoch 456/500\n",
            "100/100 [==============================] - 0s 1ms/step - loss: 0.0125 - accuracy: 0.9975\n",
            "Epoch 457/500\n",
            "100/100 [==============================] - 0s 882us/step - loss: 0.0125 - accuracy: 0.9975\n",
            "Epoch 458/500\n",
            "100/100 [==============================] - 0s 926us/step - loss: 0.0125 - accuracy: 0.9975\n",
            "Epoch 459/500\n",
            "100/100 [==============================] - 0s 882us/step - loss: 0.0125 - accuracy: 0.9975\n",
            "Epoch 460/500\n",
            "100/100 [==============================] - 0s 922us/step - loss: 0.0125 - accuracy: 0.9975\n",
            "Epoch 461/500\n",
            "100/100 [==============================] - 0s 969us/step - loss: 0.0125 - accuracy: 0.9975\n",
            "Epoch 462/500\n",
            "100/100 [==============================] - 0s 973us/step - loss: 0.0125 - accuracy: 0.9975\n",
            "Epoch 463/500\n",
            "100/100 [==============================] - 0s 941us/step - loss: 0.0125 - accuracy: 0.9975\n",
            "Epoch 464/500\n",
            "100/100 [==============================] - 0s 950us/step - loss: 0.0125 - accuracy: 0.9975\n",
            "Epoch 465/500\n",
            "100/100 [==============================] - 0s 910us/step - loss: 0.0125 - accuracy: 0.9975\n",
            "Epoch 466/500\n",
            "100/100 [==============================] - 0s 1ms/step - loss: 0.0125 - accuracy: 0.9975\n",
            "Epoch 467/500\n",
            "100/100 [==============================] - 0s 888us/step - loss: 0.0124 - accuracy: 0.9975\n",
            "Epoch 468/500\n",
            "100/100 [==============================] - 0s 828us/step - loss: 0.0125 - accuracy: 0.9975\n",
            "Epoch 469/500\n",
            "100/100 [==============================] - 0s 884us/step - loss: 0.0124 - accuracy: 0.9975\n",
            "Epoch 470/500\n",
            "100/100 [==============================] - 0s 866us/step - loss: 0.0125 - accuracy: 0.9975\n",
            "Epoch 471/500\n",
            "100/100 [==============================] - 0s 951us/step - loss: 0.0124 - accuracy: 0.9975\n",
            "Epoch 472/500\n",
            "100/100 [==============================] - 0s 1ms/step - loss: 0.0124 - accuracy: 0.9975\n",
            "Epoch 473/500\n",
            "100/100 [==============================] - 0s 902us/step - loss: 0.0124 - accuracy: 0.9975\n",
            "Epoch 474/500\n",
            "100/100 [==============================] - 0s 911us/step - loss: 0.0124 - accuracy: 0.9975\n",
            "Epoch 475/500\n",
            "100/100 [==============================] - 0s 1ms/step - loss: 0.0124 - accuracy: 0.9975\n",
            "Epoch 476/500\n",
            "100/100 [==============================] - 0s 1ms/step - loss: 0.0124 - accuracy: 0.9975\n",
            "Epoch 477/500\n",
            "100/100 [==============================] - 0s 918us/step - loss: 0.0123 - accuracy: 0.9975\n",
            "Epoch 478/500\n",
            "100/100 [==============================] - 0s 970us/step - loss: 0.0124 - accuracy: 0.9975\n",
            "Epoch 479/500\n",
            "100/100 [==============================] - 0s 952us/step - loss: 0.0124 - accuracy: 0.9975\n",
            "Epoch 480/500\n",
            "100/100 [==============================] - 0s 938us/step - loss: 0.0124 - accuracy: 0.9975\n",
            "Epoch 481/500\n",
            "100/100 [==============================] - 0s 926us/step - loss: 0.0123 - accuracy: 0.9975\n",
            "Epoch 482/500\n",
            "100/100 [==============================] - 0s 871us/step - loss: 0.0123 - accuracy: 0.9975\n",
            "Epoch 483/500\n",
            "100/100 [==============================] - 0s 897us/step - loss: 0.0123 - accuracy: 0.9975\n",
            "Epoch 484/500\n",
            "100/100 [==============================] - 0s 1ms/step - loss: 0.0123 - accuracy: 0.9975\n",
            "Epoch 485/500\n",
            "100/100 [==============================] - 0s 921us/step - loss: 0.0123 - accuracy: 0.9975\n",
            "Epoch 486/500\n",
            "100/100 [==============================] - 0s 921us/step - loss: 0.0123 - accuracy: 0.9975\n",
            "Epoch 487/500\n",
            "100/100 [==============================] - 0s 937us/step - loss: 0.0123 - accuracy: 0.9975\n",
            "Epoch 488/500\n",
            "100/100 [==============================] - 0s 879us/step - loss: 0.0123 - accuracy: 0.9975\n",
            "Epoch 489/500\n",
            "100/100 [==============================] - 0s 978us/step - loss: 0.0123 - accuracy: 0.9975\n",
            "Epoch 490/500\n",
            "100/100 [==============================] - 0s 926us/step - loss: 0.0123 - accuracy: 0.9975\n",
            "Epoch 491/500\n",
            "100/100 [==============================] - 0s 896us/step - loss: 0.0123 - accuracy: 0.9975\n",
            "Epoch 492/500\n",
            "100/100 [==============================] - 0s 873us/step - loss: 0.0123 - accuracy: 0.9975\n",
            "Epoch 493/500\n",
            "100/100 [==============================] - 0s 941us/step - loss: 0.0123 - accuracy: 0.9975\n",
            "Epoch 494/500\n",
            "100/100 [==============================] - 0s 889us/step - loss: 0.0123 - accuracy: 0.9975\n",
            "Epoch 495/500\n",
            "100/100 [==============================] - 0s 893us/step - loss: 0.0122 - accuracy: 0.9975\n",
            "Epoch 496/500\n",
            "100/100 [==============================] - 0s 980us/step - loss: 0.0122 - accuracy: 0.9975\n",
            "Epoch 497/500\n",
            "100/100 [==============================] - 0s 974us/step - loss: 0.0122 - accuracy: 0.9975\n",
            "Epoch 498/500\n",
            "100/100 [==============================] - 0s 906us/step - loss: 0.0122 - accuracy: 0.9975\n",
            "Epoch 499/500\n",
            "100/100 [==============================] - 0s 906us/step - loss: 0.0122 - accuracy: 0.9975\n",
            "Epoch 500/500\n",
            "100/100 [==============================] - 0s 878us/step - loss: 0.0122 - accuracy: 0.9975\n"
          ],
          "name": "stdout"
        },
        {
          "output_type": "execute_result",
          "data": {
            "text/plain": [
              "<tensorflow.python.keras.callbacks.History at 0x7fc82f37ea20>"
            ]
          },
          "metadata": {
            "tags": []
          },
          "execution_count": 11
        }
      ]
    },
    {
      "cell_type": "markdown",
      "metadata": {
        "id": "2F3gyZDIkrsS",
        "colab_type": "text"
      },
      "source": [
        "### Model evaluation "
      ]
    },
    {
      "cell_type": "markdown",
      "metadata": {
        "id": "TmNA2sGGkwGc",
        "colab_type": "text"
      },
      "source": [
        "Gets the weights and bias the model generates. These will be used to generate the line the model uses to divide the data up into the 2 classes. \n",
        "\n",
        "This line is found by `x_2 = -(w1 * x1 + b) / w2` which is derived from `w1 * x1 + w2 * x2 + b = 0`."
      ]
    },
    {
      "cell_type": "code",
      "metadata": {
        "id": "MZSra-gv70vV",
        "colab_type": "code",
        "outputId": "9ec49d2f-b565-42ab-f3bf-ed41b662708c",
        "colab": {
          "base_uri": "https://localhost:8080/",
          "height": 51
        }
      },
      "source": [
        "weights, bias = model.layers[0].get_weights()\n",
        "print(weights, bias)"
      ],
      "execution_count": 12,
      "outputs": [
        {
          "output_type": "stream",
          "text": [
            "[[ 1.7494295]\n",
            " [-3.4608421]] [3.496842]\n"
          ],
          "name": "stdout"
        }
      ]
    },
    {
      "cell_type": "markdown",
      "metadata": {
        "id": "hzyha_X9l_RC",
        "colab_type": "text"
      },
      "source": [
        "Accuracy rating of the model. "
      ]
    },
    {
      "cell_type": "code",
      "metadata": {
        "id": "4l_MxnRyNcNL",
        "colab_type": "code",
        "outputId": "678a73e3-d232-472f-de3a-6091f9a5237f",
        "colab": {
          "base_uri": "https://localhost:8080/",
          "height": 51
        }
      },
      "source": [
        "loss, acc = model.evaluate(x_test, y_test)\n",
        "print(loss, acc)"
      ],
      "execution_count": 13,
      "outputs": [
        {
          "output_type": "stream",
          "text": [
            "7/7 [==============================] - 0s 1ms/step - loss: 0.0299 - accuracy: 0.9800\n",
            "0.0298581812530756 0.9800000190734863\n"
          ],
          "name": "stdout"
        }
      ]
    },
    {
      "cell_type": "markdown",
      "metadata": {
        "id": "nel23AUomUQG",
        "colab_type": "text"
      },
      "source": [
        "### Function: model_accuracy"
      ]
    },
    {
      "cell_type": "markdown",
      "metadata": {
        "id": "PtOSc9pAma2i",
        "colab_type": "text"
      },
      "source": [
        "Similar to the first graph. \n",
        "\n",
        "*   The `blue/green` line describes the actual line used to generate the data in the first place.\n",
        "*   The `orange` line describes the line the model guesses is used to generate the data. Above this line, the model would guess every point is `blue` and below this point it would guess every point is `red`. "
      ]
    },
    {
      "cell_type": "code",
      "metadata": {
        "id": "-60ywFgDEhdJ",
        "colab_type": "code",
        "colab": {}
      },
      "source": [
        "def model_accuracy(labels, data, w, b, weights, bias):\n",
        "  main = pd.concat([data, labels], axis=1, ignore_index=True)\n",
        "  main.columns = ['x_1', 'x_2', 'c']\n",
        "  ax = sns.scatterplot(x=\"x_1\", y=\"x_2\", data=main, hue=\"c\", palette=[\"Blue\", \"Red\"])\n",
        "  xmax =  data['x_1'].max()\n",
        "  ax.plot([0, xmax], [ b, w*xmax + b], linewidth=4)\n",
        "  ax.plot([0, xmax], [-1*bias[0]/weights[1], -1*((weights[0]*xmax)+bias[0])/weights[1]], linewidth=4)"
      ],
      "execution_count": 0,
      "outputs": []
    },
    {
      "cell_type": "code",
      "metadata": {
        "id": "SRZeb_uhHUgO",
        "colab_type": "code",
        "outputId": "c18b4ff5-c13f-4d23-8f9f-d16ca227a1d7",
        "colab": {
          "base_uri": "https://localhost:8080/",
          "height": 280
        }
      },
      "source": [
        "model_accuracy(labels, data, w, b, weights, bias)"
      ],
      "execution_count": 15,
      "outputs": [
        {
          "output_type": "display_data",
          "data": {
            "image/png": "[encoded data removed]",
            "text/plain": [
              "<Figure size 432x288 with 1 Axes>"
            ]
          },
          "metadata": {
            "tags": []
          }
        }
      ]
    },
    {
      "cell_type": "markdown",
      "metadata": {
        "id": "RoWtp3tRwXY7",
        "colab_type": "text"
      },
      "source": [
        "### Class activation heatmap"
      ]
    },
    {
      "cell_type": "markdown",
      "metadata": {
        "id": "pCKpeE90SYcd",
        "colab_type": "text"
      },
      "source": [
        "This z value represents the output of the model i.e. what class it thinks any given instance is. This follows the equation described earlier, `w1 * x1 + w2 * x2 + b = z`. As you can see the confidence of the model increases as you move perpendicularly from the "
      ]
    },
    {
      "cell_type": "code",
      "metadata": {
        "id": "rcX9ADWkUD0W",
        "colab_type": "code",
        "colab": {}
      },
      "source": [
        "def heatmap(weights, bias, data):\n",
        "  # mapping x and y values to data from df\n",
        "  y, x = np.meshgrid(np.linspace(data['x_2'].min(), data['x_2'].max(), 100), np.linspace(data['x_1'].min(), data['x_1'].max(), 100))\n",
        "\n",
        "  # get z value from mapped values and weights and bias\n",
        "  z = bias + y * weights[1] + x * weights[0]\n",
        "\n",
        "  # sizing \n",
        "  z = z[:-1, :-1]\n",
        "  z_min, z_max = -np.abs(z).max(), np.abs(z).max()\n",
        "\n",
        "  fig, ax = plt.subplots()\n",
        "  c = ax.pcolormesh(x, y, z, cmap='RdBu_r', vmin=z_min, vmax=z_max)\n",
        "  ax.set_title('Heatmap')\n",
        "  ax.axis([x.min(), x.max(), y.min(), y.max()])\n",
        "  fig.colorbar(c, ax=ax)"
      ],
      "execution_count": 0,
      "outputs": []
    },
    {
      "cell_type": "code",
      "metadata": {
        "id": "DI0fOySQTmp2",
        "colab_type": "code",
        "colab": {
          "base_uri": "https://localhost:8080/",
          "height": 281
        },
        "outputId": "7e3a635d-5dfd-4f9b-f462-8c7df48cb6a0"
      },
      "source": [
        "heatmap(weights, bias, data)"
      ],
      "execution_count": 17,
      "outputs": [
        {
          "output_type": "display_data",
          "data": {
            "image/png": "[encoded data removed]",
            "text/plain": [
              "<Figure size 432x288 with 2 Axes>"
            ]
          },
          "metadata": {
            "tags": []
          }
        }
      ]
    },
    {
      "cell_type": "markdown",
      "metadata": {
        "id": "LgCFsNpAXisJ",
        "colab_type": "text"
      },
      "source": [
        "## Problem 3: Logistic Regression using numpy "
      ]
    },
    {
      "cell_type": "markdown",
      "metadata": {
        "id": "7vzk8_9HWL04",
        "colab_type": "text"
      },
      "source": [
        "This should have roughly the same results as the keras model but built from scracth with some help from numpy."
      ]
    },
    {
      "cell_type": "markdown",
      "metadata": {
        "id": "TKi3-vERWQdi",
        "colab_type": "text"
      },
      "source": [
        "### Function: sigmoid"
      ]
    },
    {
      "cell_type": "markdown",
      "metadata": {
        "id": "uzgipn5_WcQ-",
        "colab_type": "text"
      },
      "source": [
        "This is the activation function. Activation functions take the output of the model and \"correct\" it to fit into one of the class labels. They are also one of the primary differences between linear regression models and logistic regression models."
      ]
    },
    {
      "cell_type": "code",
      "metadata": {
        "id": "ZLnhsW5XF2V2",
        "colab_type": "code",
        "colab": {}
      },
      "source": [
        "def sigmoid(z):\n",
        "    return 1/ (1 + np.exp(-z))"
      ],
      "execution_count": 0,
      "outputs": []
    },
    {
      "cell_type": "markdown",
      "metadata": {
        "id": "GOteJs3dXsdx",
        "colab_type": "text"
      },
      "source": [
        "### Function: loss_function"
      ]
    },
    {
      "cell_type": "markdown",
      "metadata": {
        "id": "hQKJn53wXFTV",
        "colab_type": "text"
      },
      "source": [
        "Loss functions determine the error between the predicted classes and the actual classes. This is accomplished by applying the activation function to the current predictions. Comparing the resulting guesses to the actual labels and finding the gradient."
      ]
    },
    {
      "cell_type": "code",
      "metadata": {
        "id": "fbOi46oVUNv6",
        "colab_type": "code",
        "colab": {}
      },
      "source": [
        "def loss_function(weights, X, y):\n",
        "    m=len(y)\n",
        "    \n",
        "    predictions = sigmoid(np.dot(X,weights))\n",
        "    error = (-y * np.log(predictions)) - ((1-y)*np.log(1-predictions))\n",
        "\n",
        "    loss = 1/m * sum(error)\n",
        "    grad = 1/m * np.dot(X.transpose(),(predictions - y))\n",
        "    \n",
        "    return loss[0] , grad"
      ],
      "execution_count": 0,
      "outputs": []
    },
    {
      "cell_type": "markdown",
      "metadata": {
        "id": "ddBvFge3XrZP",
        "colab_type": "text"
      },
      "source": [
        "### Function: gradient_descent"
      ]
    },
    {
      "cell_type": "markdown",
      "metadata": {
        "id": "fJ7iS58ZX0HY",
        "colab_type": "text"
      },
      "source": [
        "This function iteratively applies the loss function to the intial weights. With every iteration, it looks at \"how wrong\" the weights are from the loss function adn adjusts them accordingly. If done over hundreds of iterations. The weights and bias of the model get increasingly accurate until `w1 * x2 + w2 * x2 + b = z` is very good at estimating what z will be, which represents the class label of an instance.\n",
        "\n",
        "`learn_rate` is a modifier which can either inflate or deflate the calcualted gradient in order to increase or decrease the step sizes used to modify the weights. This value has a sweet spot. If its set high it will learn faster but be less accurate. A lower learning rate will take longer but be more accurate. \n",
        "\n",
        "`iters` is how many iterations to run the cost function. You could also write this function with a while loop so it will perform iterations endlessly until the error is below a threshold. In this situation the choice of learning rate is even more crucial. "
      ]
    },
    {
      "cell_type": "code",
      "metadata": {
        "id": "OvlhWPvTUOCC",
        "colab_type": "code",
        "colab": {}
      },
      "source": [
        "def gradient_descent(X,y,weights,learn_rate,iters):    \n",
        "    m=len(y)\n",
        "    \n",
        "    for i in range(iters):\n",
        "        loss, grad = loss_function(weights, X, y)\n",
        "        weights = weights - (learn_rate * grad)\n",
        "    \n",
        "    return weights, loss"
      ],
      "execution_count": 0,
      "outputs": []
    },
    {
      "cell_type": "markdown",
      "metadata": {
        "id": "qTvkUh47baFm",
        "colab_type": "text"
      },
      "source": [
        "### Model construction + training"
      ]
    },
    {
      "cell_type": "markdown",
      "metadata": {
        "id": "FTS23Ol_hebq",
        "colab_type": "text"
      },
      "source": [
        "Here i chose a learning rate of 1 and 500 iterations to match 500 epochs of the keras model. "
      ]
    },
    {
      "cell_type": "code",
      "metadata": {
        "id": "vV2nNArCF2gp",
        "colab_type": "code",
        "colab": {}
      },
      "source": [
        "x_train = np.append(np.ones((x_train.shape[0],1)), x_train, axis=1)\n",
        "initial_weights = np.zeros((x_train.shape[1], 1))\n",
        "weights, loss = gradient_descent(x_train,y_train,initial_weights,1,1000)\n",
        "weights = weights[1:]\n",
        "bias = weights[0]"
      ],
      "execution_count": 0,
      "outputs": []
    },
    {
      "cell_type": "markdown",
      "metadata": {
        "id": "ZKaLkQJxsLBS",
        "colab_type": "text"
      },
      "source": [
        "### Function: predict"
      ]
    },
    {
      "cell_type": "markdown",
      "metadata": {
        "id": "vuJU-MRZsQeI",
        "colab_type": "text"
      },
      "source": [
        "This function uses the regression function `w1 * x1 + w2 * x2 + b = z` to guess the class label of any given instance/row."
      ]
    },
    {
      "cell_type": "code",
      "metadata": {
        "id": "RAaQsIohlira",
        "colab_type": "code",
        "colab": {}
      },
      "source": [
        "def predict(weights, bias, X):\n",
        "  return weights[0] * X[-2] + weights[1] * X[-1] + bias"
      ],
      "execution_count": 0,
      "outputs": []
    },
    {
      "cell_type": "markdown",
      "metadata": {
        "id": "5iZgVabbs2SH",
        "colab_type": "text"
      },
      "source": [
        "### Function: accuracy"
      ]
    },
    {
      "cell_type": "markdown",
      "metadata": {
        "id": "61rfuy_Js63C",
        "colab_type": "text"
      },
      "source": [
        "This function uses the predict function is conjuction with the sigmoid fucntion to guess the class label for every instance. Every correct guess it tallied up and divided by the total number of cases to give an accuracy value. "
      ]
    },
    {
      "cell_type": "code",
      "metadata": {
        "id": "dbr92lmSnNyC",
        "colab_type": "code",
        "colab": {}
      },
      "source": [
        "def accuracy(weights, bias, X, y):\n",
        "  total = X.shape[0]\n",
        "  correct = 0\n",
        "  for row in range(total):\n",
        "    prediction = sigmoid(predict(weights, bias, X[row]))\n",
        "    isCorrect = (prediction > 0.5) == y[row]\n",
        "    if isCorrect:\n",
        "      correct = correct + 1\n",
        "  return correct/total"
      ],
      "execution_count": 0,
      "outputs": []
    },
    {
      "cell_type": "markdown",
      "metadata": {
        "id": "F-JRQkK_tOQC",
        "colab_type": "text"
      },
      "source": [
        "### Model evaluation "
      ]
    },
    {
      "cell_type": "code",
      "metadata": {
        "id": "ZYEBqHGPpkcp",
        "colab_type": "code",
        "colab": {
          "base_uri": "https://localhost:8080/",
          "height": 34
        },
        "outputId": "af792380-d516-462b-ca38-24bfb7db56c0"
      },
      "source": [
        "accuracy(weights, bias, x_train, y_train)"
      ],
      "execution_count": 34,
      "outputs": [
        {
          "output_type": "execute_result",
          "data": {
            "text/plain": [
              "0.90625"
            ]
          },
          "metadata": {
            "tags": []
          },
          "execution_count": 34
        }
      ]
    },
    {
      "cell_type": "markdown",
      "metadata": {
        "id": "ZjUpMxzGjnf_",
        "colab_type": "text"
      },
      "source": [
        "This is the final loss value which idicates roughly how \"wrong\" the esitmations were compared to the real class labels. The lower the value, the more accurate. "
      ]
    },
    {
      "cell_type": "code",
      "metadata": {
        "id": "udGiG70Wi351",
        "colab_type": "code",
        "colab": {
          "base_uri": "https://localhost:8080/",
          "height": 34
        },
        "outputId": "7ccba57a-3fa5-4d2f-bf26-0c3253a6f7dc"
      },
      "source": [
        "loss"
      ],
      "execution_count": 22,
      "outputs": [
        {
          "output_type": "execute_result",
          "data": {
            "text/plain": [
              "0.03401478683754211"
            ]
          },
          "metadata": {
            "tags": []
          },
          "execution_count": 22
        }
      ]
    },
    {
      "cell_type": "markdown",
      "metadata": {
        "id": "i0qBuye7sk_4",
        "colab_type": "text"
      },
      "source": [
        "### Model accuracy"
      ]
    },
    {
      "cell_type": "markdown",
      "metadata": {
        "id": "T74wrNZnV2II",
        "colab_type": "text"
      },
      "source": [
        "This graph works the same as problem 2 but the weights and bias used to determine the class/z value are from the numpy logistic regression model rather than the keras model. "
      ]
    },
    {
      "cell_type": "code",
      "metadata": {
        "id": "CqMxcft6N-Nf",
        "colab_type": "code",
        "colab": {
          "base_uri": "https://localhost:8080/",
          "height": 280
        },
        "outputId": "3b5b42dc-5d68-4afa-d9ac-9a2f73bb25db"
      },
      "source": [
        "model_accuracy(labels, data, w, b, weights, bias)"
      ],
      "execution_count": 35,
      "outputs": [
        {
          "output_type": "display_data",
          "data": {
            "image/png": "[encoded data removed]",
            "text/plain": [
              "<Figure size 432x288 with 1 Axes>"
            ]
          },
          "metadata": {
            "tags": []
          }
        }
      ]
    },
    {
      "cell_type": "markdown",
      "metadata": {
        "id": "lXKxg4IfVSli",
        "colab_type": "text"
      },
      "source": [
        "### Class activation heatmap "
      ]
    },
    {
      "cell_type": "markdown",
      "metadata": {
        "id": "I2QsmTkiVWWi",
        "colab_type": "text"
      },
      "source": [
        "This heatmap works the same as problem 2 but the weights and bias used to determine the class/z value are from the numpy logistic regression model rather than the keras model. "
      ]
    },
    {
      "cell_type": "code",
      "metadata": {
        "id": "IUmRL9fsCriL",
        "colab_type": "code",
        "colab": {
          "base_uri": "https://localhost:8080/",
          "height": 281
        },
        "outputId": "d480af53-7dbd-404f-d9d8-abeadedad2ec"
      },
      "source": [
        "heatmap(weights, bias, data)"
      ],
      "execution_count": 29,
      "outputs": [
        {
          "output_type": "display_data",
          "data": {
            "image/png": "[encoded data removed]",
            "text/plain": [
              "<Figure size 432x288 with 2 Axes>"
            ]
          },
          "metadata": {
            "tags": []
          }
        }
      ]
    }
  ]
}
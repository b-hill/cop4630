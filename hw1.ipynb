{
  "nbformat": 4,
  "nbformat_minor": 0,
  "metadata": {
    "colab": {
      "name": "hw1.ipynb",
      "provenance": [],
      "collapsed_sections": [
        "eOn-H-Yl9DxW",
        "eJnGbyA-7KbG",
        "7cNGHrmk4UvS",
        "5FG-tMPl4fR8",
        "4ZTVY7u14ufa",
        "dr8RVXAB7aO3",
        "lrJvT0ch7cpC",
        "eQGj0Hqw7kO5"
      ],
      "authorship_tag": "ABX9TyOURf9P+gVPDYj2+Mn1lTeI",
      "include_colab_link": true
    },
    "kernelspec": {
      "name": "python3",
      "display_name": "Python 3"
    }
  },
  "cells": [
    {
      "cell_type": "markdown",
      "metadata": {
        "id": "view-in-github",
        "colab_type": "text"
      },
      "source": [
        "<a href=\"https://colab.research.google.com/github/b-hill/cop4630/blob/master/hw1.ipynb\" target=\"_parent\"><img src=\"https://colab.research.google.com/assets/colab-badge.svg\" alt=\"Open In Colab\"/></a>"
      ]
    },
    {
      "cell_type": "markdown",
      "metadata": {
        "id": "R_Kl5ymD4DUk",
        "colab_type": "text"
      },
      "source": [
        "# Matrix Multiplication"
      ]
    },
    {
      "cell_type": "markdown",
      "metadata": {
        "id": "uLbuBn7J9JCx",
        "colab_type": "text"
      },
      "source": [
        "## Program Info"
      ]
    },
    {
      "cell_type": "markdown",
      "metadata": {
        "id": "YU9-FK6l9Oh1",
        "colab_type": "text"
      },
      "source": [
        "### What It Does\n",
        "\n",
        "This program multiplies any list of matrices and throws an execption when the matrices arent compatible. It will also specify which matrices casued the exception to be thrown. \n"
      ]
    },
    {
      "cell_type": "markdown",
      "metadata": {
        "id": "MVWQvqe38eLw",
        "colab_type": "text"
      },
      "source": [
        "### Matrix Multiplication Rules\n",
        "\n",
        "When multiplying 2 matrices in the form AB = C, the number of columns of matrix A must equal the number of rows of matrix B. That is to say if A has a shape (p,q) and B has a shape (j,k) then q **must** equal j. Furthermore, C will always have the same number of rows as A and the same number of columns as B, meaning C **must** be of shape (p,k). "
      ]
    },
    {
      "cell_type": "markdown",
      "metadata": {
        "id": "gphgfE-V-x6R",
        "colab_type": "text"
      },
      "source": [
        "$$A = \\begin{Bmatrix}\n",
        "1 & 2 & 3\\\\\n",
        "4 & 5 & 6\n",
        "\\end{Bmatrix} \\ \\\n",
        "B = \\begin{Bmatrix}\n",
        "1 & 2 \\\\\n",
        "3 & 4 \\\\\n",
        "5 & 6\n",
        "\\end{Bmatrix} \\ \\ \n",
        "C = \\begin{Bmatrix}\n",
        "1  \\\\\n",
        "2  \\\\\n",
        "3\n",
        "\\end{Bmatrix}\n",
        "\\\\\n",
        "AB = D = \\begin{Bmatrix}\n",
        "22 & 28 \\\\\n",
        "49 & 64 \\\\\n",
        "\\end{Bmatrix}\n",
        "\\\\\n",
        "BC = ERROR$$"
      ]
    },
    {
      "cell_type": "markdown",
      "metadata": {
        "id": "eOn-H-Yl9DxW",
        "colab_type": "text"
      },
      "source": [
        "## Set Up"
      ]
    },
    {
      "cell_type": "markdown",
      "metadata": {
        "id": "eJnGbyA-7KbG",
        "colab_type": "text"
      },
      "source": [
        "### Imports"
      ]
    },
    {
      "cell_type": "code",
      "metadata": {
        "id": "UlgZMFa83HQ5",
        "colab_type": "code",
        "colab": {}
      },
      "source": [
        "import numpy as np\n",
        "from functools import reduce"
      ],
      "execution_count": 0,
      "outputs": []
    },
    {
      "cell_type": "markdown",
      "metadata": {
        "id": "7cNGHrmk4UvS",
        "colab_type": "text"
      },
      "source": [
        "### Example Matrices"
      ]
    },
    {
      "cell_type": "code",
      "metadata": {
        "id": "72QaQMDn4Z2O",
        "colab_type": "code",
        "colab": {}
      },
      "source": [
        "a = np.array([[1,2,3]])\n",
        "b = np.array([[4],[5],[6]])\n",
        "c = np.array([[1,2,3], [4,5,6], [7,8,9]])\n",
        "d = np.array([[9,8,7], [6,5,4], [3,2,1]])"
      ],
      "execution_count": 0,
      "outputs": []
    },
    {
      "cell_type": "markdown",
      "metadata": {
        "id": "5FG-tMPl4fR8",
        "colab_type": "text"
      },
      "source": [
        "## Exception and Function Definition "
      ]
    },
    {
      "cell_type": "markdown",
      "metadata": {
        "id": "4ZTVY7u14ufa",
        "colab_type": "text"
      },
      "source": [
        "### New Error Class\n",
        "This is used as a simple wrapper for another error later.  "
      ]
    },
    {
      "cell_type": "code",
      "metadata": {
        "id": "w7zf7XYR5FBq",
        "colab_type": "code",
        "colab": {}
      },
      "source": [
        "class MatrixError(Exception):\n",
        "  pass"
      ],
      "execution_count": 0,
      "outputs": []
    },
    {
      "cell_type": "markdown",
      "metadata": {
        "id": "QxUsPxH_5FPn",
        "colab_type": "text"
      },
      "source": [
        "### The Helper Function\n",
        "This takes in **just two** matrices and performs matrix multiplication on them. It will catch the value error thrown by numpy if the dimentions are incompatible and return our custom exception which specifies which two matrices raised the error."
      ]
    },
    {
      "cell_type": "code",
      "metadata": {
        "id": "HIskGKd9trBo",
        "colab_type": "code",
        "colab": {}
      },
      "source": [
        "def mulitply_matrices_helper(a, b):\n",
        "  try:\n",
        "    return np.dot(a,b)\n",
        "  except ValueError as e:\n",
        "    raise MatrixError(\n",
        "        \"Incompatible matrix dimenstions between: \\n%s \\nand \\n%s\" % (a, b))"
      ],
      "execution_count": 0,
      "outputs": []
    },
    {
      "cell_type": "markdown",
      "metadata": {
        "id": "GsAs0BLl5xgs",
        "colab_type": "text"
      },
      "source": [
        "### The Primary Function\n",
        "This simply uses reduce to perform the matrix multiplication on the sequence of matrices. Reduce is very similar to map except reduce will use the value obtained from the previous computation in the next iteration. For example, reduce will call an arbitrary function on `element1` and `element2` of a list and return `res`. Reduce will then perform the function again but the arguments will now be `res` and `element3`. "
      ]
    },
    {
      "cell_type": "code",
      "metadata": {
        "id": "lPqr7aYj67af",
        "colab_type": "code",
        "colab": {}
      },
      "source": [
        "def multiply_matrices(matrices):\n",
        "  return reduce(lambda a,b: mulitply_matrices_helper(a,b), matrices) "
      ],
      "execution_count": 0,
      "outputs": []
    },
    {
      "cell_type": "markdown",
      "metadata": {
        "id": "dr8RVXAB7aO3",
        "colab_type": "text"
      },
      "source": [
        "## Examples"
      ]
    },
    {
      "cell_type": "markdown",
      "metadata": {
        "id": "lrJvT0ch7cpC",
        "colab_type": "text"
      },
      "source": [
        "### Passing Case\n",
        "With manual verifcation. "
      ]
    },
    {
      "cell_type": "code",
      "metadata": {
        "id": "FjOriZBHwHox",
        "colab_type": "code",
        "colab": {
          "base_uri": "https://localhost:8080/",
          "height": 170
        },
        "outputId": "429b7c94-7017-43a2-ec5a-130eb5795a37"
      },
      "source": [
        "res1 = multiply_matrices([c,d,b])\n",
        "print(\"Response:\")\n",
        "print(res1)\n",
        "\n",
        "e = np.dot(c,d)\n",
        "f = np.dot(e,b)\n",
        "print(\"\\nVerification:\")\n",
        "print(f)"
      ],
      "execution_count": 6,
      "outputs": [
        {
          "output_type": "stream",
          "text": [
            "Response:\n",
            "[[ 348]\n",
            " [1005]\n",
            " [1662]]\n",
            "\n",
            "Verification:\n",
            "[[ 348]\n",
            " [1005]\n",
            " [1662]]\n"
          ],
          "name": "stdout"
        }
      ]
    },
    {
      "cell_type": "markdown",
      "metadata": {
        "id": "eQGj0Hqw7kO5",
        "colab_type": "text"
      },
      "source": [
        "### Failing Case \n",
        "This will throw the custom exception."
      ]
    },
    {
      "cell_type": "code",
      "metadata": {
        "id": "t2eXkLx80A7v",
        "colab_type": "code",
        "colab": {
          "base_uri": "https://localhost:8080/",
          "height": 510
        },
        "outputId": "95458bd1-873a-481a-b4fa-186870d081e5"
      },
      "source": [
        "res2 = multiply_matrices([c,d,a])\n",
        "print(res2)"
      ],
      "execution_count": 7,
      "outputs": [
        {
          "output_type": "error",
          "ename": "MatrixError",
          "evalue": "ignored",
          "traceback": [
            "\u001b[0;31m---------------------------------------------------------------------------\u001b[0m",
            "\u001b[0;31mValueError\u001b[0m                                Traceback (most recent call last)",
            "\u001b[0;32m<ipython-input-4-d1f3a0675810>\u001b[0m in \u001b[0;36mmulitply_matrices_helper\u001b[0;34m(a, b)\u001b[0m\n\u001b[1;32m      2\u001b[0m   \u001b[0;32mtry\u001b[0m\u001b[0;34m:\u001b[0m\u001b[0;34m\u001b[0m\u001b[0;34m\u001b[0m\u001b[0m\n\u001b[0;32m----> 3\u001b[0;31m     \u001b[0;32mreturn\u001b[0m \u001b[0mnp\u001b[0m\u001b[0;34m.\u001b[0m\u001b[0mdot\u001b[0m\u001b[0;34m(\u001b[0m\u001b[0ma\u001b[0m\u001b[0;34m,\u001b[0m\u001b[0mb\u001b[0m\u001b[0;34m)\u001b[0m\u001b[0;34m\u001b[0m\u001b[0;34m\u001b[0m\u001b[0m\n\u001b[0m\u001b[1;32m      4\u001b[0m   \u001b[0;32mexcept\u001b[0m \u001b[0mValueError\u001b[0m \u001b[0;32mas\u001b[0m \u001b[0me\u001b[0m\u001b[0;34m:\u001b[0m\u001b[0;34m\u001b[0m\u001b[0;34m\u001b[0m\u001b[0m\n",
            "\u001b[0;32m<__array_function__ internals>\u001b[0m in \u001b[0;36mdot\u001b[0;34m(*args, **kwargs)\u001b[0m\n",
            "\u001b[0;31mValueError\u001b[0m: shapes (3,3) and (1,3) not aligned: 3 (dim 1) != 1 (dim 0)",
            "\nDuring handling of the above exception, another exception occurred:\n",
            "\u001b[0;31mMatrixError\u001b[0m                               Traceback (most recent call last)",
            "\u001b[0;32m<ipython-input-7-310e64202dd3>\u001b[0m in \u001b[0;36m<module>\u001b[0;34m()\u001b[0m\n\u001b[0;32m----> 1\u001b[0;31m \u001b[0mres2\u001b[0m \u001b[0;34m=\u001b[0m \u001b[0mmultiply_matrices\u001b[0m\u001b[0;34m(\u001b[0m\u001b[0;34m[\u001b[0m\u001b[0mc\u001b[0m\u001b[0;34m,\u001b[0m\u001b[0md\u001b[0m\u001b[0;34m,\u001b[0m\u001b[0ma\u001b[0m\u001b[0;34m]\u001b[0m\u001b[0;34m)\u001b[0m\u001b[0;34m\u001b[0m\u001b[0;34m\u001b[0m\u001b[0m\n\u001b[0m\u001b[1;32m      2\u001b[0m \u001b[0mprint\u001b[0m\u001b[0;34m(\u001b[0m\u001b[0mres2\u001b[0m\u001b[0;34m)\u001b[0m\u001b[0;34m\u001b[0m\u001b[0;34m\u001b[0m\u001b[0m\n",
            "\u001b[0;32m<ipython-input-5-b932c7418c6e>\u001b[0m in \u001b[0;36mmultiply_matrices\u001b[0;34m(matrices)\u001b[0m\n\u001b[1;32m      1\u001b[0m \u001b[0;32mdef\u001b[0m \u001b[0mmultiply_matrices\u001b[0m\u001b[0;34m(\u001b[0m\u001b[0mmatrices\u001b[0m\u001b[0;34m)\u001b[0m\u001b[0;34m:\u001b[0m\u001b[0;34m\u001b[0m\u001b[0;34m\u001b[0m\u001b[0m\n\u001b[0;32m----> 2\u001b[0;31m   \u001b[0;32mreturn\u001b[0m \u001b[0mreduce\u001b[0m\u001b[0;34m(\u001b[0m\u001b[0;32mlambda\u001b[0m \u001b[0ma\u001b[0m\u001b[0;34m,\u001b[0m\u001b[0mb\u001b[0m\u001b[0;34m:\u001b[0m \u001b[0mmulitply_matrices_helper\u001b[0m\u001b[0;34m(\u001b[0m\u001b[0ma\u001b[0m\u001b[0;34m,\u001b[0m\u001b[0mb\u001b[0m\u001b[0;34m)\u001b[0m\u001b[0;34m,\u001b[0m \u001b[0mmatrices\u001b[0m\u001b[0;34m)\u001b[0m\u001b[0;34m\u001b[0m\u001b[0;34m\u001b[0m\u001b[0m\n\u001b[0m",
            "\u001b[0;32m<ipython-input-5-b932c7418c6e>\u001b[0m in \u001b[0;36m<lambda>\u001b[0;34m(a, b)\u001b[0m\n\u001b[1;32m      1\u001b[0m \u001b[0;32mdef\u001b[0m \u001b[0mmultiply_matrices\u001b[0m\u001b[0;34m(\u001b[0m\u001b[0mmatrices\u001b[0m\u001b[0;34m)\u001b[0m\u001b[0;34m:\u001b[0m\u001b[0;34m\u001b[0m\u001b[0;34m\u001b[0m\u001b[0m\n\u001b[0;32m----> 2\u001b[0;31m   \u001b[0;32mreturn\u001b[0m \u001b[0mreduce\u001b[0m\u001b[0;34m(\u001b[0m\u001b[0;32mlambda\u001b[0m \u001b[0ma\u001b[0m\u001b[0;34m,\u001b[0m\u001b[0mb\u001b[0m\u001b[0;34m:\u001b[0m \u001b[0mmulitply_matrices_helper\u001b[0m\u001b[0;34m(\u001b[0m\u001b[0ma\u001b[0m\u001b[0;34m,\u001b[0m\u001b[0mb\u001b[0m\u001b[0;34m)\u001b[0m\u001b[0;34m,\u001b[0m \u001b[0mmatrices\u001b[0m\u001b[0;34m)\u001b[0m\u001b[0;34m\u001b[0m\u001b[0;34m\u001b[0m\u001b[0m\n\u001b[0m",
            "\u001b[0;32m<ipython-input-4-d1f3a0675810>\u001b[0m in \u001b[0;36mmulitply_matrices_helper\u001b[0;34m(a, b)\u001b[0m\n\u001b[1;32m      4\u001b[0m   \u001b[0;32mexcept\u001b[0m \u001b[0mValueError\u001b[0m \u001b[0;32mas\u001b[0m \u001b[0me\u001b[0m\u001b[0;34m:\u001b[0m\u001b[0;34m\u001b[0m\u001b[0;34m\u001b[0m\u001b[0m\n\u001b[1;32m      5\u001b[0m     raise MatrixError(\n\u001b[0;32m----> 6\u001b[0;31m         \"Incompatible matrix dimenstions between: \\n%s \\nand \\n%s\" % (a, b))\n\u001b[0m",
            "\u001b[0;31mMatrixError\u001b[0m: Incompatible matrix dimenstions between: \n[[ 30  24  18]\n [ 84  69  54]\n [138 114  90]] \nand \n[[1 2 3]]"
          ]
        }
      ]
    }
  ]
}
{
  "nbformat": 4,
  "nbformat_minor": 0,
  "metadata": {
    "colab": {
      "name": "problem2.ipynb",
      "provenance": [],
      "collapsed_sections": [],
      "include_colab_link": true
    },
    "kernelspec": {
      "name": "python3",
      "display_name": "Python 3"
    }
  },
  "cells": [
    {
      "cell_type": "markdown",
      "metadata": {
        "id": "view-in-github",
        "colab_type": "text"
      },
      "source": [
        "<a href=\"https://colab.research.google.com/github/b-hill/cop4630/blob/master/HW_2/problem2.ipynb\" target=\"_parent\"><img src=\"https://colab.research.google.com/assets/colab-badge.svg\" alt=\"Open In Colab\"/></a>"
      ]
    },
    {
      "cell_type": "markdown",
      "metadata": {
        "id": "p7o0zwjha_r9",
        "colab_type": "text"
      },
      "source": [
        "# Notebook for solving linear regression using the batch/mini-batch/stochastic gradient descent"
      ]
    },
    {
      "cell_type": "markdown",
      "metadata": {
        "id": "BGqyg2_7gp7A",
        "colab_type": "text"
      },
      "source": [
        "## Imports"
      ]
    },
    {
      "cell_type": "code",
      "metadata": {
        "id": "l5rq92V7ObHs",
        "colab_type": "code",
        "colab": {}
      },
      "source": [
        "import numpy as np\n",
        "%matplotlib inline\n",
        "import matplotlib as mpl\n",
        "import matplotlib.pyplot as plt\n",
        "mpl.rc('axes', labelsize=14)\n",
        "mpl.rc('xtick', labelsize=12)\n",
        "mpl.rc('ytick', labelsize=12)"
      ],
      "execution_count": 0,
      "outputs": []
    },
    {
      "cell_type": "markdown",
      "metadata": {
        "id": "jKQkCwH3gf-p",
        "colab_type": "text"
      },
      "source": [
        "## Generate random data"
      ]
    },
    {
      "cell_type": "code",
      "metadata": {
        "id": "B4VTPpXkOhds",
        "colab_type": "code",
        "colab": {}
      },
      "source": [
        "# generate m random pairs (x, y)\n",
        "\n",
        "m = 100\n",
        "X = 2 * np.random.rand(m, 1)\n",
        "y = 4 + 3 * X + np.random.rand(m, 1)"
      ],
      "execution_count": 0,
      "outputs": []
    },
    {
      "cell_type": "code",
      "metadata": {
        "id": "PlhVE5hJSbsy",
        "colab_type": "code",
        "outputId": "b716903d-0415-41ea-e802-4b55f2fb9e0e",
        "colab": {
          "base_uri": "https://localhost:8080/",
          "height": 290
        }
      },
      "source": [
        "plt.plot(X, y, \"b.\")\n",
        "plt.xlabel(\"$x_1$\", fontsize=18)\n",
        "plt.ylabel(\"$y$\", rotation=0, fontsize=18)\n",
        "plt.axis([0, 2, 0, 15])\n",
        "plt.show()"
      ],
      "execution_count": 0,
      "outputs": [
        {
          "output_type": "display_data",
          "data": {
            "image/png": "[encoded data removed]",
            "text/plain": [
              "<Figure size 432x288 with 1 Axes>"
            ]
          },
          "metadata": {
            "tags": []
          }
        }
      ]
    },
    {
      "cell_type": "code",
      "metadata": {
        "id": "uwz8V0_Rfyn3",
        "colab_type": "code",
        "outputId": "7d2ed23c-1f17-4393-d6ce-d3f640ebc073",
        "colab": {
          "base_uri": "https://localhost:8080/",
          "height": 35
        }
      },
      "source": [
        "print(X.shape)"
      ],
      "execution_count": 0,
      "outputs": [
        {
          "output_type": "stream",
          "text": [
            "(100, 1)\n"
          ],
          "name": "stdout"
        }
      ]
    },
    {
      "cell_type": "code",
      "metadata": {
        "id": "dB7lUU2EmGHF",
        "colab_type": "code",
        "outputId": "df76d518-13e2-40f2-ae92-1c4db718e887",
        "colab": {
          "base_uri": "https://localhost:8080/",
          "height": 104
        }
      },
      "source": [
        "# show the first 5 rows\n",
        "print(X[:5, :])"
      ],
      "execution_count": 0,
      "outputs": [
        {
          "output_type": "stream",
          "text": [
            "[[0.96309868]\n",
            " [1.27088729]\n",
            " [0.1814434 ]\n",
            " [0.0652359 ]\n",
            " [0.11540586]]\n"
          ],
          "name": "stdout"
        }
      ]
    },
    {
      "cell_type": "markdown",
      "metadata": {
        "id": "v0YY-q9Zj0pv",
        "colab_type": "text"
      },
      "source": [
        "## Combine bias $b=w_0$ and weight $w_1$"
      ]
    },
    {
      "cell_type": "markdown",
      "metadata": {
        "id": "-qm83_mNkJX9",
        "colab_type": "text"
      },
      "source": [
        "Linear regression predicts $\\hat{y}=b + w_1 x_1$. It will be convenient to rewrite this as a dot product.  Define $w=(w_0, w_1)$ and $x=(1, x_1)$.  Then, we have $\\hat{y}=w \\boldsymbol{\\cdot} x$."
      ]
    },
    {
      "cell_type": "code",
      "metadata": {
        "id": "VmYytw5LSeki",
        "colab_type": "code",
        "colab": {}
      },
      "source": [
        "# add x0 = 1 \n",
        "X_b = np.column_stack([np.ones((m, 1)), X])"
      ],
      "execution_count": 0,
      "outputs": []
    },
    {
      "cell_type": "code",
      "metadata": {
        "id": "QwrdvAfuiRaf",
        "colab_type": "code",
        "outputId": "77bc60d2-51f2-4f7a-befd-0004c534fd03",
        "colab": {
          "base_uri": "https://localhost:8080/",
          "height": 35
        }
      },
      "source": [
        "print(X_b.shape)"
      ],
      "execution_count": 0,
      "outputs": [
        {
          "output_type": "stream",
          "text": [
            "(100, 2)\n"
          ],
          "name": "stdout"
        }
      ]
    },
    {
      "cell_type": "code",
      "metadata": {
        "id": "eVzZOlJHicUH",
        "colab_type": "code",
        "outputId": "dedc3059-e2ea-4a26-da7a-63fe91251b7e",
        "colab": {
          "base_uri": "https://localhost:8080/",
          "height": 104
        }
      },
      "source": [
        "# show the first 5 rows\n",
        "print(X_b[:5, :])"
      ],
      "execution_count": 0,
      "outputs": [
        {
          "output_type": "stream",
          "text": [
            "[[1.         0.96309868]\n",
            " [1.         1.27088729]\n",
            " [1.         0.1814434 ]\n",
            " [1.         0.0652359 ]\n",
            " [1.         0.11540586]]\n"
          ],
          "name": "stdout"
        }
      ]
    },
    {
      "cell_type": "code",
      "metadata": {
        "id": "pkcH-nGGiPgn",
        "colab_type": "code",
        "colab": {}
      },
      "source": [
        "# create array with x1=0 and x1=2\n",
        "X_new = np.array([[0], [2]])\n",
        "# add x0 = 1 to each instance\n",
        "X_new_b = np.column_stack([np.ones((2, 1)), X_new])"
      ],
      "execution_count": 0,
      "outputs": []
    },
    {
      "cell_type": "code",
      "metadata": {
        "id": "fhIiph8piIJg",
        "colab_type": "code",
        "outputId": "ca19c3b7-54c1-450b-c025-f2c331db2f01",
        "colab": {
          "base_uri": "https://localhost:8080/",
          "height": 52
        }
      },
      "source": [
        "print(X_new_b)"
      ],
      "execution_count": 0,
      "outputs": [
        {
          "output_type": "stream",
          "text": [
            "[[1. 0.]\n",
            " [1. 2.]]\n"
          ],
          "name": "stdout"
        }
      ]
    },
    {
      "cell_type": "markdown",
      "metadata": {
        "id": "M2Jxr5VzdPmi",
        "colab_type": "text"
      },
      "source": [
        "# Linear regression using mini-batch gradient descent\n",
        "A few training examples are selected to compute the gradient."
      ]
    },
    {
      "cell_type": "code",
      "metadata": {
        "id": "SUa3UH9EdFR-",
        "colab_type": "code",
        "colab": {}
      },
      "source": [
        "weight = initial_weight\n",
        "weight_path_mgd = []\n",
        "batch_size = 4\n",
        "\n",
        "weight_path_mgd.append(weight)\n",
        "for epoch in range(epochs):\n",
        "    shuffled_indices = np.random.permutation(m)\n",
        "    X_b_shuffled = X_b[shuffled_indices]\n",
        "    y_shuffled = y[shuffled_indices]\n",
        "    for i in range(0, m, batch_size):\n",
        "        xi = X_b_shuffled[i:i+batch_size]\n",
        "        yi = y_shuffled[i:i+batch_size]\n",
        "        gradient = 1 / batch_size * xi.T.dot(xi.dot(weight) - yi)\n",
        "        weight = weight - lr * gradient\n",
        "        weight_path_mgd.append(weight)"
      ],
      "execution_count": 0,
      "outputs": []
    },
    {
      "cell_type": "code",
      "metadata": {
        "id": "Ypw1a8jJdyQm",
        "colab_type": "code",
        "outputId": "c5cbaf42-8cff-4d54-f431-2fc8607fda8f",
        "colab": {
          "base_uri": "https://localhost:8080/",
          "height": 52
        }
      },
      "source": [
        "weight_path_mgd[-1]"
      ],
      "execution_count": 0,
      "outputs": [
        {
          "output_type": "execute_result",
          "data": {
            "text/plain": [
              "array([[4.17760584],\n",
              "       [3.27504679]])"
            ]
          },
          "metadata": {
            "tags": []
          },
          "execution_count": 301
        }
      ]
    },
    {
      "cell_type": "code",
      "metadata": {
        "id": "v89X0u97d29m",
        "colab_type": "code",
        "colab": {}
      },
      "source": [
        "weight_path_bgd = np.array(weight_path_bgd)\n",
        "weight_path_sgd = np.array(weight_path_sgd)\n",
        "weight_path_mgd = np.array(weight_path_mgd)"
      ],
      "execution_count": 0,
      "outputs": []
    },
    {
      "cell_type": "markdown",
      "metadata": {
        "id": "FFnmrdNfqoKT",
        "colab_type": "text"
      },
      "source": [
        "### Compare the three types"
      ]
    },
    {
      "cell_type": "code",
      "metadata": {
        "id": "BGHEQbJFeCL3",
        "colab_type": "code",
        "outputId": "b1ac179e-a545-45f3-caad-0060de84c75d",
        "colab": {
          "base_uri": "https://localhost:8080/",
          "height": 731
        }
      },
      "source": [
        "plt.figure(figsize=(12,12))\n",
        "plt.plot(weight_path_sgd[:, 0], weight_path_sgd[:, 1], \"r-s\", linewidth=1, label=\"stochastic\")\n",
        "plt.plot(weight_path_mgd[:, 0], weight_path_mgd[:, 1], \"g-s\", linewidth=2, label=\"mini-batch\")\n",
        "plt.plot(weight_path_bgd[:, 0], weight_path_bgd[:, 1], \"b-s\", linewidth=3, label=\"batch\")\n",
        "plt.legend(loc=\"upper left\", fontsize=16)\n",
        "plt.xlabel(r\"$w_0$\", fontsize=20)\n",
        "plt.ylabel(r\"$w_1$   \", fontsize=20, rotation=0)\n",
        "plt.axis([-1, 5, -1, 4])\n",
        "plt.show()"
      ],
      "execution_count": 0,
      "outputs": [
        {
          "output_type": "display_data",
          "data": {
            "image/png": "[encoded data removed]",
            "text/plain": [
              "<Figure size 864x864 with 1 Axes>"
            ]
          },
          "metadata": {
            "tags": []
          }
        }
      ]
    },
    {
      "cell_type": "code",
      "metadata": {
        "id": "hzRt0oCqeTTu",
        "colab_type": "code",
        "outputId": "ab8b7b7c-3141-4c60-8123-d9f2883049fb",
        "colab": {
          "base_uri": "https://localhost:8080/",
          "height": 731
        }
      },
      "source": [
        "plt.figure(figsize=(12,12))\n",
        "plt.plot(weight_path_sgd[:, 0], weight_path_sgd[:, 1], \"r-s\", linewidth=1, label=\"stochastic\")\n",
        "plt.plot(weight_path_mgd[:, 0], weight_path_mgd[:, 1], \"g-s\", linewidth=2, label=\"mini-batch\")\n",
        "plt.plot(weight_path_bgd[:, 0], weight_path_bgd[:, 1], \"b-s\", linewidth=3, label=\"batch\")\n",
        "plt.legend(loc=\"upper left\", fontsize=16)\n",
        "plt.xlabel(r\"$w_0$\", fontsize=20)\n",
        "plt.ylabel(r\"$w_1$   \", fontsize=20, rotation=0)\n",
        "plt.axis([3, 4.5, 2.5, 4])\n",
        "plt.show()"
      ],
      "execution_count": 0,
      "outputs": [
        {
          "output_type": "display_data",
          "data": {
            "image/png": "[encoded data removed]",
            "text/plain": [
              "<Figure size 864x864 with 1 Axes>"
            ]
          },
          "metadata": {
            "tags": []
          }
        }
      ]
    },
    {
      "cell_type": "code",
      "metadata": {
        "id": "6fpdeTDI3Zmc",
        "colab_type": "code",
        "colab": {}
      },
      "source": [
        ""
      ],
      "execution_count": 0,
      "outputs": []
    }
  ]
}
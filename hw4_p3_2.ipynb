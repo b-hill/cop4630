{
  "nbformat": 4,
  "nbformat_minor": 0,
  "metadata": {
    "colab": {
      "name": "hw4_p3.2.ipynb",
      "provenance": [],
      "authorship_tag": "ABX9TyMyX0hZFhm9IyXvPXmntMy7",
      "include_colab_link": true
    },
    "kernelspec": {
      "name": "python3",
      "display_name": "Python 3"
    },
    "accelerator": "GPU"
  },
  "cells": [
    {
      "cell_type": "markdown",
      "metadata": {
        "id": "view-in-github",
        "colab_type": "text"
      },
      "source": [
        "<a href=\"https://colab.research.google.com/github/b-hill/cop4630/blob/master/hw4_p3_2.ipynb\" target=\"_parent\"><img src=\"https://colab.research.google.com/assets/colab-badge.svg\" alt=\"Open In Colab\"/></a>"
      ]
    },
    {
      "cell_type": "markdown",
      "metadata": {
        "id": "Gh2Ucx5WawRl",
        "colab_type": "text"
      },
      "source": [
        "# Edits\n",
        "\n",
        "I decided to exchange the VGG16 model for ResNet. This was primartily because I'm implementing ResNet for a pose estimation app for senior design and i would like to see how the so called king of image classification models fairs in another context.  "
      ]
    },
    {
      "cell_type": "markdown",
      "metadata": {
        "id": "BqIG8QHMLNOn",
        "colab_type": "text"
      },
      "source": [
        "## Download the data"
      ]
    },
    {
      "cell_type": "markdown",
      "metadata": {
        "id": "t3I1jd7cKV6_",
        "colab_type": "text"
      },
      "source": [
        "Download the example data, a zip. of 2,000 JPG pictures of cats and dogs and extract it locally in ```/tmp```.\n",
        "\n"
      ]
    },
    {
      "cell_type": "code",
      "metadata": {
        "id": "JWjprHEXJ5Qi",
        "colab_type": "code",
        "outputId": "0dbdc626-e6cb-489a-89e7-2349a9446806",
        "colab": {
          "base_uri": "https://localhost:8080/",
          "height": 204
        }
      },
      "source": [
        "!wget --no-check-certificate \\\n",
        "    https://storage.googleapis.com/mledu-datasets/cats_and_dogs_filtered.zip \\\n",
        "    -O /tmp/cats_and_dogs_filtered.zip"
      ],
      "execution_count": 1,
      "outputs": [
        {
          "output_type": "stream",
          "text": [
            "--2020-04-21 21:59:38--  https://storage.googleapis.com/mledu-datasets/cats_and_dogs_filtered.zip\n",
            "Resolving storage.googleapis.com (storage.googleapis.com)... 64.233.189.128, 2404:6800:4008:c04::80\n",
            "Connecting to storage.googleapis.com (storage.googleapis.com)|64.233.189.128|:443... connected.\n",
            "HTTP request sent, awaiting response... 200 OK\n",
            "Length: 68606236 (65M) [application/zip]\n",
            "Saving to: ‘/tmp/cats_and_dogs_filtered.zip’\n",
            "\n",
            "/tmp/cats_and_dogs_ 100%[===================>]  65.43M  68.6MB/s    in 1.0s    \n",
            "\n",
            "2020-04-21 21:59:39 (68.6 MB/s) - ‘/tmp/cats_and_dogs_filtered.zip’ saved [68606236/68606236]\n",
            "\n"
          ],
          "name": "stdout"
        }
      ]
    },
    {
      "cell_type": "code",
      "metadata": {
        "id": "WvoHtdA-K6Rw",
        "colab_type": "code",
        "colab": {}
      },
      "source": [
        "import os\n",
        "import zipfile\n",
        "\n",
        "local_zip = '/tmp/cats_and_dogs_filtered.zip'\n",
        "zip_ref = zipfile.ZipFile(local_zip, 'r')\n",
        "zip_ref.extractall('/tmp')\n",
        "zip_ref.close()"
      ],
      "execution_count": 0,
      "outputs": []
    },
    {
      "cell_type": "markdown",
      "metadata": {
        "id": "shZiOBnJMyy_",
        "colab_type": "text"
      },
      "source": [
        "Note that the data provided by Google does not have a test set."
      ]
    },
    {
      "cell_type": "code",
      "metadata": {
        "id": "dL8ikM89LlsH",
        "colab_type": "code",
        "colab": {}
      },
      "source": [
        "base_dir = '/tmp/cats_and_dogs_filtered'\n",
        "train_dir = os.path.join(base_dir, 'train')\n",
        "validation_dir = os.path.join(base_dir, 'validation')\n",
        "\n",
        "# Directory with our training cat pictures\n",
        "train_cats_dir = os.path.join(train_dir, 'cats')\n",
        "\n",
        "# Directory with our training dog pictures\n",
        "train_dogs_dir = os.path.join(train_dir, 'dogs')\n",
        "\n",
        "# Directory with our validation cat pictures\n",
        "validation_cats_dir = os.path.join(validation_dir, 'cats')\n",
        "\n",
        "# Directory with our validation dog pictures\n",
        "validation_dogs_dir = os.path.join(validation_dir, 'dogs')"
      ],
      "execution_count": 0,
      "outputs": []
    },
    {
      "cell_type": "markdown",
      "metadata": {
        "id": "inyP8bcdXnn-",
        "colab_type": "text"
      },
      "source": [
        "## Build network with MobileNet convolution base and custom densely connected layers"
      ]
    },
    {
      "cell_type": "markdown",
      "metadata": {
        "id": "kQ48W5T9rHWu",
        "colab_type": "text"
      },
      "source": [
        "### Load the convolutional base"
      ]
    },
    {
      "cell_type": "code",
      "metadata": {
        "id": "Y0FgtANCXm_H",
        "colab_type": "code",
        "outputId": "796abe60-d3da-4d19-c383-065ea14986ad",
        "colab": {
          "base_uri": "https://localhost:8080/",
          "height": 88
        }
      },
      "source": [
        "from keras.applications.resnet import ResNet50\n",
        "\n",
        "conv_base = ResNet50(\n",
        "    weights='imagenet', \n",
        "    include_top=False, \n",
        "    input_shape=(150, 150, 3))"
      ],
      "execution_count": 4,
      "outputs": [
        {
          "output_type": "stream",
          "text": [
            "Using TensorFlow backend.\n"
          ],
          "name": "stderr"
        },
        {
          "output_type": "stream",
          "text": [
            "Downloading data from https://github.com/keras-team/keras-applications/releases/download/resnet/resnet50_weights_tf_dim_ordering_tf_kernels_notop.h5\n",
            "94773248/94765736 [==============================] - 8s 0us/step\n"
          ],
          "name": "stdout"
        }
      ]
    },
    {
      "cell_type": "markdown",
      "metadata": {
        "id": "D6OBHOO9q1ou",
        "colab_type": "text"
      },
      "source": [
        "### Freeze the convolutional base"
      ]
    },
    {
      "cell_type": "code",
      "metadata": {
        "id": "UleRo4Dpq6Ld",
        "colab_type": "code",
        "colab": {}
      },
      "source": [
        "conv_base.trainable = False"
      ],
      "execution_count": 0,
      "outputs": []
    },
    {
      "cell_type": "markdown",
      "metadata": {
        "id": "Qfx6PqhPrb7Q",
        "colab_type": "text"
      },
      "source": [
        "### Concatenate the convolutional base and densely connected layers"
      ]
    },
    {
      "cell_type": "code",
      "metadata": {
        "id": "qUpmocDAO3xm",
        "colab_type": "code",
        "colab": {}
      },
      "source": [
        "from keras import layers\n",
        "from keras import models\n",
        "from keras import optimizers\n",
        "\n",
        "model = models.Sequential()\n",
        "model.add(conv_base)\n",
        "model.add(layers.Flatten())\n",
        "# edit classifier 128 -> 64 nodes and also change activation relu -> tanh\n",
        "model.add(layers.Dense(64, activation='tanh')) \n",
        "#model.add(layers.Dropout(0.1))\n",
        "model.add(layers.Dense(1, activation='sigmoid'))"
      ],
      "execution_count": 0,
      "outputs": []
    },
    {
      "cell_type": "code",
      "metadata": {
        "id": "Fh6gZSeAjF7c",
        "colab_type": "code",
        "outputId": "706b0347-1294-4282-803e-a7ebfa797a02",
        "colab": {
          "base_uri": "https://localhost:8080/",
          "height": 289
        }
      },
      "source": [
        "model.summary()"
      ],
      "execution_count": 7,
      "outputs": [
        {
          "output_type": "stream",
          "text": [
            "Model: \"sequential_1\"\n",
            "_________________________________________________________________\n",
            "Layer (type)                 Output Shape              Param #   \n",
            "=================================================================\n",
            "resnet50 (Model)             (None, 5, 5, 2048)        23587712  \n",
            "_________________________________________________________________\n",
            "flatten_1 (Flatten)          (None, 51200)             0         \n",
            "_________________________________________________________________\n",
            "dense_1 (Dense)              (None, 64)                3276864   \n",
            "_________________________________________________________________\n",
            "dense_2 (Dense)              (None, 1)                 65        \n",
            "=================================================================\n",
            "Total params: 26,864,641\n",
            "Trainable params: 3,276,929\n",
            "Non-trainable params: 23,587,712\n",
            "_________________________________________________________________\n"
          ],
          "name": "stdout"
        }
      ]
    },
    {
      "cell_type": "markdown",
      "metadata": {
        "id": "eZjBiddhi5Qj",
        "colab_type": "text"
      },
      "source": [
        "## Train the model end to end with frozen convolutional base"
      ]
    },
    {
      "cell_type": "code",
      "metadata": {
        "id": "tfAQlC2Oi41L",
        "colab_type": "code",
        "outputId": "5537cc7f-f553-4452-f0dc-dbbeab84dfb2",
        "colab": {
          "base_uri": "https://localhost:8080/",
          "height": 1000
        }
      },
      "source": [
        "from keras.preprocessing.image import ImageDataGenerator\n",
        "from keras import optimizers\n",
        "\n",
        "# data augmentation\n",
        "\n",
        "train_datagen = ImageDataGenerator(\n",
        "    rescale=1./255, \n",
        "    rotation_range=40,\n",
        "    width_shift_range=0.2,\n",
        "    height_shift_range=0.2,\n",
        "    shear_range=0.2,\n",
        "    zoom_range=0.2,\n",
        "    horizontal_flip=True,\n",
        "    fill_mode='nearest'\n",
        ")\n",
        "\n",
        "train_generator = train_datagen.flow_from_directory(\n",
        "    train_dir,\n",
        "    target_size=(150, 150),\n",
        "    batch_size=20,\n",
        "    class_mode='binary')\n",
        "\n",
        "validation_datagen = ImageDataGenerator(rescale=1./255)\n",
        "\n",
        "validation_generator = validation_datagen.flow_from_directory(\n",
        "    validation_dir,\n",
        "    target_size=(150, 150),\n",
        "    batch_size=20,\n",
        "    class_mode='binary')\n",
        "\n",
        "# compile model\n",
        "\n",
        "model.compile(\n",
        "    loss='binary_crossentropy', \n",
        "    optimizer=optimizers.RMSprop(lr=2e-5), \n",
        "    metrics=['acc'])\n",
        "\n",
        "# train\n",
        "\n",
        "history = model.fit_generator(\n",
        "    train_generator,\n",
        "    steps_per_epoch=100,\n",
        "    epochs=30,\n",
        "    validation_data=validation_generator,\n",
        "    validation_steps=50\n",
        ")"
      ],
      "execution_count": 8,
      "outputs": [
        {
          "output_type": "stream",
          "text": [
            "Found 2000 images belonging to 2 classes.\n",
            "Found 1000 images belonging to 2 classes.\n",
            "Epoch 1/30\n",
            "100/100 [==============================] - 30s 303ms/step - loss: 0.4090 - acc: 0.8060 - val_loss: 0.8124 - val_acc: 0.5000\n",
            "Epoch 2/30\n",
            "100/100 [==============================] - 20s 201ms/step - loss: 0.2819 - acc: 0.8825 - val_loss: 1.0698 - val_acc: 0.5000\n",
            "Epoch 3/30\n",
            "100/100 [==============================] - 20s 203ms/step - loss: 0.2517 - acc: 0.8860 - val_loss: 0.8222 - val_acc: 0.5000\n",
            "Epoch 4/30\n",
            "100/100 [==============================] - 21s 205ms/step - loss: 0.2158 - acc: 0.9100 - val_loss: 1.0951 - val_acc: 0.5000\n",
            "Epoch 5/30\n",
            "100/100 [==============================] - 20s 202ms/step - loss: 0.2282 - acc: 0.9040 - val_loss: 1.1931 - val_acc: 0.5000\n",
            "Epoch 6/30\n",
            "100/100 [==============================] - 20s 203ms/step - loss: 0.2215 - acc: 0.8990 - val_loss: 1.0310 - val_acc: 0.5000\n",
            "Epoch 7/30\n",
            "100/100 [==============================] - 20s 202ms/step - loss: 0.1997 - acc: 0.9135 - val_loss: 1.2602 - val_acc: 0.5000\n",
            "Epoch 8/30\n",
            "100/100 [==============================] - 20s 200ms/step - loss: 0.1838 - acc: 0.9225 - val_loss: 1.0249 - val_acc: 0.5000\n",
            "Epoch 9/30\n",
            "100/100 [==============================] - 20s 199ms/step - loss: 0.2033 - acc: 0.9170 - val_loss: 1.5509 - val_acc: 0.5000\n",
            "Epoch 10/30\n",
            "100/100 [==============================] - 20s 199ms/step - loss: 0.1843 - acc: 0.9265 - val_loss: 1.7715 - val_acc: 0.5000\n",
            "Epoch 11/30\n",
            "100/100 [==============================] - 20s 198ms/step - loss: 0.1822 - acc: 0.9235 - val_loss: 1.1322 - val_acc: 0.5000\n",
            "Epoch 12/30\n",
            "100/100 [==============================] - 20s 198ms/step - loss: 0.1842 - acc: 0.9260 - val_loss: 1.3307 - val_acc: 0.5000\n",
            "Epoch 13/30\n",
            "100/100 [==============================] - 20s 197ms/step - loss: 0.2015 - acc: 0.9210 - val_loss: 1.6952 - val_acc: 0.5000\n",
            "Epoch 14/30\n",
            "100/100 [==============================] - 20s 196ms/step - loss: 0.1673 - acc: 0.9290 - val_loss: 1.3181 - val_acc: 0.5000\n",
            "Epoch 15/30\n",
            "100/100 [==============================] - 20s 197ms/step - loss: 0.1722 - acc: 0.9360 - val_loss: 1.5187 - val_acc: 0.5000\n",
            "Epoch 16/30\n",
            "100/100 [==============================] - 20s 196ms/step - loss: 0.1637 - acc: 0.9350 - val_loss: 1.3919 - val_acc: 0.5000\n",
            "Epoch 17/30\n",
            "100/100 [==============================] - 20s 197ms/step - loss: 0.1580 - acc: 0.9410 - val_loss: 1.8319 - val_acc: 0.5000\n",
            "Epoch 18/30\n",
            "100/100 [==============================] - 20s 196ms/step - loss: 0.1611 - acc: 0.9355 - val_loss: 1.5812 - val_acc: 0.5000\n",
            "Epoch 19/30\n",
            "100/100 [==============================] - 20s 198ms/step - loss: 0.1761 - acc: 0.9335 - val_loss: 1.8190 - val_acc: 0.5000\n",
            "Epoch 20/30\n",
            "100/100 [==============================] - 20s 197ms/step - loss: 0.1640 - acc: 0.9325 - val_loss: 1.4188 - val_acc: 0.5000\n",
            "Epoch 21/30\n",
            "100/100 [==============================] - 20s 196ms/step - loss: 0.1536 - acc: 0.9350 - val_loss: 1.8384 - val_acc: 0.5000\n",
            "Epoch 22/30\n",
            "100/100 [==============================] - 20s 196ms/step - loss: 0.1524 - acc: 0.9430 - val_loss: 1.7649 - val_acc: 0.5000\n",
            "Epoch 23/30\n",
            "100/100 [==============================] - 20s 195ms/step - loss: 0.1599 - acc: 0.9330 - val_loss: 2.3381 - val_acc: 0.5000\n",
            "Epoch 24/30\n",
            "100/100 [==============================] - 20s 196ms/step - loss: 0.1408 - acc: 0.9430 - val_loss: 1.9097 - val_acc: 0.5000\n",
            "Epoch 25/30\n",
            "100/100 [==============================] - 20s 197ms/step - loss: 0.1414 - acc: 0.9410 - val_loss: 1.5213 - val_acc: 0.5000\n",
            "Epoch 26/30\n",
            "100/100 [==============================] - 20s 195ms/step - loss: 0.1428 - acc: 0.9430 - val_loss: 1.4512 - val_acc: 0.5000\n",
            "Epoch 27/30\n",
            "100/100 [==============================] - 20s 198ms/step - loss: 0.1462 - acc: 0.9390 - val_loss: 1.6701 - val_acc: 0.5000\n",
            "Epoch 28/30\n",
            "100/100 [==============================] - 19s 195ms/step - loss: 0.1338 - acc: 0.9440 - val_loss: 1.7572 - val_acc: 0.5000\n",
            "Epoch 29/30\n",
            "100/100 [==============================] - 20s 196ms/step - loss: 0.1507 - acc: 0.9340 - val_loss: 1.9214 - val_acc: 0.5000\n",
            "Epoch 30/30\n",
            "100/100 [==============================] - 20s 199ms/step - loss: 0.1261 - acc: 0.9490 - val_loss: 1.7208 - val_acc: 0.5000\n"
          ],
          "name": "stdout"
        }
      ]
    },
    {
      "cell_type": "markdown",
      "metadata": {
        "id": "xqRc_vHKc92U",
        "colab_type": "text"
      },
      "source": [
        "## Display curves of loss and accuracy during training"
      ]
    },
    {
      "cell_type": "code",
      "metadata": {
        "id": "ybWwdzz9bwuQ",
        "colab_type": "code",
        "colab": {
          "base_uri": "https://localhost:8080/",
          "height": 545
        },
        "outputId": "e46647c5-640d-4285-8c9a-565b721ac445"
      },
      "source": [
        "%matplotlib inline\n",
        "\n",
        "import matplotlib.pyplot as plt\n",
        "\n",
        "acc = history.history['acc']\n",
        "val_acc = history.history['val_acc']\n",
        "\n",
        "loss = history.history['loss']\n",
        "val_loss = history.history['val_loss']\n",
        "\n",
        "epochs = range(1, len(acc) + 1)\n",
        "\n",
        "# training and validation accuracy\n",
        "\n",
        "plt.plot(epochs, acc, 'bo', label='training acc')\n",
        "plt.plot(epochs, val_acc, 'b', label='validation acc')\n",
        "plt.title('training and validation accuracy')\n",
        "plt.legend()\n",
        "\n",
        "plt.figure()\n",
        "\n",
        "# training and validation loss\n",
        "\n",
        "plt.plot(epochs, loss, 'bo', label='training loss')\n",
        "plt.plot(epochs, val_loss, 'b', label='validation loss')\n",
        "plt.title('training and validation loss')\n",
        "plt.legend()\n",
        "\n",
        "plt.show()"
      ],
      "execution_count": 9,
      "outputs": [
        {
          "output_type": "display_data",
          "data": {
            "image/png": "[encoded data removed]",
            "text/plain": [
              "<Figure size 432x288 with 1 Axes>"
            ]
          },
          "metadata": {
            "tags": [],
            "needs_background": "light"
          }
        },
        {
          "output_type": "display_data",
          "data": {
            "image/png": "[encoded data removed]",
            "text/plain": [
              "<Figure size 432x288 with 1 Axes>"
            ]
          },
          "metadata": {
            "tags": [],
            "needs_background": "light"
          }
        }
      ]
    },
    {
      "cell_type": "markdown",
      "metadata": {
        "id": "lOWsxpey8lN0",
        "colab_type": "text"
      },
      "source": [
        "## Fine-tuning"
      ]
    },
    {
      "cell_type": "code",
      "metadata": {
        "id": "PwkVMx8N8qMw",
        "colab_type": "code",
        "colab": {}
      },
      "source": [
        "conv_base.trainable = True\n",
        "\n",
        "set_trainable = False\n",
        "for layer in conv_base.layers:\n",
        "  if layer.name == 'conv5_block2_2_conv': ## change frozen layer\n",
        "    set_trainable = True\n",
        "  if set_trainable:\n",
        "    layer.trainable = True\n",
        "  else:\n",
        "    layer.trainable = False"
      ],
      "execution_count": 0,
      "outputs": []
    },
    {
      "cell_type": "code",
      "metadata": {
        "id": "DyN-J7rs9cvo",
        "colab_type": "code",
        "colab": {
          "base_uri": "https://localhost:8080/",
          "height": 1000
        },
        "outputId": "10747093-c5fd-4aa6-d19b-3f9b545e57e8"
      },
      "source": [
        "# compile model\n",
        "\n",
        "model.compile(\n",
        "    loss='binary_crossentropy',\n",
        "    #\n",
        "    # choose a smaller learning rate\n",
        "    #\n",
        "    optimizer=optimizers.RMSprop(lr=1e-5), \n",
        "    metrics=['acc'])\n",
        "\n",
        "# train\n",
        "\n",
        "history = model.fit_generator(\n",
        "    train_generator,\n",
        "    steps_per_epoch=100,\n",
        "    epochs=100,\n",
        "    validation_data=validation_generator,\n",
        "    validation_steps=50)"
      ],
      "execution_count": 11,
      "outputs": [
        {
          "output_type": "stream",
          "text": [
            "Epoch 1/100\n",
            "100/100 [==============================] - 26s 265ms/step - loss: 0.1275 - acc: 0.9515 - val_loss: 1.4001 - val_acc: 0.5000\n",
            "Epoch 2/100\n",
            "100/100 [==============================] - 21s 210ms/step - loss: 0.1428 - acc: 0.9360 - val_loss: 1.8794 - val_acc: 0.5000\n",
            "Epoch 3/100\n",
            "100/100 [==============================] - 21s 211ms/step - loss: 0.1389 - acc: 0.9440 - val_loss: 1.7277 - val_acc: 0.5000\n",
            "Epoch 4/100\n",
            "100/100 [==============================] - 21s 211ms/step - loss: 0.1280 - acc: 0.9490 - val_loss: 1.7137 - val_acc: 0.4860\n",
            "Epoch 5/100\n",
            "100/100 [==============================] - 21s 210ms/step - loss: 0.1163 - acc: 0.9525 - val_loss: 1.2871 - val_acc: 0.5020\n",
            "Epoch 6/100\n",
            "100/100 [==============================] - 21s 210ms/step - loss: 0.1317 - acc: 0.9520 - val_loss: 0.7709 - val_acc: 0.5620\n",
            "Epoch 7/100\n",
            "100/100 [==============================] - 21s 208ms/step - loss: 0.1221 - acc: 0.9560 - val_loss: 1.2751 - val_acc: 0.7010\n",
            "Epoch 8/100\n",
            "100/100 [==============================] - 21s 208ms/step - loss: 0.1024 - acc: 0.9565 - val_loss: 0.0831 - val_acc: 0.8530\n",
            "Epoch 9/100\n",
            "100/100 [==============================] - 21s 209ms/step - loss: 0.1126 - acc: 0.9590 - val_loss: 0.1579 - val_acc: 0.9080\n",
            "Epoch 10/100\n",
            "100/100 [==============================] - 21s 208ms/step - loss: 0.0952 - acc: 0.9595 - val_loss: 0.0688 - val_acc: 0.9470\n",
            "Epoch 11/100\n",
            "100/100 [==============================] - 21s 206ms/step - loss: 0.1275 - acc: 0.9500 - val_loss: 0.2523 - val_acc: 0.9560\n",
            "Epoch 12/100\n",
            "100/100 [==============================] - 21s 206ms/step - loss: 0.1189 - acc: 0.9530 - val_loss: 0.0570 - val_acc: 0.9550\n",
            "Epoch 13/100\n",
            "100/100 [==============================] - 21s 206ms/step - loss: 0.0961 - acc: 0.9660 - val_loss: 0.0828 - val_acc: 0.9550\n",
            "Epoch 14/100\n",
            "100/100 [==============================] - 20s 204ms/step - loss: 0.1000 - acc: 0.9640 - val_loss: 0.0961 - val_acc: 0.9520\n",
            "Epoch 15/100\n",
            "100/100 [==============================] - 21s 206ms/step - loss: 0.1120 - acc: 0.9550 - val_loss: 0.0608 - val_acc: 0.9520\n",
            "Epoch 16/100\n",
            "100/100 [==============================] - 21s 206ms/step - loss: 0.1067 - acc: 0.9570 - val_loss: 0.0145 - val_acc: 0.9520\n",
            "Epoch 17/100\n",
            "100/100 [==============================] - 21s 210ms/step - loss: 0.0924 - acc: 0.9645 - val_loss: 0.4005 - val_acc: 0.9530\n",
            "Epoch 18/100\n",
            "100/100 [==============================] - 21s 205ms/step - loss: 0.0886 - acc: 0.9665 - val_loss: 0.2361 - val_acc: 0.9470\n",
            "Epoch 19/100\n",
            "100/100 [==============================] - 21s 208ms/step - loss: 0.0646 - acc: 0.9730 - val_loss: 0.0324 - val_acc: 0.9510\n",
            "Epoch 20/100\n",
            "100/100 [==============================] - 21s 206ms/step - loss: 0.0887 - acc: 0.9635 - val_loss: 0.0061 - val_acc: 0.9510\n",
            "Epoch 21/100\n",
            "100/100 [==============================] - 21s 206ms/step - loss: 0.0878 - acc: 0.9660 - val_loss: 5.9423e-04 - val_acc: 0.9570\n",
            "Epoch 22/100\n",
            "100/100 [==============================] - 21s 206ms/step - loss: 0.0925 - acc: 0.9635 - val_loss: 0.1282 - val_acc: 0.9520\n",
            "Epoch 23/100\n",
            "100/100 [==============================] - 21s 208ms/step - loss: 0.0729 - acc: 0.9715 - val_loss: 0.0062 - val_acc: 0.9570\n",
            "Epoch 24/100\n",
            "100/100 [==============================] - 21s 207ms/step - loss: 0.0860 - acc: 0.9660 - val_loss: 0.1492 - val_acc: 0.9530\n",
            "Epoch 25/100\n",
            "100/100 [==============================] - 21s 207ms/step - loss: 0.0781 - acc: 0.9665 - val_loss: 0.2713 - val_acc: 0.9540\n",
            "Epoch 26/100\n",
            "100/100 [==============================] - 21s 207ms/step - loss: 0.0790 - acc: 0.9680 - val_loss: 0.0266 - val_acc: 0.9550\n",
            "Epoch 27/100\n",
            "100/100 [==============================] - 21s 207ms/step - loss: 0.0760 - acc: 0.9675 - val_loss: 0.0101 - val_acc: 0.9520\n",
            "Epoch 28/100\n",
            "100/100 [==============================] - 21s 205ms/step - loss: 0.0673 - acc: 0.9755 - val_loss: 0.0123 - val_acc: 0.9470\n",
            "Epoch 29/100\n",
            "100/100 [==============================] - 20s 205ms/step - loss: 0.0839 - acc: 0.9650 - val_loss: 0.1403 - val_acc: 0.9490\n",
            "Epoch 30/100\n",
            "100/100 [==============================] - 21s 207ms/step - loss: 0.0702 - acc: 0.9715 - val_loss: 0.0069 - val_acc: 0.9520\n",
            "Epoch 31/100\n",
            "100/100 [==============================] - 20s 205ms/step - loss: 0.0692 - acc: 0.9735 - val_loss: 0.3310 - val_acc: 0.9540\n",
            "Epoch 32/100\n",
            "100/100 [==============================] - 21s 205ms/step - loss: 0.0670 - acc: 0.9725 - val_loss: 0.3002 - val_acc: 0.9550\n",
            "Epoch 33/100\n",
            "100/100 [==============================] - 21s 205ms/step - loss: 0.0630 - acc: 0.9780 - val_loss: 0.0499 - val_acc: 0.9520\n",
            "Epoch 34/100\n",
            "100/100 [==============================] - 21s 206ms/step - loss: 0.0509 - acc: 0.9810 - val_loss: 0.3663 - val_acc: 0.9570\n",
            "Epoch 35/100\n",
            "100/100 [==============================] - 20s 205ms/step - loss: 0.0590 - acc: 0.9795 - val_loss: 0.1550 - val_acc: 0.9490\n",
            "Epoch 36/100\n",
            "100/100 [==============================] - 21s 206ms/step - loss: 0.0718 - acc: 0.9695 - val_loss: 0.0860 - val_acc: 0.9470\n",
            "Epoch 37/100\n",
            "100/100 [==============================] - 20s 204ms/step - loss: 0.0602 - acc: 0.9775 - val_loss: 0.0745 - val_acc: 0.9540\n",
            "Epoch 38/100\n",
            "100/100 [==============================] - 21s 205ms/step - loss: 0.0535 - acc: 0.9800 - val_loss: 0.2068 - val_acc: 0.9510\n",
            "Epoch 39/100\n",
            "100/100 [==============================] - 21s 206ms/step - loss: 0.0669 - acc: 0.9745 - val_loss: 0.0102 - val_acc: 0.9520\n",
            "Epoch 40/100\n",
            "100/100 [==============================] - 20s 205ms/step - loss: 0.0649 - acc: 0.9745 - val_loss: 0.0547 - val_acc: 0.9530\n",
            "Epoch 41/100\n",
            "100/100 [==============================] - 20s 205ms/step - loss: 0.0779 - acc: 0.9720 - val_loss: 0.0444 - val_acc: 0.9500\n",
            "Epoch 42/100\n",
            "100/100 [==============================] - 20s 202ms/step - loss: 0.0508 - acc: 0.9810 - val_loss: 0.3830 - val_acc: 0.9520\n",
            "Epoch 43/100\n",
            "100/100 [==============================] - 20s 202ms/step - loss: 0.0593 - acc: 0.9765 - val_loss: 0.0080 - val_acc: 0.9550\n",
            "Epoch 44/100\n",
            "100/100 [==============================] - 20s 202ms/step - loss: 0.0684 - acc: 0.9750 - val_loss: 0.3248 - val_acc: 0.9550\n",
            "Epoch 45/100\n",
            "100/100 [==============================] - 20s 202ms/step - loss: 0.0526 - acc: 0.9810 - val_loss: 0.0554 - val_acc: 0.9590\n",
            "Epoch 46/100\n",
            "100/100 [==============================] - 20s 201ms/step - loss: 0.0526 - acc: 0.9805 - val_loss: 0.2386 - val_acc: 0.9510\n",
            "Epoch 47/100\n",
            "100/100 [==============================] - 20s 203ms/step - loss: 0.0610 - acc: 0.9785 - val_loss: 0.2642 - val_acc: 0.9530\n",
            "Epoch 48/100\n",
            "100/100 [==============================] - 20s 203ms/step - loss: 0.0514 - acc: 0.9775 - val_loss: 0.1617 - val_acc: 0.9590\n",
            "Epoch 49/100\n",
            "100/100 [==============================] - 20s 203ms/step - loss: 0.0595 - acc: 0.9775 - val_loss: 0.0867 - val_acc: 0.9570\n",
            "Epoch 50/100\n",
            "100/100 [==============================] - 20s 204ms/step - loss: 0.0617 - acc: 0.9760 - val_loss: 0.3355 - val_acc: 0.9580\n",
            "Epoch 51/100\n",
            "100/100 [==============================] - 20s 201ms/step - loss: 0.0516 - acc: 0.9855 - val_loss: 0.1237 - val_acc: 0.9630\n",
            "Epoch 52/100\n",
            "100/100 [==============================] - 20s 201ms/step - loss: 0.0491 - acc: 0.9825 - val_loss: 0.1049 - val_acc: 0.9560\n",
            "Epoch 53/100\n",
            "100/100 [==============================] - 20s 200ms/step - loss: 0.0442 - acc: 0.9845 - val_loss: 0.0056 - val_acc: 0.9560\n",
            "Epoch 54/100\n",
            "100/100 [==============================] - 20s 201ms/step - loss: 0.0559 - acc: 0.9800 - val_loss: 0.2220 - val_acc: 0.9510\n",
            "Epoch 55/100\n",
            "100/100 [==============================] - 20s 200ms/step - loss: 0.0475 - acc: 0.9815 - val_loss: 0.1942 - val_acc: 0.9520\n",
            "Epoch 56/100\n",
            "100/100 [==============================] - 20s 200ms/step - loss: 0.0540 - acc: 0.9795 - val_loss: 0.4306 - val_acc: 0.9510\n",
            "Epoch 57/100\n",
            "100/100 [==============================] - 20s 200ms/step - loss: 0.0432 - acc: 0.9825 - val_loss: 0.2700 - val_acc: 0.9540\n",
            "Epoch 58/100\n",
            "100/100 [==============================] - 20s 200ms/step - loss: 0.0466 - acc: 0.9830 - val_loss: 0.0970 - val_acc: 0.9570\n",
            "Epoch 59/100\n",
            "100/100 [==============================] - 20s 199ms/step - loss: 0.0363 - acc: 0.9865 - val_loss: 5.1309e-04 - val_acc: 0.9520\n",
            "Epoch 60/100\n",
            "100/100 [==============================] - 20s 199ms/step - loss: 0.0385 - acc: 0.9840 - val_loss: 0.0517 - val_acc: 0.9570\n",
            "Epoch 61/100\n",
            "100/100 [==============================] - 20s 202ms/step - loss: 0.0338 - acc: 0.9875 - val_loss: 0.3183 - val_acc: 0.9540\n",
            "Epoch 62/100\n",
            "100/100 [==============================] - 20s 201ms/step - loss: 0.0468 - acc: 0.9825 - val_loss: 0.5317 - val_acc: 0.9570\n",
            "Epoch 63/100\n",
            "100/100 [==============================] - 20s 200ms/step - loss: 0.0536 - acc: 0.9780 - val_loss: 0.1728 - val_acc: 0.9530\n",
            "Epoch 64/100\n",
            "100/100 [==============================] - 20s 199ms/step - loss: 0.0427 - acc: 0.9840 - val_loss: 0.0247 - val_acc: 0.9530\n",
            "Epoch 65/100\n",
            "100/100 [==============================] - 20s 201ms/step - loss: 0.0408 - acc: 0.9835 - val_loss: 0.0111 - val_acc: 0.9540\n",
            "Epoch 66/100\n",
            "100/100 [==============================] - 20s 199ms/step - loss: 0.0353 - acc: 0.9865 - val_loss: 0.0226 - val_acc: 0.9510\n",
            "Epoch 67/100\n",
            "100/100 [==============================] - 20s 200ms/step - loss: 0.0469 - acc: 0.9835 - val_loss: 0.0248 - val_acc: 0.9560\n",
            "Epoch 68/100\n",
            "100/100 [==============================] - 20s 199ms/step - loss: 0.0358 - acc: 0.9865 - val_loss: 0.0222 - val_acc: 0.9620\n",
            "Epoch 69/100\n",
            "100/100 [==============================] - 20s 201ms/step - loss: 0.0393 - acc: 0.9855 - val_loss: 0.3079 - val_acc: 0.9570\n",
            "Epoch 70/100\n",
            "100/100 [==============================] - 20s 202ms/step - loss: 0.0359 - acc: 0.9860 - val_loss: 1.9855e-04 - val_acc: 0.9490\n",
            "Epoch 71/100\n",
            "100/100 [==============================] - 20s 201ms/step - loss: 0.0383 - acc: 0.9855 - val_loss: 0.0579 - val_acc: 0.9510\n",
            "Epoch 72/100\n",
            "100/100 [==============================] - 20s 199ms/step - loss: 0.0421 - acc: 0.9820 - val_loss: 0.4286 - val_acc: 0.9420\n",
            "Epoch 73/100\n",
            "100/100 [==============================] - 20s 201ms/step - loss: 0.0294 - acc: 0.9915 - val_loss: 0.1131 - val_acc: 0.9560\n",
            "Epoch 74/100\n",
            "100/100 [==============================] - 20s 199ms/step - loss: 0.0579 - acc: 0.9815 - val_loss: 0.0120 - val_acc: 0.9550\n",
            "Epoch 75/100\n",
            "100/100 [==============================] - 20s 200ms/step - loss: 0.0372 - acc: 0.9890 - val_loss: 0.0240 - val_acc: 0.9520\n",
            "Epoch 76/100\n",
            "100/100 [==============================] - 20s 201ms/step - loss: 0.0335 - acc: 0.9875 - val_loss: 0.0621 - val_acc: 0.9550\n",
            "Epoch 77/100\n",
            "100/100 [==============================] - 20s 202ms/step - loss: 0.0329 - acc: 0.9885 - val_loss: 1.3256e-04 - val_acc: 0.9490\n",
            "Epoch 78/100\n",
            "100/100 [==============================] - 20s 201ms/step - loss: 0.0239 - acc: 0.9905 - val_loss: 0.2186 - val_acc: 0.9470\n",
            "Epoch 79/100\n",
            "100/100 [==============================] - 20s 202ms/step - loss: 0.0368 - acc: 0.9870 - val_loss: 2.7995e-04 - val_acc: 0.9500\n",
            "Epoch 80/100\n",
            "100/100 [==============================] - 20s 202ms/step - loss: 0.0329 - acc: 0.9875 - val_loss: 0.0460 - val_acc: 0.9530\n",
            "Epoch 81/100\n",
            "100/100 [==============================] - 20s 202ms/step - loss: 0.0456 - acc: 0.9820 - val_loss: 0.0779 - val_acc: 0.9490\n",
            "Epoch 82/100\n",
            "100/100 [==============================] - 20s 203ms/step - loss: 0.0356 - acc: 0.9860 - val_loss: 0.2475 - val_acc: 0.9550\n",
            "Epoch 83/100\n",
            "100/100 [==============================] - 20s 202ms/step - loss: 0.0230 - acc: 0.9900 - val_loss: 0.0114 - val_acc: 0.9550\n",
            "Epoch 84/100\n",
            "100/100 [==============================] - 20s 203ms/step - loss: 0.0302 - acc: 0.9900 - val_loss: 0.2334 - val_acc: 0.9550\n",
            "Epoch 85/100\n",
            "100/100 [==============================] - 20s 203ms/step - loss: 0.0349 - acc: 0.9880 - val_loss: 0.1528 - val_acc: 0.9490\n",
            "Epoch 86/100\n",
            "100/100 [==============================] - 20s 201ms/step - loss: 0.0321 - acc: 0.9885 - val_loss: 0.2127 - val_acc: 0.9500\n",
            "Epoch 87/100\n",
            "100/100 [==============================] - 20s 200ms/step - loss: 0.0452 - acc: 0.9810 - val_loss: 0.0802 - val_acc: 0.9480\n",
            "Epoch 88/100\n",
            "100/100 [==============================] - 20s 201ms/step - loss: 0.0296 - acc: 0.9885 - val_loss: 0.0150 - val_acc: 0.9490\n",
            "Epoch 89/100\n",
            "100/100 [==============================] - 20s 199ms/step - loss: 0.0228 - acc: 0.9935 - val_loss: 9.0733e-04 - val_acc: 0.9540\n",
            "Epoch 90/100\n",
            "100/100 [==============================] - 20s 198ms/step - loss: 0.0221 - acc: 0.9915 - val_loss: 0.3379 - val_acc: 0.9510\n",
            "Epoch 91/100\n",
            "100/100 [==============================] - 20s 198ms/step - loss: 0.0214 - acc: 0.9930 - val_loss: 0.1744 - val_acc: 0.9510\n",
            "Epoch 92/100\n",
            "100/100 [==============================] - 20s 198ms/step - loss: 0.0272 - acc: 0.9905 - val_loss: 0.1135 - val_acc: 0.9500\n",
            "Epoch 93/100\n",
            "100/100 [==============================] - 20s 198ms/step - loss: 0.0392 - acc: 0.9855 - val_loss: 5.1850e-04 - val_acc: 0.9420\n",
            "Epoch 94/100\n",
            "100/100 [==============================] - 20s 197ms/step - loss: 0.0299 - acc: 0.9915 - val_loss: 0.0819 - val_acc: 0.9510\n",
            "Epoch 95/100\n",
            "100/100 [==============================] - 20s 197ms/step - loss: 0.0204 - acc: 0.9920 - val_loss: 0.0169 - val_acc: 0.9500\n",
            "Epoch 96/100\n",
            "100/100 [==============================] - 20s 198ms/step - loss: 0.0203 - acc: 0.9930 - val_loss: 0.2643 - val_acc: 0.9510\n",
            "Epoch 97/100\n",
            "100/100 [==============================] - 20s 196ms/step - loss: 0.0310 - acc: 0.9890 - val_loss: 0.3179 - val_acc: 0.9510\n",
            "Epoch 98/100\n",
            "100/100 [==============================] - 19s 194ms/step - loss: 0.0357 - acc: 0.9870 - val_loss: 0.2012 - val_acc: 0.9550\n",
            "Epoch 99/100\n",
            "100/100 [==============================] - 20s 196ms/step - loss: 0.0305 - acc: 0.9920 - val_loss: 0.1261 - val_acc: 0.9570\n",
            "Epoch 100/100\n",
            "100/100 [==============================] - 19s 193ms/step - loss: 0.0269 - acc: 0.9885 - val_loss: 0.1896 - val_acc: 0.9550\n"
          ],
          "name": "stdout"
        }
      ]
    },
    {
      "cell_type": "markdown",
      "metadata": {
        "id": "eVBQgh5M-Rtz",
        "colab_type": "text"
      },
      "source": [
        "## Display learning curves during fine-tuning"
      ]
    },
    {
      "cell_type": "code",
      "metadata": {
        "id": "mbkIw7Ie-NP4",
        "colab_type": "code",
        "colab": {
          "base_uri": "https://localhost:8080/",
          "height": 545
        },
        "outputId": "4fad9a93-16da-4422-de45-9e42c575cbc6"
      },
      "source": [
        "%matplotlib inline\n",
        "\n",
        "import matplotlib.pyplot as plt\n",
        "\n",
        "acc = history.history['acc']\n",
        "val_acc = history.history['val_acc']\n",
        "\n",
        "loss = history.history['loss']\n",
        "val_loss = history.history['val_loss']\n",
        "\n",
        "epochs = range(1, len(acc) + 1)\n",
        "\n",
        "# training and validation accuracy\n",
        "\n",
        "plt.plot(epochs, acc, 'bo', label='training acc')\n",
        "plt.plot(epochs, val_acc, 'b', label='validation acc')\n",
        "plt.title('training and validation accuracy')\n",
        "plt.legend()\n",
        "\n",
        "plt.figure()\n",
        "\n",
        "# training and validation loss\n",
        "\n",
        "plt.plot(epochs, loss, 'bo', label='training loss')\n",
        "plt.plot(epochs, val_loss, 'b', label='validation loss')\n",
        "plt.title('training and validation loss')\n",
        "plt.legend()\n",
        "\n",
        "plt.show()"
      ],
      "execution_count": 12,
      "outputs": [
        {
          "output_type": "display_data",
          "data": {
            "image/png": "[encoded data removed]",
            "text/plain": [
              "<Figure size 432x288 with 1 Axes>"
            ]
          },
          "metadata": {
            "tags": [],
            "needs_background": "light"
          }
        },
        {
          "output_type": "display_data",
          "data": {
            "image/png": "[encoded data removed]",
            "text/plain": [
              "<Figure size 432x288 with 1 Axes>"
            ]
          },
          "metadata": {
            "tags": [],
            "needs_background": "light"
          }
        }
      ]
    },
    {
      "cell_type": "markdown",
      "metadata": {
        "id": "obQi6N4ZShdi",
        "colab_type": "text"
      },
      "source": [
        "This looks like overfitting. I should try  adding dropout for the densely connected layer."
      ]
    },
    {
      "cell_type": "markdown",
      "metadata": {
        "id": "he3Nw6TOJwjx",
        "colab_type": "text"
      },
      "source": [
        "## Print out validation loss and accuracy"
      ]
    },
    {
      "cell_type": "code",
      "metadata": {
        "id": "SVQtrk7uJdhl",
        "colab_type": "code",
        "colab": {}
      },
      "source": [
        "val_loss, val_acc = model.evaluate_generator(validation_generator, steps=50)"
      ],
      "execution_count": 0,
      "outputs": []
    },
    {
      "cell_type": "code",
      "metadata": {
        "id": "HpdddLi1SUMe",
        "colab_type": "code",
        "colab": {
          "base_uri": "https://localhost:8080/",
          "height": 51
        },
        "outputId": "c8b5fd3f-f2c5-4983-f9dd-382a7fb2782b"
      },
      "source": [
        "print(\"Validation loss:\", val_loss)\n",
        "print(\"Validation accuracy:\", val_acc)"
      ],
      "execution_count": 14,
      "outputs": [
        {
          "output_type": "stream",
          "text": [
            "Validation loss: 0.0010690323542803526\n",
            "Validation accuracy: 0.9549999833106995\n"
          ],
          "name": "stdout"
        }
      ]
    },
    {
      "cell_type": "markdown",
      "metadata": {
        "id": "7Ww756WToby8",
        "colab_type": "text"
      },
      "source": [
        "## Save the model"
      ]
    },
    {
      "cell_type": "code",
      "metadata": {
        "id": "0lTUpUdwobKW",
        "colab_type": "code",
        "colab": {}
      },
      "source": [
        "model_fname = 'cats_and_dogs_small_4.h5' \n",
        "model.save(model_fname)"
      ],
      "execution_count": 0,
      "outputs": []
    }
  ]
}
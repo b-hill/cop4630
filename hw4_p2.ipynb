{
  "nbformat": 4,
  "nbformat_minor": 0,
  "metadata": {
    "colab": {
      "name": "hw4_p2.ipynb",
      "provenance": [],
      "collapsed_sections": [],
      "authorship_tag": "ABX9TyOz+Vudz7iVkJqLslU/r3Wa",
      "include_colab_link": true
    },
    "kernelspec": {
      "name": "python3",
      "display_name": "Python 3"
    }
  },
  "cells": [
    {
      "cell_type": "markdown",
      "metadata": {
        "id": "view-in-github",
        "colab_type": "text"
      },
      "source": [
        "<a href=\"https://colab.research.google.com/github/b-hill/cop4630/blob/master/hw4_p2.ipynb\" target=\"_parent\"><img src=\"https://colab.research.google.com/assets/colab-badge.svg\" alt=\"Open In Colab\"/></a>"
      ]
    },
    {
      "cell_type": "markdown",
      "metadata": {
        "id": "RMysEQ5VU-kV",
        "colab_type": "text"
      },
      "source": [
        "### Imports + Seed"
      ]
    },
    {
      "cell_type": "code",
      "metadata": {
        "id": "zThsRerUyiVs",
        "colab_type": "code",
        "colab": {}
      },
      "source": [
        "import numpy as np\n",
        "np.random.seed(0)"
      ],
      "execution_count": 0,
      "outputs": []
    },
    {
      "cell_type": "markdown",
      "metadata": {
        "id": "0VqQxY7-LWSn",
        "colab_type": "text"
      },
      "source": [
        "### Exceptions "
      ]
    },
    {
      "cell_type": "code",
      "metadata": {
        "id": "KA9tOZodLX0-",
        "colab_type": "code",
        "colab": {}
      },
      "source": [
        "class MatrixTypeError(Exception):\n",
        "  def __init__(self, error):\n",
        "    self.error = error\n",
        "\n",
        "class ShapeError(Exception):\n",
        "  def __init__(self, error):\n",
        "    self.error = error\n",
        "\n",
        "class SizeError(Exception):\n",
        "  def __init__(self, error):\n",
        "    self.error = error"
      ],
      "execution_count": 0,
      "outputs": []
    },
    {
      "cell_type": "markdown",
      "metadata": {
        "id": "ydZM99OuVdsM",
        "colab_type": "text"
      },
      "source": [
        "### 2D Max Pooling"
      ]
    },
    {
      "cell_type": "code",
      "metadata": {
        "id": "gUo-ehASIgxH",
        "colab_type": "code",
        "colab": {}
      },
      "source": [
        "# perform 2d maxpooling, all matrices are square and the dimension of the input \n",
        "# must be a multiple of the given stride s\n",
        "def maxpooling2d(input_mat, s):\n",
        "\n",
        "  # check arg types\n",
        "  if type(input_mat) is not np.ndarray:\n",
        "    raise MatrixTypeError ('arg input_mat is not an ndarray')\n",
        "  if type(s) is not int:\n",
        "    raise MatrixTypeError ('args s is not an integer')\n",
        "\n",
        "  # get in shape\n",
        "  s_i = input_mat.shape[0]\n",
        "\n",
        "  # check dim\n",
        "  if len(input_mat.shape) != 2:\n",
        "    raise ShapeError ('arg input_mat is not 2D')\n",
        "\n",
        "  # check if square\n",
        "  if input_mat.shape[0] != input_mat.shape[1]:\n",
        "    raise ShapeError ('arg input_mat is not square')\n",
        "\n",
        "  # check if sizes are compatible \n",
        "  if s > s_i:\n",
        "    raise SizeError('arg s is of greater size than arg input_mat')\n",
        "\n",
        "  # calc out shape\n",
        "  s_o = s_i // s\n",
        "\n",
        "  # init out\n",
        "  output_mat = np.zeros((s_o, s_o))\n",
        "\n",
        "  # max pool\n",
        "  for i in range(s_o):\n",
        "    for j in range(s_o):\n",
        "      output_mat[i,j] = np.max(input_mat[i*s:i*s+s, j*s:j*s+s])\n",
        "\n",
        "  return output_mat"
      ],
      "execution_count": 0,
      "outputs": []
    },
    {
      "cell_type": "markdown",
      "metadata": {
        "id": "1xldIaR0Vhvs",
        "colab_type": "text"
      },
      "source": [
        "## Implementation"
      ]
    },
    {
      "cell_type": "markdown",
      "metadata": {
        "id": "JVeMKgFsVk9L",
        "colab_type": "text"
      },
      "source": [
        "### Arg generation"
      ]
    },
    {
      "cell_type": "code",
      "metadata": {
        "id": "fcoLFdet2mtG",
        "colab_type": "code",
        "colab": {}
      },
      "source": [
        "input_mat = np.random.randint(-3, 3, size=(5,5))\n",
        "s = 2"
      ],
      "execution_count": 0,
      "outputs": []
    },
    {
      "cell_type": "markdown",
      "metadata": {
        "id": "zi_hqlWqVp-I",
        "colab_type": "text"
      },
      "source": [
        "### Testing"
      ]
    },
    {
      "cell_type": "code",
      "metadata": {
        "id": "43DQZeduQFcA",
        "colab_type": "code",
        "outputId": "065902f0-dcf8-41b9-bc9b-6e2549569962",
        "colab": {
          "base_uri": "https://localhost:8080/",
          "height": 51
        }
      },
      "source": [
        "final = maxpooling2d(input_mat, s)\n",
        "print(final)"
      ],
      "execution_count": 46,
      "outputs": [
        {
          "output_type": "stream",
          "text": [
            "[[2. 2.]\n",
            " [2. 1.]]\n"
          ],
          "name": "stdout"
        }
      ]
    }
  ]
}
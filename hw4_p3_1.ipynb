{
  "nbformat": 4,
  "nbformat_minor": 0,
  "metadata": {
    "colab": {
      "name": "hw4_p3.1.ipynb",
      "provenance": [],
      "collapsed_sections": [],
      "authorship_tag": "ABX9TyMatx6zNCXW6Z8bgFmv66wM",
      "include_colab_link": true
    },
    "kernelspec": {
      "name": "python3",
      "display_name": "Python 3"
    },
    "accelerator": "GPU"
  },
  "cells": [
    {
      "cell_type": "markdown",
      "metadata": {
        "id": "view-in-github",
        "colab_type": "text"
      },
      "source": [
        "<a href=\"https://colab.research.google.com/github/b-hill/cop4630/blob/master/hw4_p3_1.ipynb\" target=\"_parent\"><img src=\"https://colab.research.google.com/assets/colab-badge.svg\" alt=\"Open In Colab\"/></a>"
      ]
    },
    {
      "cell_type": "markdown",
      "metadata": {
        "id": "Gh2Ucx5WawRl",
        "colab_type": "text"
      },
      "source": [
        "# Edits\n",
        "\n",
        "I decided to exchange the VGG16 model for ResNet. This was primartily because I'm implementing ResNet for a pose estimation app for senior design and i would like to see how the so called king of image classification models fairs in another context.  "
      ]
    },
    {
      "cell_type": "markdown",
      "metadata": {
        "id": "BqIG8QHMLNOn",
        "colab_type": "text"
      },
      "source": [
        "## Download the data"
      ]
    },
    {
      "cell_type": "markdown",
      "metadata": {
        "id": "t3I1jd7cKV6_",
        "colab_type": "text"
      },
      "source": [
        "Download the example data, a zip. of 2,000 JPG pictures of cats and dogs and extract it locally in ```/tmp```.\n",
        "\n"
      ]
    },
    {
      "cell_type": "code",
      "metadata": {
        "id": "JWjprHEXJ5Qi",
        "colab_type": "code",
        "outputId": "74f70935-f6c3-4e13-8bcc-95e625dd2f0f",
        "colab": {
          "base_uri": "https://localhost:8080/",
          "height": 224
        }
      },
      "source": [
        "!wget --no-check-certificate \\\n",
        "    https://storage.googleapis.com/mledu-datasets/cats_and_dogs_filtered.zip \\\n",
        "    -O /tmp/cats_and_dogs_filtered.zip"
      ],
      "execution_count": 9,
      "outputs": [
        {
          "output_type": "stream",
          "text": [
            "--2020-04-21 21:57:47--  https://storage.googleapis.com/mledu-datasets/cats_and_dogs_filtered.zip\n",
            "Resolving storage.googleapis.com (storage.googleapis.com)... 172.253.122.128, 2607:f8b0:4004:807::2010\n",
            "Connecting to storage.googleapis.com (storage.googleapis.com)|172.253.122.128|:443... connected.\n",
            "HTTP request sent, awaiting response... 200 OK\n",
            "Length: 68606236 (65M) [application/zip]\n",
            "Saving to: ‘/tmp/cats_and_dogs_filtered.zip’\n",
            "\n",
            "/tmp/cats_and_dogs_ 100%[===================>]  65.43M  82.4MB/s    in 0.8s    \n",
            "\n",
            "2020-04-21 21:57:48 (82.4 MB/s) - ‘/tmp/cats_and_dogs_filtered.zip’ saved [68606236/68606236]\n",
            "\n"
          ],
          "name": "stdout"
        }
      ]
    },
    {
      "cell_type": "code",
      "metadata": {
        "id": "WvoHtdA-K6Rw",
        "colab_type": "code",
        "colab": {}
      },
      "source": [
        "import os\n",
        "import zipfile\n",
        "\n",
        "local_zip = '/tmp/cats_and_dogs_filtered.zip'\n",
        "zip_ref = zipfile.ZipFile(local_zip, 'r')\n",
        "zip_ref.extractall('/tmp')\n",
        "zip_ref.close()"
      ],
      "execution_count": 0,
      "outputs": []
    },
    {
      "cell_type": "markdown",
      "metadata": {
        "id": "shZiOBnJMyy_",
        "colab_type": "text"
      },
      "source": [
        "Note that the data provided by Google does not have a test set."
      ]
    },
    {
      "cell_type": "code",
      "metadata": {
        "id": "dL8ikM89LlsH",
        "colab_type": "code",
        "colab": {}
      },
      "source": [
        "base_dir = '/tmp/cats_and_dogs_filtered'\n",
        "train_dir = os.path.join(base_dir, 'train')\n",
        "validation_dir = os.path.join(base_dir, 'validation')\n",
        "\n",
        "# Directory with our training cat pictures\n",
        "train_cats_dir = os.path.join(train_dir, 'cats')\n",
        "\n",
        "# Directory with our training dog pictures\n",
        "train_dogs_dir = os.path.join(train_dir, 'dogs')\n",
        "\n",
        "# Directory with our validation cat pictures\n",
        "validation_cats_dir = os.path.join(validation_dir, 'cats')\n",
        "\n",
        "# Directory with our validation dog pictures\n",
        "validation_dogs_dir = os.path.join(validation_dir, 'dogs')"
      ],
      "execution_count": 0,
      "outputs": []
    },
    {
      "cell_type": "markdown",
      "metadata": {
        "id": "inyP8bcdXnn-",
        "colab_type": "text"
      },
      "source": [
        "## Build network with MobileNet convolution base and custom densely connected layers"
      ]
    },
    {
      "cell_type": "markdown",
      "metadata": {
        "id": "kQ48W5T9rHWu",
        "colab_type": "text"
      },
      "source": [
        "### Load the convolutional base"
      ]
    },
    {
      "cell_type": "code",
      "metadata": {
        "id": "Y0FgtANCXm_H",
        "colab_type": "code",
        "outputId": "ef728bbd-9629-41f9-c977-21a73be81a7c",
        "colab": {
          "base_uri": "https://localhost:8080/",
          "height": 71
        }
      },
      "source": [
        "from keras.applications.resnet import ResNet50\n",
        "\n",
        "conv_base = ResNet50(\n",
        "    weights='imagenet', \n",
        "    include_top=False, \n",
        "    input_shape=(150, 150, 3))"
      ],
      "execution_count": 12,
      "outputs": [
        {
          "output_type": "stream",
          "text": [
            "Downloading data from https://github.com/keras-team/keras-applications/releases/download/resnet/resnet50_weights_tf_dim_ordering_tf_kernels_notop.h5\n",
            "94773248/94765736 [==============================] - 1s 0us/step\n"
          ],
          "name": "stdout"
        }
      ]
    },
    {
      "cell_type": "markdown",
      "metadata": {
        "id": "D6OBHOO9q1ou",
        "colab_type": "text"
      },
      "source": [
        "### Freeze the convolutional base"
      ]
    },
    {
      "cell_type": "code",
      "metadata": {
        "id": "UleRo4Dpq6Ld",
        "colab_type": "code",
        "colab": {}
      },
      "source": [
        "conv_base.trainable = False"
      ],
      "execution_count": 0,
      "outputs": []
    },
    {
      "cell_type": "markdown",
      "metadata": {
        "id": "Qfx6PqhPrb7Q",
        "colab_type": "text"
      },
      "source": [
        "### Concatenate the convolutional base and densely connected layers"
      ]
    },
    {
      "cell_type": "code",
      "metadata": {
        "id": "qUpmocDAO3xm",
        "colab_type": "code",
        "colab": {}
      },
      "source": [
        "from keras import layers\n",
        "from keras import models\n",
        "from keras import optimizers\n",
        "\n",
        "model = models.Sequential()\n",
        "model.add(conv_base)\n",
        "model.add(layers.Flatten())\n",
        "model.add(layers.Dense(64, activation='relu')) # edit classifier 128 -> 64 nodes\n",
        "#model.add(layers.Dropout(0.1))\n",
        "model.add(layers.Dense(1, activation='sigmoid'))"
      ],
      "execution_count": 0,
      "outputs": []
    },
    {
      "cell_type": "code",
      "metadata": {
        "id": "Fh6gZSeAjF7c",
        "colab_type": "code",
        "outputId": "fc81b723-8019-4dff-bcc1-e6c313de7cca",
        "colab": {
          "base_uri": "https://localhost:8080/",
          "height": 289
        }
      },
      "source": [
        "model.summary()"
      ],
      "execution_count": 15,
      "outputs": [
        {
          "output_type": "stream",
          "text": [
            "Model: \"sequential_2\"\n",
            "_________________________________________________________________\n",
            "Layer (type)                 Output Shape              Param #   \n",
            "=================================================================\n",
            "resnet50 (Model)             (None, 5, 5, 2048)        23587712  \n",
            "_________________________________________________________________\n",
            "flatten_2 (Flatten)          (None, 51200)             0         \n",
            "_________________________________________________________________\n",
            "dense_3 (Dense)              (None, 64)                3276864   \n",
            "_________________________________________________________________\n",
            "dense_4 (Dense)              (None, 1)                 65        \n",
            "=================================================================\n",
            "Total params: 26,864,641\n",
            "Trainable params: 3,276,929\n",
            "Non-trainable params: 23,587,712\n",
            "_________________________________________________________________\n"
          ],
          "name": "stdout"
        }
      ]
    },
    {
      "cell_type": "markdown",
      "metadata": {
        "id": "eZjBiddhi5Qj",
        "colab_type": "text"
      },
      "source": [
        "## Train the model end to end with frozen convolutional base"
      ]
    },
    {
      "cell_type": "code",
      "metadata": {
        "id": "tfAQlC2Oi41L",
        "colab_type": "code",
        "outputId": "a414ac11-5b4d-4cad-b939-a66953382ac6",
        "colab": {
          "base_uri": "https://localhost:8080/",
          "height": 1000
        }
      },
      "source": [
        "from keras.preprocessing.image import ImageDataGenerator\n",
        "from keras import optimizers\n",
        "\n",
        "# data augmentation\n",
        "\n",
        "train_datagen = ImageDataGenerator(\n",
        "    rescale=1./255, \n",
        "    rotation_range=40,\n",
        "    width_shift_range=0.2,\n",
        "    height_shift_range=0.2,\n",
        "    shear_range=0.2,\n",
        "    zoom_range=0.2,\n",
        "    horizontal_flip=True,\n",
        "    fill_mode='nearest'\n",
        ")\n",
        "\n",
        "train_generator = train_datagen.flow_from_directory(\n",
        "    train_dir,\n",
        "    target_size=(150, 150),\n",
        "    batch_size=20,\n",
        "    class_mode='binary')\n",
        "\n",
        "validation_datagen = ImageDataGenerator(rescale=1./255)\n",
        "\n",
        "validation_generator = validation_datagen.flow_from_directory(\n",
        "    validation_dir,\n",
        "    target_size=(150, 150),\n",
        "    batch_size=20,\n",
        "    class_mode='binary')\n",
        "\n",
        "# compile model\n",
        "\n",
        "model.compile(\n",
        "    loss='binary_crossentropy', \n",
        "    optimizer=optimizers.RMSprop(lr=2e-5), \n",
        "    metrics=['acc'])\n",
        "\n",
        "# train\n",
        "\n",
        "history = model.fit_generator(\n",
        "    train_generator,\n",
        "    steps_per_epoch=100,\n",
        "    epochs=30,\n",
        "    validation_data=validation_generator,\n",
        "    validation_steps=50\n",
        ")"
      ],
      "execution_count": 16,
      "outputs": [
        {
          "output_type": "stream",
          "text": [
            "Found 2000 images belonging to 2 classes.\n",
            "Found 1000 images belonging to 2 classes.\n",
            "Epoch 1/30\n",
            "100/100 [==============================] - 24s 244ms/step - loss: 0.4591 - acc: 0.7910 - val_loss: 0.6901 - val_acc: 0.5000\n",
            "Epoch 2/30\n",
            "100/100 [==============================] - 20s 199ms/step - loss: 0.2933 - acc: 0.8790 - val_loss: 0.7357 - val_acc: 0.5000\n",
            "Epoch 3/30\n",
            "100/100 [==============================] - 20s 199ms/step - loss: 0.2611 - acc: 0.8865 - val_loss: 0.6453 - val_acc: 0.5000\n",
            "Epoch 4/30\n",
            "100/100 [==============================] - 20s 199ms/step - loss: 0.2604 - acc: 0.8885 - val_loss: 0.9378 - val_acc: 0.5000\n",
            "Epoch 5/30\n",
            "100/100 [==============================] - 20s 201ms/step - loss: 0.2369 - acc: 0.9070 - val_loss: 0.8394 - val_acc: 0.5000\n",
            "Epoch 6/30\n",
            "100/100 [==============================] - 20s 201ms/step - loss: 0.2222 - acc: 0.9130 - val_loss: 0.9298 - val_acc: 0.5000\n",
            "Epoch 7/30\n",
            "100/100 [==============================] - 20s 205ms/step - loss: 0.2184 - acc: 0.9130 - val_loss: 0.8032 - val_acc: 0.5000\n",
            "Epoch 8/30\n",
            "100/100 [==============================] - 20s 201ms/step - loss: 0.1888 - acc: 0.9235 - val_loss: 0.8303 - val_acc: 0.5000\n",
            "Epoch 9/30\n",
            "100/100 [==============================] - 20s 204ms/step - loss: 0.2077 - acc: 0.9240 - val_loss: 0.9971 - val_acc: 0.5000\n",
            "Epoch 10/30\n",
            "100/100 [==============================] - 20s 201ms/step - loss: 0.2018 - acc: 0.9210 - val_loss: 0.9172 - val_acc: 0.5000\n",
            "Epoch 11/30\n",
            "100/100 [==============================] - 20s 201ms/step - loss: 0.1885 - acc: 0.9255 - val_loss: 0.6269 - val_acc: 0.5000\n",
            "Epoch 12/30\n",
            "100/100 [==============================] - 20s 202ms/step - loss: 0.2062 - acc: 0.9165 - val_loss: 0.9421 - val_acc: 0.5000\n",
            "Epoch 13/30\n",
            "100/100 [==============================] - 20s 202ms/step - loss: 0.1905 - acc: 0.9305 - val_loss: 1.1159 - val_acc: 0.5000\n",
            "Epoch 14/30\n",
            "100/100 [==============================] - 20s 198ms/step - loss: 0.1473 - acc: 0.9390 - val_loss: 1.0570 - val_acc: 0.5000\n",
            "Epoch 15/30\n",
            "100/100 [==============================] - 20s 199ms/step - loss: 0.1722 - acc: 0.9285 - val_loss: 0.9770 - val_acc: 0.5000\n",
            "Epoch 16/30\n",
            "100/100 [==============================] - 20s 202ms/step - loss: 0.1776 - acc: 0.9340 - val_loss: 1.0287 - val_acc: 0.5000\n",
            "Epoch 17/30\n",
            "100/100 [==============================] - 20s 202ms/step - loss: 0.1431 - acc: 0.9415 - val_loss: 0.9461 - val_acc: 0.5000\n",
            "Epoch 18/30\n",
            "100/100 [==============================] - 20s 201ms/step - loss: 0.1331 - acc: 0.9465 - val_loss: 0.9428 - val_acc: 0.5000\n",
            "Epoch 19/30\n",
            "100/100 [==============================] - 20s 202ms/step - loss: 0.1651 - acc: 0.9410 - val_loss: 0.8618 - val_acc: 0.5000\n",
            "Epoch 20/30\n",
            "100/100 [==============================] - 20s 199ms/step - loss: 0.1724 - acc: 0.9365 - val_loss: 0.9274 - val_acc: 0.5000\n",
            "Epoch 21/30\n",
            "100/100 [==============================] - 20s 202ms/step - loss: 0.1351 - acc: 0.9450 - val_loss: 1.0769 - val_acc: 0.5000\n",
            "Epoch 22/30\n",
            "100/100 [==============================] - 20s 201ms/step - loss: 0.1521 - acc: 0.9405 - val_loss: 0.8719 - val_acc: 0.5000\n",
            "Epoch 23/30\n",
            "100/100 [==============================] - 20s 200ms/step - loss: 0.1561 - acc: 0.9380 - val_loss: 1.4045 - val_acc: 0.5000\n",
            "Epoch 24/30\n",
            "100/100 [==============================] - 20s 200ms/step - loss: 0.1374 - acc: 0.9425 - val_loss: 1.1115 - val_acc: 0.5000\n",
            "Epoch 25/30\n",
            "100/100 [==============================] - 20s 203ms/step - loss: 0.1438 - acc: 0.9465 - val_loss: 1.0765 - val_acc: 0.5000\n",
            "Epoch 26/30\n",
            "100/100 [==============================] - 20s 201ms/step - loss: 0.1386 - acc: 0.9465 - val_loss: 1.6553 - val_acc: 0.5000\n",
            "Epoch 27/30\n",
            "100/100 [==============================] - 20s 201ms/step - loss: 0.1370 - acc: 0.9455 - val_loss: 1.2055 - val_acc: 0.5000\n",
            "Epoch 28/30\n",
            "100/100 [==============================] - 20s 201ms/step - loss: 0.1412 - acc: 0.9525 - val_loss: 1.2839 - val_acc: 0.5000\n",
            "Epoch 29/30\n",
            "100/100 [==============================] - 20s 203ms/step - loss: 0.1309 - acc: 0.9475 - val_loss: 0.9534 - val_acc: 0.5000\n",
            "Epoch 30/30\n",
            "100/100 [==============================] - 20s 201ms/step - loss: 0.1127 - acc: 0.9550 - val_loss: 1.7317 - val_acc: 0.5000\n"
          ],
          "name": "stdout"
        }
      ]
    },
    {
      "cell_type": "markdown",
      "metadata": {
        "id": "xqRc_vHKc92U",
        "colab_type": "text"
      },
      "source": [
        "## Display curves of loss and accuracy during training"
      ]
    },
    {
      "cell_type": "code",
      "metadata": {
        "id": "ybWwdzz9bwuQ",
        "colab_type": "code",
        "colab": {
          "base_uri": "https://localhost:8080/",
          "height": 545
        },
        "outputId": "538facd2-c3db-4948-a657-0ba92dd37c22"
      },
      "source": [
        "%matplotlib inline\n",
        "\n",
        "import matplotlib.pyplot as plt\n",
        "\n",
        "acc = history.history['acc']\n",
        "val_acc = history.history['val_acc']\n",
        "\n",
        "loss = history.history['loss']\n",
        "val_loss = history.history['val_loss']\n",
        "\n",
        "epochs = range(1, len(acc) + 1)\n",
        "\n",
        "# training and validation accuracy\n",
        "\n",
        "plt.plot(epochs, acc, 'bo', label='training acc')\n",
        "plt.plot(epochs, val_acc, 'b', label='validation acc')\n",
        "plt.title('training and validation accuracy')\n",
        "plt.legend()\n",
        "\n",
        "plt.figure()\n",
        "\n",
        "# training and validation loss\n",
        "\n",
        "plt.plot(epochs, loss, 'bo', label='training loss')\n",
        "plt.plot(epochs, val_loss, 'b', label='validation loss')\n",
        "plt.title('training and validation loss')\n",
        "plt.legend()\n",
        "\n",
        "plt.show()"
      ],
      "execution_count": 17,
      "outputs": [
        {
          "output_type": "display_data",
          "data": {
            "image/png": "[encoded data removed]",
            "text/plain": [
              "<Figure size 432x288 with 1 Axes>"
            ]
          },
          "metadata": {
            "tags": [],
            "needs_background": "light"
          }
        },
        {
          "output_type": "display_data",
          "data": {
            "image/png": "[encoded data removed]",
            "text/plain": [
              "<Figure size 432x288 with 1 Axes>"
            ]
          },
          "metadata": {
            "tags": [],
            "needs_background": "light"
          }
        }
      ]
    },
    {
      "cell_type": "markdown",
      "metadata": {
        "id": "lOWsxpey8lN0",
        "colab_type": "text"
      },
      "source": [
        "## Fine-tuning"
      ]
    },
    {
      "cell_type": "code",
      "metadata": {
        "id": "PwkVMx8N8qMw",
        "colab_type": "code",
        "colab": {}
      },
      "source": [
        "conv_base.trainable = True\n",
        "\n",
        "set_trainable = False\n",
        "for layer in conv_base.layers:\n",
        "  if layer.name == 'conv5_block3_3_conv': ## change frozen layer\n",
        "    set_trainable = True\n",
        "  if set_trainable:\n",
        "    layer.trainable = True\n",
        "  else:\n",
        "    layer.trainable = False"
      ],
      "execution_count": 0,
      "outputs": []
    },
    {
      "cell_type": "code",
      "metadata": {
        "id": "DyN-J7rs9cvo",
        "colab_type": "code",
        "colab": {
          "base_uri": "https://localhost:8080/",
          "height": 1000
        },
        "outputId": "3744f3eb-e51a-4c05-e3bb-16084050f90e"
      },
      "source": [
        "# compile model\n",
        "\n",
        "model.compile(\n",
        "    loss='binary_crossentropy',\n",
        "    #\n",
        "    # choose a smaller learning rate\n",
        "    #\n",
        "    optimizer=optimizers.RMSprop(lr=1e-5), \n",
        "    metrics=['acc'])\n",
        "\n",
        "# train\n",
        "\n",
        "history = model.fit_generator(\n",
        "    train_generator,\n",
        "    steps_per_epoch=100,\n",
        "    epochs=100,\n",
        "    validation_data=validation_generator,\n",
        "    validation_steps=50)"
      ],
      "execution_count": 19,
      "outputs": [
        {
          "output_type": "stream",
          "text": [
            "Epoch 1/100\n",
            "100/100 [==============================] - 25s 255ms/step - loss: 0.1131 - acc: 0.9555 - val_loss: 1.2648 - val_acc: 0.5000\n",
            "Epoch 2/100\n",
            "100/100 [==============================] - 21s 206ms/step - loss: 0.1471 - acc: 0.9455 - val_loss: 4.3638 - val_acc: 0.4970\n",
            "Epoch 3/100\n",
            "100/100 [==============================] - 20s 203ms/step - loss: 0.1447 - acc: 0.9475 - val_loss: 6.8550 - val_acc: 0.4870\n",
            "Epoch 4/100\n",
            "100/100 [==============================] - 20s 203ms/step - loss: 0.1263 - acc: 0.9500 - val_loss: 5.0183 - val_acc: 0.4830\n",
            "Epoch 5/100\n",
            "100/100 [==============================] - 20s 203ms/step - loss: 0.0994 - acc: 0.9645 - val_loss: 2.4054 - val_acc: 0.4980\n",
            "Epoch 6/100\n",
            "100/100 [==============================] - 20s 205ms/step - loss: 0.1173 - acc: 0.9525 - val_loss: 0.9541 - val_acc: 0.5870\n",
            "Epoch 7/100\n",
            "100/100 [==============================] - 20s 204ms/step - loss: 0.1068 - acc: 0.9585 - val_loss: 0.7176 - val_acc: 0.7170\n",
            "Epoch 8/100\n",
            "100/100 [==============================] - 20s 203ms/step - loss: 0.1065 - acc: 0.9580 - val_loss: 0.6475 - val_acc: 0.8410\n",
            "Epoch 9/100\n",
            "100/100 [==============================] - 20s 203ms/step - loss: 0.1013 - acc: 0.9660 - val_loss: 0.2520 - val_acc: 0.9060\n",
            "Epoch 10/100\n",
            "100/100 [==============================] - 20s 204ms/step - loss: 0.1140 - acc: 0.9580 - val_loss: 0.2593 - val_acc: 0.9370\n",
            "Epoch 11/100\n",
            "100/100 [==============================] - 20s 204ms/step - loss: 0.1289 - acc: 0.9610 - val_loss: 0.1961 - val_acc: 0.9450\n",
            "Epoch 12/100\n",
            "100/100 [==============================] - 20s 204ms/step - loss: 0.1106 - acc: 0.9580 - val_loss: 0.0613 - val_acc: 0.9570\n",
            "Epoch 13/100\n",
            "100/100 [==============================] - 20s 204ms/step - loss: 0.0988 - acc: 0.9635 - val_loss: 0.1119 - val_acc: 0.9510\n",
            "Epoch 14/100\n",
            "100/100 [==============================] - 21s 205ms/step - loss: 0.1261 - acc: 0.9535 - val_loss: 0.0710 - val_acc: 0.9380\n",
            "Epoch 15/100\n",
            "100/100 [==============================] - 20s 201ms/step - loss: 0.1012 - acc: 0.9605 - val_loss: 0.2442 - val_acc: 0.9510\n",
            "Epoch 16/100\n",
            "100/100 [==============================] - 20s 202ms/step - loss: 0.0900 - acc: 0.9670 - val_loss: 0.0054 - val_acc: 0.9560\n",
            "Epoch 17/100\n",
            "100/100 [==============================] - 20s 201ms/step - loss: 0.1054 - acc: 0.9630 - val_loss: 0.0036 - val_acc: 0.9570\n",
            "Epoch 18/100\n",
            "100/100 [==============================] - 20s 202ms/step - loss: 0.0951 - acc: 0.9610 - val_loss: 0.0339 - val_acc: 0.9430\n",
            "Epoch 19/100\n",
            "100/100 [==============================] - 20s 199ms/step - loss: 0.1037 - acc: 0.9580 - val_loss: 0.6949 - val_acc: 0.9500\n",
            "Epoch 20/100\n",
            "100/100 [==============================] - 20s 200ms/step - loss: 0.1044 - acc: 0.9660 - val_loss: 0.4409 - val_acc: 0.9410\n",
            "Epoch 21/100\n",
            "100/100 [==============================] - 20s 200ms/step - loss: 0.1019 - acc: 0.9625 - val_loss: 0.1711 - val_acc: 0.9530\n",
            "Epoch 22/100\n",
            "100/100 [==============================] - 20s 200ms/step - loss: 0.0910 - acc: 0.9660 - val_loss: 1.1131 - val_acc: 0.9530\n",
            "Epoch 23/100\n",
            "100/100 [==============================] - 20s 201ms/step - loss: 0.0956 - acc: 0.9620 - val_loss: 0.0052 - val_acc: 0.9550\n",
            "Epoch 24/100\n",
            "100/100 [==============================] - 20s 200ms/step - loss: 0.1002 - acc: 0.9690 - val_loss: 0.0150 - val_acc: 0.9500\n",
            "Epoch 25/100\n",
            "100/100 [==============================] - 20s 198ms/step - loss: 0.1052 - acc: 0.9650 - val_loss: 0.2991 - val_acc: 0.9480\n",
            "Epoch 26/100\n",
            "100/100 [==============================] - 20s 201ms/step - loss: 0.1123 - acc: 0.9605 - val_loss: 0.0395 - val_acc: 0.9470\n",
            "Epoch 27/100\n",
            "100/100 [==============================] - 20s 199ms/step - loss: 0.0911 - acc: 0.9650 - val_loss: 0.0232 - val_acc: 0.9540\n",
            "Epoch 28/100\n",
            "100/100 [==============================] - 20s 201ms/step - loss: 0.1023 - acc: 0.9595 - val_loss: 0.0866 - val_acc: 0.9410\n",
            "Epoch 29/100\n",
            "100/100 [==============================] - 20s 200ms/step - loss: 0.0933 - acc: 0.9670 - val_loss: 0.0625 - val_acc: 0.9480\n",
            "Epoch 30/100\n",
            "100/100 [==============================] - 20s 201ms/step - loss: 0.0776 - acc: 0.9680 - val_loss: 0.1071 - val_acc: 0.9370\n",
            "Epoch 31/100\n",
            "100/100 [==============================] - 20s 200ms/step - loss: 0.0713 - acc: 0.9725 - val_loss: 0.6472 - val_acc: 0.9500\n",
            "Epoch 32/100\n",
            "100/100 [==============================] - 20s 199ms/step - loss: 0.0982 - acc: 0.9615 - val_loss: 0.2226 - val_acc: 0.9460\n",
            "Epoch 33/100\n",
            "100/100 [==============================] - 20s 200ms/step - loss: 0.0845 - acc: 0.9680 - val_loss: 0.0955 - val_acc: 0.9430\n",
            "Epoch 34/100\n",
            "100/100 [==============================] - 20s 201ms/step - loss: 0.0829 - acc: 0.9675 - val_loss: 0.2341 - val_acc: 0.9510\n",
            "Epoch 35/100\n",
            "100/100 [==============================] - 20s 200ms/step - loss: 0.0786 - acc: 0.9690 - val_loss: 0.3440 - val_acc: 0.9500\n",
            "Epoch 36/100\n",
            "100/100 [==============================] - 20s 200ms/step - loss: 0.1117 - acc: 0.9650 - val_loss: 0.0180 - val_acc: 0.9530\n",
            "Epoch 37/100\n",
            "100/100 [==============================] - 20s 199ms/step - loss: 0.0976 - acc: 0.9630 - val_loss: 0.2541 - val_acc: 0.9500\n",
            "Epoch 38/100\n",
            "100/100 [==============================] - 20s 201ms/step - loss: 0.0770 - acc: 0.9745 - val_loss: 0.2912 - val_acc: 0.9420\n",
            "Epoch 39/100\n",
            "100/100 [==============================] - 20s 200ms/step - loss: 0.0905 - acc: 0.9660 - val_loss: 0.3564 - val_acc: 0.9590\n",
            "Epoch 40/100\n",
            "100/100 [==============================] - 20s 201ms/step - loss: 0.0879 - acc: 0.9670 - val_loss: 0.1955 - val_acc: 0.9430\n",
            "Epoch 41/100\n",
            "100/100 [==============================] - 20s 199ms/step - loss: 0.0819 - acc: 0.9715 - val_loss: 0.3768 - val_acc: 0.9550\n",
            "Epoch 42/100\n",
            "100/100 [==============================] - 20s 201ms/step - loss: 0.0848 - acc: 0.9665 - val_loss: 0.0181 - val_acc: 0.9460\n",
            "Epoch 43/100\n",
            "100/100 [==============================] - 20s 200ms/step - loss: 0.0823 - acc: 0.9710 - val_loss: 0.2965 - val_acc: 0.9400\n",
            "Epoch 44/100\n",
            "100/100 [==============================] - 20s 200ms/step - loss: 0.0715 - acc: 0.9740 - val_loss: 0.0314 - val_acc: 0.9490\n",
            "Epoch 45/100\n",
            "100/100 [==============================] - 20s 199ms/step - loss: 0.0768 - acc: 0.9730 - val_loss: 0.3012 - val_acc: 0.9520\n",
            "Epoch 46/100\n",
            "100/100 [==============================] - 20s 200ms/step - loss: 0.0783 - acc: 0.9725 - val_loss: 0.1522 - val_acc: 0.9400\n",
            "Epoch 47/100\n",
            "100/100 [==============================] - 20s 200ms/step - loss: 0.0771 - acc: 0.9750 - val_loss: 0.5203 - val_acc: 0.9490\n",
            "Epoch 48/100\n",
            "100/100 [==============================] - 20s 200ms/step - loss: 0.0779 - acc: 0.9680 - val_loss: 0.0043 - val_acc: 0.9470\n",
            "Epoch 49/100\n",
            "100/100 [==============================] - 20s 201ms/step - loss: 0.0955 - acc: 0.9700 - val_loss: 0.1407 - val_acc: 0.9500\n",
            "Epoch 50/100\n",
            "100/100 [==============================] - 20s 201ms/step - loss: 0.0849 - acc: 0.9690 - val_loss: 0.0046 - val_acc: 0.9560\n",
            "Epoch 51/100\n",
            "100/100 [==============================] - 21s 207ms/step - loss: 0.0886 - acc: 0.9665 - val_loss: 0.0913 - val_acc: 0.9540\n",
            "Epoch 52/100\n",
            "100/100 [==============================] - 21s 206ms/step - loss: 0.0673 - acc: 0.9740 - val_loss: 0.0032 - val_acc: 0.9520\n",
            "Epoch 53/100\n",
            "100/100 [==============================] - 21s 208ms/step - loss: 0.0800 - acc: 0.9725 - val_loss: 3.4114e-04 - val_acc: 0.9550\n",
            "Epoch 54/100\n",
            "100/100 [==============================] - 20s 204ms/step - loss: 0.0801 - acc: 0.9720 - val_loss: 0.0388 - val_acc: 0.9550\n",
            "Epoch 55/100\n",
            "100/100 [==============================] - 20s 201ms/step - loss: 0.0694 - acc: 0.9715 - val_loss: 0.2053 - val_acc: 0.9510\n",
            "Epoch 56/100\n",
            "100/100 [==============================] - 20s 200ms/step - loss: 0.0786 - acc: 0.9720 - val_loss: 0.0112 - val_acc: 0.9550\n",
            "Epoch 57/100\n",
            "100/100 [==============================] - 20s 203ms/step - loss: 0.0869 - acc: 0.9665 - val_loss: 0.0210 - val_acc: 0.9500\n",
            "Epoch 58/100\n",
            "100/100 [==============================] - 20s 204ms/step - loss: 0.0722 - acc: 0.9725 - val_loss: 0.0196 - val_acc: 0.9510\n",
            "Epoch 59/100\n",
            "100/100 [==============================] - 20s 204ms/step - loss: 0.0747 - acc: 0.9750 - val_loss: 0.0329 - val_acc: 0.9450\n",
            "Epoch 60/100\n",
            "100/100 [==============================] - 21s 206ms/step - loss: 0.0684 - acc: 0.9755 - val_loss: 0.0282 - val_acc: 0.9500\n",
            "Epoch 61/100\n",
            "100/100 [==============================] - 20s 204ms/step - loss: 0.0812 - acc: 0.9735 - val_loss: 0.3021 - val_acc: 0.9540\n",
            "Epoch 62/100\n",
            "100/100 [==============================] - 21s 206ms/step - loss: 0.0814 - acc: 0.9715 - val_loss: 0.3198 - val_acc: 0.9550\n",
            "Epoch 63/100\n",
            "100/100 [==============================] - 20s 204ms/step - loss: 0.0658 - acc: 0.9735 - val_loss: 0.3718 - val_acc: 0.9540\n",
            "Epoch 64/100\n",
            "100/100 [==============================] - 21s 205ms/step - loss: 0.0746 - acc: 0.9700 - val_loss: 0.0951 - val_acc: 0.9490\n",
            "Epoch 65/100\n",
            "100/100 [==============================] - 21s 205ms/step - loss: 0.0864 - acc: 0.9710 - val_loss: 0.6036 - val_acc: 0.9450\n",
            "Epoch 66/100\n",
            "100/100 [==============================] - 21s 206ms/step - loss: 0.0682 - acc: 0.9775 - val_loss: 0.2284 - val_acc: 0.9550\n",
            "Epoch 67/100\n",
            "100/100 [==============================] - 21s 206ms/step - loss: 0.0629 - acc: 0.9755 - val_loss: 0.2542 - val_acc: 0.9460\n",
            "Epoch 68/100\n",
            "100/100 [==============================] - 21s 207ms/step - loss: 0.0655 - acc: 0.9740 - val_loss: 0.2244 - val_acc: 0.9470\n",
            "Epoch 69/100\n",
            "100/100 [==============================] - 21s 209ms/step - loss: 0.0720 - acc: 0.9715 - val_loss: 0.0372 - val_acc: 0.9500\n",
            "Epoch 70/100\n",
            "100/100 [==============================] - 21s 208ms/step - loss: 0.0547 - acc: 0.9770 - val_loss: 0.8372 - val_acc: 0.9470\n",
            "Epoch 71/100\n",
            "100/100 [==============================] - 21s 207ms/step - loss: 0.0648 - acc: 0.9780 - val_loss: 0.5343 - val_acc: 0.9520\n",
            "Epoch 72/100\n",
            "100/100 [==============================] - 21s 206ms/step - loss: 0.0771 - acc: 0.9750 - val_loss: 0.0397 - val_acc: 0.9570\n",
            "Epoch 73/100\n",
            "100/100 [==============================] - 20s 204ms/step - loss: 0.0543 - acc: 0.9775 - val_loss: 0.1707 - val_acc: 0.9590\n",
            "Epoch 74/100\n",
            "100/100 [==============================] - 20s 205ms/step - loss: 0.0743 - acc: 0.9755 - val_loss: 0.1996 - val_acc: 0.9550\n",
            "Epoch 75/100\n",
            "100/100 [==============================] - 20s 200ms/step - loss: 0.0632 - acc: 0.9755 - val_loss: 0.2994 - val_acc: 0.9510\n",
            "Epoch 76/100\n",
            "100/100 [==============================] - 20s 203ms/step - loss: 0.0533 - acc: 0.9805 - val_loss: 0.0611 - val_acc: 0.9520\n",
            "Epoch 77/100\n",
            "100/100 [==============================] - 20s 203ms/step - loss: 0.0723 - acc: 0.9745 - val_loss: 0.1454 - val_acc: 0.9560\n",
            "Epoch 78/100\n",
            "100/100 [==============================] - 20s 203ms/step - loss: 0.0607 - acc: 0.9755 - val_loss: 0.8760 - val_acc: 0.9500\n",
            "Epoch 79/100\n",
            "100/100 [==============================] - 20s 202ms/step - loss: 0.0537 - acc: 0.9790 - val_loss: 0.0207 - val_acc: 0.9520\n",
            "Epoch 80/100\n",
            "100/100 [==============================] - 20s 202ms/step - loss: 0.0632 - acc: 0.9755 - val_loss: 0.0105 - val_acc: 0.9580\n",
            "Epoch 81/100\n",
            "100/100 [==============================] - 20s 201ms/step - loss: 0.0735 - acc: 0.9760 - val_loss: 0.1002 - val_acc: 0.9540\n",
            "Epoch 82/100\n",
            "100/100 [==============================] - 20s 203ms/step - loss: 0.0634 - acc: 0.9770 - val_loss: 0.0140 - val_acc: 0.9460\n",
            "Epoch 83/100\n",
            "100/100 [==============================] - 20s 201ms/step - loss: 0.0641 - acc: 0.9770 - val_loss: 0.1502 - val_acc: 0.9520\n",
            "Epoch 84/100\n",
            "100/100 [==============================] - 20s 203ms/step - loss: 0.0712 - acc: 0.9740 - val_loss: 0.2765 - val_acc: 0.9540\n",
            "Epoch 85/100\n",
            "100/100 [==============================] - 20s 201ms/step - loss: 0.0518 - acc: 0.9840 - val_loss: 0.8355 - val_acc: 0.9560\n",
            "Epoch 86/100\n",
            "100/100 [==============================] - 20s 202ms/step - loss: 0.0670 - acc: 0.9795 - val_loss: 0.4754 - val_acc: 0.9550\n",
            "Epoch 87/100\n",
            "100/100 [==============================] - 20s 201ms/step - loss: 0.0615 - acc: 0.9740 - val_loss: 0.1610 - val_acc: 0.9570\n",
            "Epoch 88/100\n",
            "100/100 [==============================] - 20s 201ms/step - loss: 0.0609 - acc: 0.9800 - val_loss: 0.0623 - val_acc: 0.9540\n",
            "Epoch 89/100\n",
            "100/100 [==============================] - 20s 200ms/step - loss: 0.0788 - acc: 0.9780 - val_loss: 0.0023 - val_acc: 0.9560\n",
            "Epoch 90/100\n",
            "100/100 [==============================] - 20s 198ms/step - loss: 0.0720 - acc: 0.9775 - val_loss: 0.0093 - val_acc: 0.9540\n",
            "Epoch 91/100\n",
            "100/100 [==============================] - 20s 196ms/step - loss: 0.0705 - acc: 0.9745 - val_loss: 0.0192 - val_acc: 0.9590\n",
            "Epoch 92/100\n",
            "100/100 [==============================] - 20s 197ms/step - loss: 0.0626 - acc: 0.9775 - val_loss: 0.4433 - val_acc: 0.9560\n",
            "Epoch 93/100\n",
            "100/100 [==============================] - 20s 197ms/step - loss: 0.0541 - acc: 0.9745 - val_loss: 0.0018 - val_acc: 0.9520\n",
            "Epoch 94/100\n",
            "100/100 [==============================] - 20s 198ms/step - loss: 0.0616 - acc: 0.9790 - val_loss: 0.1128 - val_acc: 0.9520\n",
            "Epoch 95/100\n",
            "100/100 [==============================] - 20s 197ms/step - loss: 0.0583 - acc: 0.9755 - val_loss: 0.0126 - val_acc: 0.9510\n",
            "Epoch 96/100\n",
            "100/100 [==============================] - 20s 197ms/step - loss: 0.0518 - acc: 0.9790 - val_loss: 0.1072 - val_acc: 0.9490\n",
            "Epoch 97/100\n",
            "100/100 [==============================] - 20s 197ms/step - loss: 0.0549 - acc: 0.9810 - val_loss: 0.0246 - val_acc: 0.9450\n",
            "Epoch 98/100\n",
            "100/100 [==============================] - 20s 198ms/step - loss: 0.0547 - acc: 0.9820 - val_loss: 0.3917 - val_acc: 0.9520\n",
            "Epoch 99/100\n",
            "100/100 [==============================] - 20s 197ms/step - loss: 0.0627 - acc: 0.9775 - val_loss: 0.0900 - val_acc: 0.9510\n",
            "Epoch 100/100\n",
            "100/100 [==============================] - 20s 198ms/step - loss: 0.0561 - acc: 0.9790 - val_loss: 0.0991 - val_acc: 0.9560\n"
          ],
          "name": "stdout"
        }
      ]
    },
    {
      "cell_type": "markdown",
      "metadata": {
        "id": "eVBQgh5M-Rtz",
        "colab_type": "text"
      },
      "source": [
        "## Display learning curves during fine-tuning"
      ]
    },
    {
      "cell_type": "code",
      "metadata": {
        "id": "mbkIw7Ie-NP4",
        "colab_type": "code",
        "colab": {
          "base_uri": "https://localhost:8080/",
          "height": 545
        },
        "outputId": "0e593b16-1ec0-4e83-f6fd-b7bd2312fbd1"
      },
      "source": [
        "%matplotlib inline\n",
        "\n",
        "import matplotlib.pyplot as plt\n",
        "\n",
        "acc = history.history['acc']\n",
        "val_acc = history.history['val_acc']\n",
        "\n",
        "loss = history.history['loss']\n",
        "val_loss = history.history['val_loss']\n",
        "\n",
        "epochs = range(1, len(acc) + 1)\n",
        "\n",
        "# training and validation accuracy\n",
        "\n",
        "plt.plot(epochs, acc, 'bo', label='training acc')\n",
        "plt.plot(epochs, val_acc, 'b', label='validation acc')\n",
        "plt.title('training and validation accuracy')\n",
        "plt.legend()\n",
        "\n",
        "plt.figure()\n",
        "\n",
        "# training and validation loss\n",
        "\n",
        "plt.plot(epochs, loss, 'bo', label='training loss')\n",
        "plt.plot(epochs, val_loss, 'b', label='validation loss')\n",
        "plt.title('training and validation loss')\n",
        "plt.legend()\n",
        "\n",
        "plt.show()"
      ],
      "execution_count": 20,
      "outputs": [
        {
          "output_type": "display_data",
          "data": {
            "image/png": "[encoded data removed]",
            "text/plain": [
              "<Figure size 432x288 with 1 Axes>"
            ]
          },
          "metadata": {
            "tags": [],
            "needs_background": "light"
          }
        },
        {
          "output_type": "display_data",
          "data": {
            "image/png": "[encoded data removed]",
            "text/plain": [
              "<Figure size 432x288 with 1 Axes>"
            ]
          },
          "metadata": {
            "tags": [],
            "needs_background": "light"
          }
        }
      ]
    },
    {
      "cell_type": "markdown",
      "metadata": {
        "id": "obQi6N4ZShdi",
        "colab_type": "text"
      },
      "source": [
        "This looks like overfitting. I should try  adding dropout for the densely connected layer."
      ]
    },
    {
      "cell_type": "markdown",
      "metadata": {
        "id": "he3Nw6TOJwjx",
        "colab_type": "text"
      },
      "source": [
        "## Print out validation loss and accuracy"
      ]
    },
    {
      "cell_type": "code",
      "metadata": {
        "id": "SVQtrk7uJdhl",
        "colab_type": "code",
        "colab": {}
      },
      "source": [
        "val_loss, val_acc = model.evaluate_generator(validation_generator, steps=50)"
      ],
      "execution_count": 0,
      "outputs": []
    },
    {
      "cell_type": "code",
      "metadata": {
        "id": "HpdddLi1SUMe",
        "colab_type": "code",
        "colab": {
          "base_uri": "https://localhost:8080/",
          "height": 51
        },
        "outputId": "c42a2c4b-3e84-4562-fad2-cae35da85cec"
      },
      "source": [
        "print(\"Validation loss:\", val_loss)\n",
        "print(\"Validation accuracy:\", val_acc)"
      ],
      "execution_count": 22,
      "outputs": [
        {
          "output_type": "stream",
          "text": [
            "Validation loss: 0.535319983959198\n",
            "Validation accuracy: 0.9559999704360962\n"
          ],
          "name": "stdout"
        }
      ]
    },
    {
      "cell_type": "markdown",
      "metadata": {
        "id": "7Ww756WToby8",
        "colab_type": "text"
      },
      "source": [
        "## Save the model"
      ]
    },
    {
      "cell_type": "code",
      "metadata": {
        "id": "0lTUpUdwobKW",
        "colab_type": "code",
        "colab": {}
      },
      "source": [
        "model_fname = 'cats_and_dogs_small_4.h5' \n",
        "model.save(model_fname)"
      ],
      "execution_count": 0,
      "outputs": []
    }
  ]
}